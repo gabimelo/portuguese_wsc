{
 "cells": [
  {
   "cell_type": "code",
   "execution_count": 1,
   "metadata": {},
   "outputs": [],
   "source": [
    "import os\n",
    "os.chdir('..')\n",
    "\n",
    "%load_ext autoreload\n",
    "%autoreload 2"
   ]
  },
  {
   "cell_type": "code",
   "execution_count": 2,
   "metadata": {},
   "outputs": [],
   "source": [
    "import torch\n",
    "\n",
    "from src.consts import *\n",
    "from src.main import main, setup_torch, get_corpus\n",
    "from src.utils import get_latest_model_file\n",
    "from src.generation import generate"
   ]
  },
  {
   "cell_type": "code",
   "execution_count": 3,
   "metadata": {},
   "outputs": [],
   "source": [
    "setup_torch()\n",
    "device = torch.device(\"cuda\" if USE_CUDA else \"cpu\")\n",
    "corpus = get_corpus()\n",
    "ntokens = len(corpus.dictionary)\n",
    "\n",
    "# TODO remove these two lines\n",
    "assert ntokens == 602755\n",
    "assert corpus.valid.size()[0] == 11606861\n",
    "assert corpus.train.max() < ntokens\n",
    "assert corpus.valid.max() < ntokens\n",
    "assert corpus.test.max() < ntokens"
   ]
  },
  {
   "cell_type": "code",
   "execution_count": 4,
   "metadata": {},
   "outputs": [],
   "source": [
    "model_file_name = get_latest_model_file()"
   ]
  },
  {
   "cell_type": "code",
   "execution_count": 5,
   "metadata": {},
   "outputs": [],
   "source": [
    "words, words_probs = generate(model_file_name, corpus, ntokens, device)"
   ]
  },
  {
   "cell_type": "code",
   "execution_count": 6,
   "metadata": {},
   "outputs": [
    {
     "data": {
      "text/plain": [
       "\"'± e vangloriava . * Naquela época , o alemão α , veio a vida do masculino e o via de até 1921 , qualquer coisa que daria emprego apenas na mesma edição , a qual dois eram removidos para historiadores . E porque seis países foram o executor `` <UNK> '' . == Ver também == * Ficção humano-computador * <UNK> * Revista literária * <UNK> * Desenho * Moeda == Bibliografia == * KARDEC , Luis . `` Cartoons e Rainhas '' . * CHIAVENATO , Francis . será jornalista . Fragmentos , `` O prisioneiro do Labirinto de São Paulo '' – Ed. Kelps , 2005 . * <UNK> , `` Bahia e Prosa '' , 1984 – ISBN <UNK> , APRH <UNK> , 1958 * CHARLES , Sérgio Vieira ; pref . 1890 ; proposta ? Revista Papel Gonzáles ; E. J. Metamorfose 1998 ; Prefeitura da Cia . Ivo Varela ; E. A. ; « dos Segredos de Renato Ruivo » ; * # Clara Aranha * Helena <UNK> ; Os Três Caçadores do Mundo Novo ; <UNK> , 1982 . == Ver também == * AZEVEDO , Argan * <UNK> * Cosmovisão * Responsabilidade Forense * Análise de transferência de <UNK> * Ciências Biológicas Básicos * Planejamento do Medicina * Genética * Conferência Geral * Human * Variedades de Genética == Ligações externas == * Categoria : <UNK> Categoria : Espécies descritas em vigor a <UNK> Categoria : Membros do <UNK> do Renascimento <eos> As armas que ocorrem estão para os costões de tubarões , alemão , insular , prata , oxigênio , etc . Em Assam , 60 % do gás está bem perto de um centro de produção de animais além das raias . === Posição === liderou um campo planetário , representando a velocidade do solo e o aumento de custos , diminuindo o grau de saturação . Abaixo dos lugares relativamente férteis , pensava-se a agricultura e a ecologia . Muitas dessas doenças dependem das das algas marinhas em 2006-07 e presentes no solo . A maioria deles compõem os <UNK> - - Morimoto ou Marañon . Depois com a criação de árvores nas cadeias centrais , a biblioteca é a estrutura de que o meio ambiente podem ser desfeitas por associados e geneticamente derivados que tenham maior influência da cultura gaúcha . : a tarefa de criação de um Estado onde um dependem para evitar a descaracterização , também na verdade , pode ser considerada com tudo ainda conhecido ( por exemplo , onde `` <UNK> '' significa zona de relevo reconstruído ) ; ex. , os blocos periféricos formam fio em relação à posição do <UNK> e é um outro tipo de base . : O nome são amplamente expressos , mas são encontrados para '' , e em primeiro lugar dirigido : `` Blumenau ' '' Ao campo da visitando um centro ambiente que associamos a Porto e um outro percurso '' '' . A partir da segunda década de 1930 , a posse de conjunto de mercadorias é de seus serviços naturais em relação à `` Macaé '' de dois andares de Melão , anteriormente planejado para o surgimento de um município de Sertãozinho . Atualmente , duas indústrias de comunicação na cidade como freguesia dão o nome de cidade de Tonga . Abrangendo alguns 12 % do total de pelo então Itajaí está experimentando dados de competições ambientalistas ( no total da migração com a primeira maior cidade da América Central do país ) . Exportações do município , integrante de 20.º distrito no Rio Grande do Norte ; incluindo a Costa Rica , a Ponta Negra ( <UNK> ) , prosperou a partir de 1949 ; Apesar de algumas dívidas e constantes taxas ( tais como características do pedestrianismo ) e na via noroeste do centro Minho , proliferaram os termos igualitários do mercado urbano de São Paulo . Exportações dos bens fornecidos por Comissão de Abastecimento Saint Victoria MPB mais conhecidos pela imigração na cidade . == Feriados == * `` Talentos Foot Club - São Corações '' - 4 de janeiro de 2018 * `` Hamani Mantega '' - 20 de dezembro a 2012 Populares - antigo Centro Oficial Jornalista José da Silva Júnior e Albino D.Henrique ; Presidente da 1ª semana de maio : o Papa Paulo I == Ver também == * Lista de campeões brasileiros da Portugal * Lista de cinco países * Missões diplomáticas da Colômbia * Lista da Gol * Missões diplomáticas de Espanha ; Marcelo das Missões ( 2003 ) * Revista altaica ( igreja ) * Adjunto da língua indonésia , <UNK> e <UNK> : Banda Geral Brasileira - Fundo Futebol Clube . * * * Videos ( `` Cosmos '' ) . A Gramática do Povo ao Sul * História de Capoeira e cultura dos Estados Unidos * Mestre de História de Santa Cruz Gomes de Brito <UNK> * História da África dos Camarões * Revista Brasileira * Música Brasileira * Língua das Três Famílias entrever na diáspora . * Lista oficial de grupos e colectividades da nação * Desporto de Angola === Bibliografia === * BUENO , Parshall , `` Um método ilustrado '' . São Paulo : Nova Fronteira , 2003 . * '' <UNK> '' , 1o. sociedad , 1988 . * <UNK> , Fernando <UNK> de Belén , Desenhos de Srbek , Cuban casa de razón , <UNK> Donzel , Ruggero An . Ambrosii de Tanta Le marca Ferrara . Salvador : PUF , 2014 . Luanda . Disponível em : Ensaio , Direito <UNK> , Rio Negro . São Paulo : Editora Ladeira , v . 6 . <UNK> , B. . maximus , Monday . <UNK> . San Paulo : Martins , 1972 . <UNK> . « `` São macumba de seda '' ; São Paulo : Corrupio : <UNK> , 1996 . * SELBACH , coord . sj ... . Fão , Seminário de Pedro saudamos ( 3ª\""
      ]
     },
     "execution_count": 6,
     "metadata": {},
     "output_type": "execute_result"
    }
   ],
   "source": [
    "(' ').join(words)"
   ]
  },
  {
   "cell_type": "code",
   "execution_count": null,
   "metadata": {},
   "outputs": [],
   "source": []
  }
 ],
 "metadata": {
  "kernelspec": {
   "display_name": "wsc_port",
   "language": "python",
   "name": "wsc_port"
  },
  "language_info": {
   "codemirror_mode": {
    "name": "ipython",
    "version": 3
   },
   "file_extension": ".py",
   "mimetype": "text/x-python",
   "name": "python",
   "nbconvert_exporter": "python",
   "pygments_lexer": "ipython3",
   "version": "3.6.8"
  }
 },
 "nbformat": 4,
 "nbformat_minor": 2
}
