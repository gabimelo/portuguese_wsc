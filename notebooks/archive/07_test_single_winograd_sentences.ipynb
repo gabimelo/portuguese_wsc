{
 "cells": [
  {
   "cell_type": "code",
   "execution_count": 1,
   "metadata": {},
   "outputs": [],
   "source": [
    "import os\n",
    "os.chdir('..')\n",
    "\n",
    "%load_ext autoreload\n",
    "%autoreload 2"
   ]
  },
  {
   "cell_type": "code",
   "execution_count": 2,
   "metadata": {},
   "outputs": [],
   "source": [
    "import torch\n",
    "\n",
    "from src.main import setup_torch, get_corpus\n",
    "from src.utils import get_latest_model_file\n",
    "from src.winograd_schema_challenge import analyse_single_wsc"
   ]
  },
  {
   "cell_type": "code",
   "execution_count": 3,
   "metadata": {},
   "outputs": [],
   "source": [
    "setup_torch()\n",
    "device = torch.device(\"cuda\")\n",
    "corpus = get_corpus()\n",
    "ntokens = len(corpus.dictionary)\n",
    "\n",
    "# TODO remove these two lines\n",
    "assert ntokens == 602755\n",
    "assert corpus.valid.size()[0] == 11606861\n",
    "assert corpus.train.max() < ntokens\n",
    "assert corpus.valid.max() < ntokens\n",
    "assert corpus.test.max() < ntokens"
   ]
  },
  {
   "cell_type": "code",
   "execution_count": 4,
   "metadata": {},
   "outputs": [],
   "source": [
    "model_file_name = get_latest_model_file()"
   ]
  },
  {
   "cell_type": "code",
   "execution_count": 5,
   "metadata": {},
   "outputs": [
    {
     "name": "stderr",
     "output_type": "stream",
     "text": [
      "/home/gabrielamelo/anaconda3/envs/wsc_port/lib/python3.6/site-packages/torch/serialization.py:435: SourceChangeWarning: source code of class 'src.model.RNNModel' has changed. you can retrieve the original source code by accessing the object's source attribute or set `torch.nn.Module.dump_patches = True` and use the patch tool to revert the changes.\n",
      "  warnings.warn(msg, SourceChangeWarning)\n"
     ]
    },
    {
     "name": "stdout",
     "output_type": "stream",
     "text": [
      "Wrong :(\n"
     ]
    }
   ],
   "source": [
    "if analyse_single_wsc(model_file_name, corpus, ntokens, device,\n",
    "                      'A régua não coube na mochila porque a régua é grande .',\n",
    "                      'A régua não coube na mochila porque a mochila é grande .'):\n",
    "    print('Right choice :D')\n",
    "else:\n",
    "    print('Wrong :(')"
   ]
  },
  {
   "cell_type": "code",
   "execution_count": 6,
   "metadata": {},
   "outputs": [],
   "source": [
    "# always put corect first\n",
    "list_of_winograds = [\n",
    "    ('Os vereadores recusaram a autorização aos manifestantes porque os vereadores temiam a violência .',\n",
    "     'Os vereadores recusaram a autorização aos manifestantes porque os manifestantes temiam a violência .'),\n",
    "    ('Os vereadores recusaram a autorização aos manifestantes porque os manifestantes favoráveis à violência .',\n",
    "     'Os vereadores recusaram a autorização aos manifestantes porque os vereadores eram favoráveis à violência .'),\n",
    "    ('A medalha não cabe na maleta porque a medalha é grande .',\n",
    "     'A medalha não cabe na maleta porque a maleta é grande .'),\n",
    "    ('A medalha não cabe na maleta porque a maleta é pequena .',\n",
    "     'A medalha não cabe na maleta porque a medalha é pequena .'),\n",
    "    ('Joan certificou-se de agradecer Susan por toda ajuda que Joan havia recebido .',\n",
    "     'Joan certificou-se de agradecer Susan por toda ajuda que Susan havia recebido .'),\n",
    "    ('Joan certificou-se de agradecer Susan por toda ajuda que Susan havia oferecido .',\n",
    "     'Joan certificou-se de agradecer Susan por toda ajuda que Joan havia oferecido .')\n",
    "]"
   ]
  },
  {
   "cell_type": "code",
   "execution_count": 7,
   "metadata": {},
   "outputs": [
    {
     "data": {
      "text/plain": [
       "0.6666666666666666"
      ]
     },
     "execution_count": 7,
     "metadata": {},
     "output_type": "execute_result"
    }
   ],
   "source": [
    "corrects = 0\n",
    "for winograd in list_of_winograds:\n",
    "    if analyse_single_wsc(model_file_name, corpus, ntokens, device, winograd[0], winograd[1]):\n",
    "        corrects += 1\n",
    "\n",
    "accuracy = corrects / len(list_of_winograds)\n",
    "accuracy"
   ]
  },
  {
   "cell_type": "code",
   "execution_count": 8,
   "metadata": {},
   "outputs": [
    {
     "name": "stdout",
     "output_type": "stream",
     "text": [
      "Right choice :D\n"
     ]
    }
   ],
   "source": [
    "if analyse_single_wsc(model_file_name, corpus, ntokens, device,\n",
    "                      'A régua não coube na mochila porque a régua é grande .',\n",
    "                      'A régua não coube na mochila porque a mochila é grande .',\n",
    "                     partial=True):\n",
    "    print('Right choice :D')\n",
    "else:\n",
    "    print('Wrong :(')"
   ]
  },
  {
   "cell_type": "code",
   "execution_count": 9,
   "metadata": {},
   "outputs": [
    {
     "data": {
      "text/plain": [
       "0.3333333333333333"
      ]
     },
     "execution_count": 9,
     "metadata": {},
     "output_type": "execute_result"
    }
   ],
   "source": [
    "corrects = 0\n",
    "for winograd in list_of_winograds:\n",
    "    if analyse_single_wsc(model_file_name, corpus, ntokens, device, winograd[0], winograd[1], partial=True):\n",
    "        corrects += 1\n",
    "\n",
    "accuracy = corrects / len(list_of_winograds)\n",
    "accuracy"
   ]
  },
  {
   "cell_type": "code",
   "execution_count": null,
   "metadata": {},
   "outputs": [],
   "source": []
  }
 ],
 "metadata": {
  "kernelspec": {
   "display_name": "wsc_port",
   "language": "python",
   "name": "wsc_port"
  },
  "language_info": {
   "codemirror_mode": {
    "name": "ipython",
    "version": 3
   },
   "file_extension": ".py",
   "mimetype": "text/x-python",
   "name": "python",
   "nbconvert_exporter": "python",
   "pygments_lexer": "ipython3",
   "version": "3.6.8"
  }
 },
 "nbformat": 4,
 "nbformat_minor": 2
}
