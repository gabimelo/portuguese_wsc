{
 "cells": [
  {
   "cell_type": "code",
   "execution_count": 1,
   "metadata": {},
   "outputs": [],
   "source": [
    "import os\n",
    "os.chdir('..')\n",
    "\n",
    "%load_ext autoreload\n",
    "%autoreload 2"
   ]
  },
  {
   "cell_type": "code",
   "execution_count": 6,
   "metadata": {},
   "outputs": [
    {
     "name": "stderr",
     "output_type": "stream",
     "text": [
      "INFO 2019-06-26 20:32:51,034: Generating WSC set, using model: models/english-wikitext-2/trained_models/original_pytorch_code_model.pt\n",
      "INFO 2019-06-26 20:32:51,203: Test on full set, full scoring\n"
     ]
    },
    {
     "ename": "AttributeError",
     "evalue": "(\"'int' object has no attribute 'cpu'\", 'occurred at index 0')",
     "output_type": "error",
     "traceback": [
      "\u001b[0;31m---------------------------------------------------------------------------\u001b[0m",
      "\u001b[0;31mAttributeError\u001b[0m                            Traceback (most recent call last)",
      "\u001b[0;32m~/anaconda3/envs/wsc_port/lib/python3.6/runpy.py\u001b[0m in \u001b[0;36mrun_module\u001b[0;34m(mod_name, init_globals, run_name, alter_sys)\u001b[0m\n\u001b[1;32m    203\u001b[0m         \u001b[0mrun_name\u001b[0m \u001b[0;34m=\u001b[0m \u001b[0mmod_name\u001b[0m\u001b[0;34m\u001b[0m\u001b[0;34m\u001b[0m\u001b[0m\n\u001b[1;32m    204\u001b[0m     \u001b[0;32mif\u001b[0m \u001b[0malter_sys\u001b[0m\u001b[0;34m:\u001b[0m\u001b[0;34m\u001b[0m\u001b[0;34m\u001b[0m\u001b[0m\n\u001b[0;32m--> 205\u001b[0;31m         \u001b[0;32mreturn\u001b[0m \u001b[0m_run_module_code\u001b[0m\u001b[0;34m(\u001b[0m\u001b[0mcode\u001b[0m\u001b[0;34m,\u001b[0m \u001b[0minit_globals\u001b[0m\u001b[0;34m,\u001b[0m \u001b[0mrun_name\u001b[0m\u001b[0;34m,\u001b[0m \u001b[0mmod_spec\u001b[0m\u001b[0;34m)\u001b[0m\u001b[0;34m\u001b[0m\u001b[0;34m\u001b[0m\u001b[0m\n\u001b[0m\u001b[1;32m    206\u001b[0m     \u001b[0;32melse\u001b[0m\u001b[0;34m:\u001b[0m\u001b[0;34m\u001b[0m\u001b[0;34m\u001b[0m\u001b[0m\n\u001b[1;32m    207\u001b[0m         \u001b[0;31m# Leave the sys module alone\u001b[0m\u001b[0;34m\u001b[0m\u001b[0;34m\u001b[0m\u001b[0;34m\u001b[0m\u001b[0m\n",
      "\u001b[0;32m~/anaconda3/envs/wsc_port/lib/python3.6/runpy.py\u001b[0m in \u001b[0;36m_run_module_code\u001b[0;34m(code, init_globals, mod_name, mod_spec, pkg_name, script_name)\u001b[0m\n\u001b[1;32m     94\u001b[0m         \u001b[0mmod_globals\u001b[0m \u001b[0;34m=\u001b[0m \u001b[0mtemp_module\u001b[0m\u001b[0;34m.\u001b[0m\u001b[0mmodule\u001b[0m\u001b[0;34m.\u001b[0m\u001b[0m__dict__\u001b[0m\u001b[0;34m\u001b[0m\u001b[0;34m\u001b[0m\u001b[0m\n\u001b[1;32m     95\u001b[0m         _run_code(code, mod_globals, init_globals,\n\u001b[0;32m---> 96\u001b[0;31m                   mod_name, mod_spec, pkg_name, script_name)\n\u001b[0m\u001b[1;32m     97\u001b[0m     \u001b[0;31m# Copy the globals of the temporary module, as they\u001b[0m\u001b[0;34m\u001b[0m\u001b[0;34m\u001b[0m\u001b[0;34m\u001b[0m\u001b[0m\n\u001b[1;32m     98\u001b[0m     \u001b[0;31m# may be cleared when the temporary module goes away\u001b[0m\u001b[0;34m\u001b[0m\u001b[0;34m\u001b[0m\u001b[0;34m\u001b[0m\u001b[0m\n",
      "\u001b[0;32m~/anaconda3/envs/wsc_port/lib/python3.6/runpy.py\u001b[0m in \u001b[0;36m_run_code\u001b[0;34m(code, run_globals, init_globals, mod_name, mod_spec, pkg_name, script_name)\u001b[0m\n\u001b[1;32m     83\u001b[0m                        \u001b[0m__package__\u001b[0m \u001b[0;34m=\u001b[0m \u001b[0mpkg_name\u001b[0m\u001b[0;34m,\u001b[0m\u001b[0;34m\u001b[0m\u001b[0;34m\u001b[0m\u001b[0m\n\u001b[1;32m     84\u001b[0m                        __spec__ = mod_spec)\n\u001b[0;32m---> 85\u001b[0;31m     \u001b[0mexec\u001b[0m\u001b[0;34m(\u001b[0m\u001b[0mcode\u001b[0m\u001b[0;34m,\u001b[0m \u001b[0mrun_globals\u001b[0m\u001b[0;34m)\u001b[0m\u001b[0;34m\u001b[0m\u001b[0;34m\u001b[0m\u001b[0m\n\u001b[0m\u001b[1;32m     86\u001b[0m     \u001b[0;32mreturn\u001b[0m \u001b[0mrun_globals\u001b[0m\u001b[0;34m\u001b[0m\u001b[0;34m\u001b[0m\u001b[0m\n\u001b[1;32m     87\u001b[0m \u001b[0;34m\u001b[0m\u001b[0m\n",
      "\u001b[0;32m/media/Novo Volume/Projects/portuguese_wsc/src/main.py\u001b[0m in \u001b[0;36m<module>\u001b[0;34m\u001b[0m\n\u001b[1;32m     97\u001b[0m \u001b[0;32mif\u001b[0m \u001b[0m__name__\u001b[0m \u001b[0;34m==\u001b[0m \u001b[0;34m'__main__'\u001b[0m\u001b[0;34m:\u001b[0m\u001b[0;34m\u001b[0m\u001b[0;34m\u001b[0m\u001b[0m\n\u001b[1;32m     98\u001b[0m     main(training=False, wsc=True,\n\u001b[0;32m---> 99\u001b[0;31m          model_file_name='models/english-wikitext-2/trained_models/original_pytorch_code_model.pt')\n\u001b[0m",
      "\u001b[0;32m/media/Novo Volume/Projects/portuguese_wsc/src/main.py\u001b[0m in \u001b[0;36mmain\u001b[0;34m(training, wsc, model_file_name, verbose)\u001b[0m\n\u001b[1;32m     88\u001b[0m             \u001b[0mlogger\u001b[0m\u001b[0;34m.\u001b[0m\u001b[0minfo\u001b[0m\u001b[0;34m(\u001b[0m\u001b[0;34m'Generating WSC set, using model: {}'\u001b[0m\u001b[0;34m.\u001b[0m\u001b[0mformat\u001b[0m\u001b[0;34m(\u001b[0m\u001b[0mmodel_file_name\u001b[0m\u001b[0;34m)\u001b[0m\u001b[0;34m)\u001b[0m\u001b[0;34m\u001b[0m\u001b[0;34m\u001b[0m\u001b[0m\n\u001b[1;32m     89\u001b[0m             \u001b[0mdf\u001b[0m \u001b[0;34m=\u001b[0m \u001b[0mgenerate_df_from_json\u001b[0m\u001b[0;34m(\u001b[0m\u001b[0;34m)\u001b[0m\u001b[0;34m\u001b[0m\u001b[0;34m\u001b[0m\u001b[0m\n\u001b[0;32m---> 90\u001b[0;31m             \u001b[0mdf\u001b[0m \u001b[0;34m=\u001b[0m \u001b[0mwinograd_test\u001b[0m\u001b[0;34m(\u001b[0m\u001b[0mdf\u001b[0m\u001b[0;34m,\u001b[0m \u001b[0mcorpus\u001b[0m\u001b[0;34m,\u001b[0m \u001b[0mmodel_file_name\u001b[0m\u001b[0;34m,\u001b[0m \u001b[0mntokens\u001b[0m\u001b[0;34m,\u001b[0m \u001b[0mdevice\u001b[0m\u001b[0;34m,\u001b[0m \u001b[0menglish\u001b[0m\u001b[0;34m=\u001b[0m\u001b[0;32mnot\u001b[0m \u001b[0mPORTUGUESE\u001b[0m\u001b[0;34m)\u001b[0m\u001b[0;34m\u001b[0m\u001b[0;34m\u001b[0m\u001b[0m\n\u001b[0m\u001b[1;32m     91\u001b[0m         \u001b[0;32melse\u001b[0m\u001b[0;34m:\u001b[0m\u001b[0;34m\u001b[0m\u001b[0;34m\u001b[0m\u001b[0m\n\u001b[1;32m     92\u001b[0m             \u001b[0mlogger\u001b[0m\u001b[0;34m.\u001b[0m\u001b[0minfo\u001b[0m\u001b[0;34m(\u001b[0m\u001b[0;34m'Generating text, using model: {}'\u001b[0m\u001b[0;34m.\u001b[0m\u001b[0mformat\u001b[0m\u001b[0;34m(\u001b[0m\u001b[0mmodel_file_name\u001b[0m\u001b[0;34m)\u001b[0m\u001b[0;34m)\u001b[0m\u001b[0;34m\u001b[0m\u001b[0;34m\u001b[0m\u001b[0m\n",
      "\u001b[0;32m/media/Novo Volume/Projects/portuguese_wsc/src/winograd_schema_challenge.py\u001b[0m in \u001b[0;36mwinograd_test\u001b[0;34m(df, corpus, model_file_name, ntokens, device, english)\u001b[0m\n\u001b[1;32m    189\u001b[0m \u001b[0;34m\u001b[0m\u001b[0m\n\u001b[1;32m    190\u001b[0m     \u001b[0mmissing_words\u001b[0m \u001b[0;34m=\u001b[0m \u001b[0mfind_missing_wsc_words_in_corpus_vocab\u001b[0m\u001b[0;34m(\u001b[0m\u001b[0mdf\u001b[0m\u001b[0;34m,\u001b[0m \u001b[0mcorpus\u001b[0m\u001b[0;34m,\u001b[0m \u001b[0menglish\u001b[0m\u001b[0;34m)\u001b[0m\u001b[0;34m\u001b[0m\u001b[0;34m\u001b[0m\u001b[0m\n\u001b[0;32m--> 191\u001b[0;31m     \u001b[0mrun_full_set_of_tests\u001b[0m\u001b[0;34m(\u001b[0m\u001b[0;34m)\u001b[0m\u001b[0;34m\u001b[0m\u001b[0;34m\u001b[0m\u001b[0m\n\u001b[0m\u001b[1;32m    192\u001b[0m \u001b[0;34m\u001b[0m\u001b[0m\n\u001b[1;32m    193\u001b[0m     \u001b[0;32mreturn\u001b[0m \u001b[0mdf\u001b[0m\u001b[0;34m\u001b[0m\u001b[0;34m\u001b[0m\u001b[0m\n",
      "\u001b[0;32m/media/Novo Volume/Projects/portuguese_wsc/src/winograd_schema_challenge.py\u001b[0m in \u001b[0;36mrun_full_set_of_tests\u001b[0;34m()\u001b[0m\n\u001b[1;32m    138\u001b[0m         \u001b[0mdf\u001b[0m\u001b[0;34m[\u001b[0m\u001b[0mresult_column\u001b[0m \u001b[0;34m+\u001b[0m \u001b[0;34m'_full'\u001b[0m\u001b[0;34m]\u001b[0m \u001b[0;34m=\u001b[0m \u001b[0mdf\u001b[0m\u001b[0;34m[\u001b[0m\u001b[0mresult_column\u001b[0m \u001b[0;34m+\u001b[0m \u001b[0;34m'_partial'\u001b[0m\u001b[0;34m]\u001b[0m \u001b[0;34m=\u001b[0m \u001b[0;32mFalse\u001b[0m\u001b[0;34m\u001b[0m\u001b[0;34m\u001b[0m\u001b[0m\n\u001b[1;32m    139\u001b[0m         test_full_and_partial('Test on full set', df, 'correct_sentence',\n\u001b[0;32m--> 140\u001b[0;31m                               'incorrect_sentence', result_column)\n\u001b[0m\u001b[1;32m    141\u001b[0m \u001b[0;34m\u001b[0m\u001b[0m\n\u001b[1;32m    142\u001b[0m         \u001b[0;32mif\u001b[0m \u001b[0;34m'manually_fixed_correct_sentence'\u001b[0m \u001b[0;32min\u001b[0m \u001b[0mdf\u001b[0m\u001b[0;34m.\u001b[0m\u001b[0mcolumns\u001b[0m\u001b[0;34m:\u001b[0m\u001b[0;34m\u001b[0m\u001b[0;34m\u001b[0m\u001b[0m\n",
      "\u001b[0;32m/media/Novo Volume/Projects/portuguese_wsc/src/winograd_schema_challenge.py\u001b[0m in \u001b[0;36mtest_full_and_partial\u001b[0;34m(test_name, subset_of_df, correct_sentence_column, incorrect_sentence_column, result_column)\u001b[0m\n\u001b[1;32m    129\u001b[0m         \u001b[0mlogger\u001b[0m\u001b[0;34m.\u001b[0m\u001b[0minfo\u001b[0m\u001b[0;34m(\u001b[0m\u001b[0mtest_name\u001b[0m \u001b[0;34m+\u001b[0m \u001b[0;34m', full scoring'\u001b[0m\u001b[0;34m)\u001b[0m\u001b[0;34m\u001b[0m\u001b[0;34m\u001b[0m\u001b[0m\n\u001b[1;32m    130\u001b[0m         test_set(subset_of_df, correct_sentence_column, incorrect_sentence_column,\n\u001b[0;32m--> 131\u001b[0;31m                  result_column + '_full', False)\n\u001b[0m\u001b[1;32m    132\u001b[0m         \u001b[0mlogger\u001b[0m\u001b[0;34m.\u001b[0m\u001b[0minfo\u001b[0m\u001b[0;34m(\u001b[0m\u001b[0mtest_name\u001b[0m \u001b[0;34m+\u001b[0m \u001b[0;34m', partial scoring'\u001b[0m\u001b[0;34m)\u001b[0m\u001b[0;34m\u001b[0m\u001b[0;34m\u001b[0m\u001b[0m\n\u001b[1;32m    133\u001b[0m         test_set(subset_of_df, correct_sentence_column, incorrect_sentence_column,\n",
      "\u001b[0;32m/media/Novo Volume/Projects/portuguese_wsc/src/winograd_schema_challenge.py\u001b[0m in \u001b[0;36mtest_set\u001b[0;34m(subset_of_df, correct_sentence_column, incorrect_sentence_column, result_column, partial)\u001b[0m\n\u001b[1;32m    121\u001b[0m         subset_of_df[result_column] = subset_of_df.apply(lambda x: test_row(x[correct_sentence_column],\n\u001b[1;32m    122\u001b[0m                                                                             \u001b[0mx\u001b[0m\u001b[0;34m[\u001b[0m\u001b[0mincorrect_sentence_column\u001b[0m\u001b[0;34m]\u001b[0m\u001b[0;34m,\u001b[0m\u001b[0;34m\u001b[0m\u001b[0;34m\u001b[0m\u001b[0m\n\u001b[0;32m--> 123\u001b[0;31m                                                                             partial), axis=1)\n\u001b[0m\u001b[1;32m    124\u001b[0m         \u001b[0maccuracy\u001b[0m \u001b[0;34m=\u001b[0m \u001b[0msum\u001b[0m\u001b[0;34m(\u001b[0m\u001b[0msubset_of_df\u001b[0m\u001b[0;34m[\u001b[0m\u001b[0mresult_column\u001b[0m\u001b[0;34m]\u001b[0m\u001b[0;34m)\u001b[0m \u001b[0;34m/\u001b[0m \u001b[0mlen\u001b[0m\u001b[0;34m(\u001b[0m\u001b[0msubset_of_df\u001b[0m\u001b[0;34m)\u001b[0m\u001b[0;34m\u001b[0m\u001b[0;34m\u001b[0m\u001b[0m\n\u001b[1;32m    125\u001b[0m         \u001b[0mlogger\u001b[0m\u001b[0;34m.\u001b[0m\u001b[0minfo\u001b[0m\u001b[0;34m(\u001b[0m\u001b[0;34m'Accuracy: {} for test run on {} examples'\u001b[0m\u001b[0;34m.\u001b[0m\u001b[0mformat\u001b[0m\u001b[0;34m(\u001b[0m\u001b[0maccuracy\u001b[0m\u001b[0;34m,\u001b[0m \u001b[0mlen\u001b[0m\u001b[0;34m(\u001b[0m\u001b[0msubset_of_df\u001b[0m\u001b[0;34m)\u001b[0m\u001b[0;34m)\u001b[0m\u001b[0;34m)\u001b[0m\u001b[0;34m\u001b[0m\u001b[0;34m\u001b[0m\u001b[0m\n",
      "\u001b[0;32m~/anaconda3/envs/wsc_port/lib/python3.6/site-packages/pandas/core/frame.py\u001b[0m in \u001b[0;36mapply\u001b[0;34m(self, func, axis, broadcast, raw, reduce, result_type, args, **kwds)\u001b[0m\n\u001b[1;32m   6485\u001b[0m                          \u001b[0margs\u001b[0m\u001b[0;34m=\u001b[0m\u001b[0margs\u001b[0m\u001b[0;34m,\u001b[0m\u001b[0;34m\u001b[0m\u001b[0;34m\u001b[0m\u001b[0m\n\u001b[1;32m   6486\u001b[0m                          kwds=kwds)\n\u001b[0;32m-> 6487\u001b[0;31m         \u001b[0;32mreturn\u001b[0m \u001b[0mop\u001b[0m\u001b[0;34m.\u001b[0m\u001b[0mget_result\u001b[0m\u001b[0;34m(\u001b[0m\u001b[0;34m)\u001b[0m\u001b[0;34m\u001b[0m\u001b[0;34m\u001b[0m\u001b[0m\n\u001b[0m\u001b[1;32m   6488\u001b[0m \u001b[0;34m\u001b[0m\u001b[0m\n\u001b[1;32m   6489\u001b[0m     \u001b[0;32mdef\u001b[0m \u001b[0mapplymap\u001b[0m\u001b[0;34m(\u001b[0m\u001b[0mself\u001b[0m\u001b[0;34m,\u001b[0m \u001b[0mfunc\u001b[0m\u001b[0;34m)\u001b[0m\u001b[0;34m:\u001b[0m\u001b[0;34m\u001b[0m\u001b[0;34m\u001b[0m\u001b[0m\n",
      "\u001b[0;32m~/anaconda3/envs/wsc_port/lib/python3.6/site-packages/pandas/core/apply.py\u001b[0m in \u001b[0;36mget_result\u001b[0;34m(self)\u001b[0m\n\u001b[1;32m    149\u001b[0m             \u001b[0;32mreturn\u001b[0m \u001b[0mself\u001b[0m\u001b[0;34m.\u001b[0m\u001b[0mapply_raw\u001b[0m\u001b[0;34m(\u001b[0m\u001b[0;34m)\u001b[0m\u001b[0;34m\u001b[0m\u001b[0;34m\u001b[0m\u001b[0m\n\u001b[1;32m    150\u001b[0m \u001b[0;34m\u001b[0m\u001b[0m\n\u001b[0;32m--> 151\u001b[0;31m         \u001b[0;32mreturn\u001b[0m \u001b[0mself\u001b[0m\u001b[0;34m.\u001b[0m\u001b[0mapply_standard\u001b[0m\u001b[0;34m(\u001b[0m\u001b[0;34m)\u001b[0m\u001b[0;34m\u001b[0m\u001b[0;34m\u001b[0m\u001b[0m\n\u001b[0m\u001b[1;32m    152\u001b[0m \u001b[0;34m\u001b[0m\u001b[0m\n\u001b[1;32m    153\u001b[0m     \u001b[0;32mdef\u001b[0m \u001b[0mapply_empty_result\u001b[0m\u001b[0;34m(\u001b[0m\u001b[0mself\u001b[0m\u001b[0;34m)\u001b[0m\u001b[0;34m:\u001b[0m\u001b[0;34m\u001b[0m\u001b[0;34m\u001b[0m\u001b[0m\n",
      "\u001b[0;32m~/anaconda3/envs/wsc_port/lib/python3.6/site-packages/pandas/core/apply.py\u001b[0m in \u001b[0;36mapply_standard\u001b[0;34m(self)\u001b[0m\n\u001b[1;32m    255\u001b[0m \u001b[0;34m\u001b[0m\u001b[0m\n\u001b[1;32m    256\u001b[0m         \u001b[0;31m# compute the result using the series generator\u001b[0m\u001b[0;34m\u001b[0m\u001b[0;34m\u001b[0m\u001b[0;34m\u001b[0m\u001b[0m\n\u001b[0;32m--> 257\u001b[0;31m         \u001b[0mself\u001b[0m\u001b[0;34m.\u001b[0m\u001b[0mapply_series_generator\u001b[0m\u001b[0;34m(\u001b[0m\u001b[0;34m)\u001b[0m\u001b[0;34m\u001b[0m\u001b[0;34m\u001b[0m\u001b[0m\n\u001b[0m\u001b[1;32m    258\u001b[0m \u001b[0;34m\u001b[0m\u001b[0m\n\u001b[1;32m    259\u001b[0m         \u001b[0;31m# wrap results\u001b[0m\u001b[0;34m\u001b[0m\u001b[0;34m\u001b[0m\u001b[0;34m\u001b[0m\u001b[0m\n",
      "\u001b[0;32m~/anaconda3/envs/wsc_port/lib/python3.6/site-packages/pandas/core/apply.py\u001b[0m in \u001b[0;36mapply_series_generator\u001b[0;34m(self)\u001b[0m\n\u001b[1;32m    284\u001b[0m             \u001b[0;32mtry\u001b[0m\u001b[0;34m:\u001b[0m\u001b[0;34m\u001b[0m\u001b[0;34m\u001b[0m\u001b[0m\n\u001b[1;32m    285\u001b[0m                 \u001b[0;32mfor\u001b[0m \u001b[0mi\u001b[0m\u001b[0;34m,\u001b[0m \u001b[0mv\u001b[0m \u001b[0;32min\u001b[0m \u001b[0menumerate\u001b[0m\u001b[0;34m(\u001b[0m\u001b[0mseries_gen\u001b[0m\u001b[0;34m)\u001b[0m\u001b[0;34m:\u001b[0m\u001b[0;34m\u001b[0m\u001b[0;34m\u001b[0m\u001b[0m\n\u001b[0;32m--> 286\u001b[0;31m                     \u001b[0mresults\u001b[0m\u001b[0;34m[\u001b[0m\u001b[0mi\u001b[0m\u001b[0;34m]\u001b[0m \u001b[0;34m=\u001b[0m \u001b[0mself\u001b[0m\u001b[0;34m.\u001b[0m\u001b[0mf\u001b[0m\u001b[0;34m(\u001b[0m\u001b[0mv\u001b[0m\u001b[0;34m)\u001b[0m\u001b[0;34m\u001b[0m\u001b[0;34m\u001b[0m\u001b[0m\n\u001b[0m\u001b[1;32m    287\u001b[0m                     \u001b[0mkeys\u001b[0m\u001b[0;34m.\u001b[0m\u001b[0mappend\u001b[0m\u001b[0;34m(\u001b[0m\u001b[0mv\u001b[0m\u001b[0;34m.\u001b[0m\u001b[0mname\u001b[0m\u001b[0;34m)\u001b[0m\u001b[0;34m\u001b[0m\u001b[0;34m\u001b[0m\u001b[0m\n\u001b[1;32m    288\u001b[0m             \u001b[0;32mexcept\u001b[0m \u001b[0mException\u001b[0m \u001b[0;32mas\u001b[0m \u001b[0me\u001b[0m\u001b[0;34m:\u001b[0m\u001b[0;34m\u001b[0m\u001b[0;34m\u001b[0m\u001b[0m\n",
      "\u001b[0;32m/media/Novo Volume/Projects/portuguese_wsc/src/winograd_schema_challenge.py\u001b[0m in \u001b[0;36m<lambda>\u001b[0;34m(x)\u001b[0m\n\u001b[1;32m    121\u001b[0m         subset_of_df[result_column] = subset_of_df.apply(lambda x: test_row(x[correct_sentence_column],\n\u001b[1;32m    122\u001b[0m                                                                             \u001b[0mx\u001b[0m\u001b[0;34m[\u001b[0m\u001b[0mincorrect_sentence_column\u001b[0m\u001b[0;34m]\u001b[0m\u001b[0;34m,\u001b[0m\u001b[0;34m\u001b[0m\u001b[0;34m\u001b[0m\u001b[0m\n\u001b[0;32m--> 123\u001b[0;31m                                                                             partial), axis=1)\n\u001b[0m\u001b[1;32m    124\u001b[0m         \u001b[0maccuracy\u001b[0m \u001b[0;34m=\u001b[0m \u001b[0msum\u001b[0m\u001b[0;34m(\u001b[0m\u001b[0msubset_of_df\u001b[0m\u001b[0;34m[\u001b[0m\u001b[0mresult_column\u001b[0m\u001b[0;34m]\u001b[0m\u001b[0;34m)\u001b[0m \u001b[0;34m/\u001b[0m \u001b[0mlen\u001b[0m\u001b[0;34m(\u001b[0m\u001b[0msubset_of_df\u001b[0m\u001b[0;34m)\u001b[0m\u001b[0;34m\u001b[0m\u001b[0;34m\u001b[0m\u001b[0m\n\u001b[1;32m    125\u001b[0m         \u001b[0mlogger\u001b[0m\u001b[0;34m.\u001b[0m\u001b[0minfo\u001b[0m\u001b[0;34m(\u001b[0m\u001b[0;34m'Accuracy: {} for test run on {} examples'\u001b[0m\u001b[0;34m.\u001b[0m\u001b[0mformat\u001b[0m\u001b[0;34m(\u001b[0m\u001b[0maccuracy\u001b[0m\u001b[0;34m,\u001b[0m \u001b[0mlen\u001b[0m\u001b[0;34m(\u001b[0m\u001b[0msubset_of_df\u001b[0m\u001b[0;34m)\u001b[0m\u001b[0;34m)\u001b[0m\u001b[0;34m)\u001b[0m\u001b[0;34m\u001b[0m\u001b[0;34m\u001b[0m\u001b[0m\n",
      "\u001b[0;32m/media/Novo Volume/Projects/portuguese_wsc/src/winograd_schema_challenge.py\u001b[0m in \u001b[0;36mtest_row\u001b[0;34m(correct_sentence, incorrect_sentence, partial)\u001b[0m\n\u001b[1;32m    116\u001b[0m                               (' ').join(sentence_to_word_list(incorrect_sentence)).strip())\n\u001b[1;32m    117\u001b[0m         return analyse_single_wsc(model_file_name, corpus, ntokens, device,\n\u001b[0;32m--> 118\u001b[0;31m                                   winograd_sentences[0], winograd_sentences[1], partial)\n\u001b[0m\u001b[1;32m    119\u001b[0m \u001b[0;34m\u001b[0m\u001b[0m\n\u001b[1;32m    120\u001b[0m     \u001b[0;32mdef\u001b[0m \u001b[0mtest_set\u001b[0m\u001b[0;34m(\u001b[0m\u001b[0msubset_of_df\u001b[0m\u001b[0;34m,\u001b[0m \u001b[0mcorrect_sentence_column\u001b[0m\u001b[0;34m,\u001b[0m \u001b[0mincorrect_sentence_column\u001b[0m\u001b[0;34m,\u001b[0m \u001b[0mresult_column\u001b[0m\u001b[0;34m,\u001b[0m \u001b[0mpartial\u001b[0m\u001b[0;34m)\u001b[0m\u001b[0;34m:\u001b[0m\u001b[0;34m\u001b[0m\u001b[0;34m\u001b[0m\u001b[0m\n",
      "\u001b[0;32m/media/Novo Volume/Projects/portuguese_wsc/src/winograd_schema_challenge.py\u001b[0m in \u001b[0;36manalyse_single_wsc\u001b[0;34m(model_file_name, corpus, ntokens, device, correct_sentence, wrong_sentence, partial)\u001b[0m\n\u001b[1;32m     21\u001b[0m     \u001b[0mcorrect_words_probs_cpu\u001b[0m \u001b[0;34m=\u001b[0m \u001b[0;34m[\u001b[0m\u001b[0;34m]\u001b[0m\u001b[0;34m\u001b[0m\u001b[0;34m\u001b[0m\u001b[0m\n\u001b[1;32m     22\u001b[0m     \u001b[0;32mfor\u001b[0m \u001b[0mitem\u001b[0m \u001b[0;32min\u001b[0m \u001b[0mcorrect_words_probs\u001b[0m\u001b[0;34m:\u001b[0m\u001b[0;34m\u001b[0m\u001b[0;34m\u001b[0m\u001b[0m\n\u001b[0;32m---> 23\u001b[0;31m         \u001b[0mcorrect_words_probs_cpu\u001b[0m\u001b[0;34m.\u001b[0m\u001b[0mappend\u001b[0m\u001b[0;34m(\u001b[0m\u001b[0mitem\u001b[0m\u001b[0;34m.\u001b[0m\u001b[0mcpu\u001b[0m\u001b[0;34m(\u001b[0m\u001b[0;34m)\u001b[0m\u001b[0;34m)\u001b[0m\u001b[0;34m\u001b[0m\u001b[0;34m\u001b[0m\u001b[0m\n\u001b[0m\u001b[1;32m     24\u001b[0m \u001b[0;31m#         try:\u001b[0m\u001b[0;34m\u001b[0m\u001b[0;34m\u001b[0m\u001b[0;34m\u001b[0m\u001b[0m\n\u001b[1;32m     25\u001b[0m \u001b[0;31m#             correct_words_probs_cpu.append(item.cpu())\u001b[0m\u001b[0;34m\u001b[0m\u001b[0;34m\u001b[0m\u001b[0;34m\u001b[0m\u001b[0m\n",
      "\u001b[0;31mAttributeError\u001b[0m: (\"'int' object has no attribute 'cpu'\", 'occurred at index 0')"
     ]
    }
   ],
   "source": [
    "%run -m src.main"
   ]
  },
  {
   "cell_type": "code",
   "execution_count": 2,
   "metadata": {},
   "outputs": [
    {
     "name": "stderr",
     "output_type": "stream",
     "text": [
      "INFO 2019-06-26 19:38:04,876: Generating WSC set, using model: models/trained_models/model-2019-06-17 19:07:14.894644.pt\n",
      "INFO 2019-06-26 19:38:05,059: Test on full set, full scoring\n",
      "INFO 2019-06-26 19:38:49,288: Accuracy: 0.4981949458483754 for test run on 277 examples\n",
      "INFO 2019-06-26 19:38:49,288: Test on full set, partial scoring\n",
      "INFO 2019-06-26 19:39:31,366: Accuracy: 0.48014440433212996 for test run on 277 examples\n",
      "INFO 2019-06-26 19:39:31,367: Test on full set, with substitutions manually fixed, full scoring\n",
      "INFO 2019-06-26 19:40:13,580: Accuracy: 0.4981949458483754 for test run on 277 examples\n",
      "INFO 2019-06-26 19:40:13,581: Test on full set, with substitutions manually fixed, partial scoring\n",
      "INFO 2019-06-26 19:40:55,637: Accuracy: 0.48736462093862815 for test run on 277 examples\n",
      "INFO 2019-06-26 19:40:55,638: Test on switchable set, switched, full scoring\n",
      "/media/Novo Volume/Projects/portuguese_wsc/src/winograd_schema_challenge.py:122: SettingWithCopyWarning: \n",
      "A value is trying to be set on a copy of a slice from a DataFrame.\n",
      "Try using .loc[row_indexer,col_indexer] = value instead\n",
      "\n",
      "See the caveats in the documentation: http://pandas.pydata.org/pandas-docs/stable/indexing.html#indexing-view-versus-copy\n",
      "  partial), axis=1)\n",
      "INFO 2019-06-26 19:41:15,783: Accuracy: 0.48148148148148145 for test run on 135 examples\n",
      "INFO 2019-06-26 19:41:15,784: Test on switchable set, switched, partial scoring\n",
      "INFO 2019-06-26 19:41:35,869: Accuracy: 0.4888888888888889 for test run on 135 examples\n",
      "INFO 2019-06-26 19:41:35,870: Test on switchable set, unswitched, full scoring\n",
      "INFO 2019-06-26 19:41:55,989: Accuracy: 0.48148148148148145 for test run on 135 examples\n",
      "INFO 2019-06-26 19:41:55,990: Test on switchable set, unswitched, partial scoring\n",
      "INFO 2019-06-26 19:42:15,985: Accuracy: 0.4740740740740741 for test run on 135 examples\n",
      "INFO 2019-06-26 19:42:15,987: Test on associative set, full scoring\n",
      "INFO 2019-06-26 19:42:21,436: Accuracy: 0.5142857142857142 for test run on 35 examples\n",
      "INFO 2019-06-26 19:42:21,437: Test on associative set, partial scoring\n",
      "INFO 2019-06-26 19:42:26,874: Accuracy: 0.4 for test run on 35 examples\n",
      "INFO 2019-06-26 19:42:26,876: Test on non-associative set, full scoring\n",
      "INFO 2019-06-26 19:43:03,386: Accuracy: 0.49586776859504134 for test run on 242 examples\n",
      "INFO 2019-06-26 19:43:03,386: Test on non-associative set, partial scoring\n",
      "INFO 2019-06-26 19:43:39,781: Accuracy: 0.49173553719008267 for test run on 242 examples\n",
      "INFO 2019-06-26 19:43:39,783: Test on associative set, with substitutions manually fixed, full scoring\n",
      "INFO 2019-06-26 19:43:45,245: Accuracy: 0.5142857142857142 for test run on 35 examples\n",
      "INFO 2019-06-26 19:43:45,246: Test on associative set, with substitutions manually fixed, partial scoring\n",
      "INFO 2019-06-26 19:43:50,694: Accuracy: 0.42857142857142855 for test run on 35 examples\n",
      "INFO 2019-06-26 19:43:50,696: Test on non-associative set, with substitutions manually fixed, full scoring\n",
      "INFO 2019-06-26 19:44:27,354: Accuracy: 0.49586776859504134 for test run on 242 examples\n",
      "INFO 2019-06-26 19:44:27,354: Test on non-associative set, with substitutions manually fixed, partial scoring\n",
      "INFO 2019-06-26 19:45:03,898: Accuracy: 0.49586776859504134 for test run on 242 examples\n"
     ]
    }
   ],
   "source": [
    "%run -m src.main"
   ]
  },
  {
   "cell_type": "code",
   "execution_count": 22,
   "metadata": {},
   "outputs": [
    {
     "name": "stderr",
     "output_type": "stream",
     "text": [
      "INFO 2019-06-26 19:34:56,221: Generating WSC set, using model: models/english-wikitext-2/trained_models/model-2019-06-26 18:30:47.967030.pt\n",
      "INFO 2019-06-26 19:34:56,410: Test on full set, full scoring\n",
      "INFO 2019-06-26 19:35:10,067: Accuracy: 0.5091575091575091 for test run on 273 examples\n",
      "INFO 2019-06-26 19:35:10,067: Test on full set, partial scoring\n",
      "INFO 2019-06-26 19:35:23,476: Accuracy: 0.5201465201465202 for test run on 273 examples\n",
      "INFO 2019-06-26 19:35:23,477: Test on full set, with substitutions manually fixed, full scoring\n",
      "INFO 2019-06-26 19:35:37,117: Accuracy: 0.5091575091575091 for test run on 273 examples\n",
      "INFO 2019-06-26 19:35:37,118: Test on full set, with substitutions manually fixed, partial scoring\n",
      "INFO 2019-06-26 19:35:50,524: Accuracy: 0.5201465201465202 for test run on 273 examples\n",
      "INFO 2019-06-26 19:35:50,525: Test on switchable set, switched, full scoring\n",
      "/media/Novo Volume/Projects/portuguese_wsc/src/winograd_schema_challenge.py:122: SettingWithCopyWarning: \n",
      "A value is trying to be set on a copy of a slice from a DataFrame.\n",
      "Try using .loc[row_indexer,col_indexer] = value instead\n",
      "\n",
      "See the caveats in the documentation: http://pandas.pydata.org/pandas-docs/stable/indexing.html#indexing-view-versus-copy\n",
      "  winograd_sentences[0], winograd_sentences[1], partial)\n",
      "INFO 2019-06-26 19:35:56,755: Accuracy: 0.4580152671755725 for test run on 131 examples\n",
      "INFO 2019-06-26 19:35:56,756: Test on switchable set, switched, partial scoring\n",
      "INFO 2019-06-26 19:36:02,957: Accuracy: 0.48091603053435117 for test run on 131 examples\n",
      "INFO 2019-06-26 19:36:02,958: Test on switchable set, unswitched, full scoring\n",
      "INFO 2019-06-26 19:36:09,194: Accuracy: 0.5114503816793893 for test run on 131 examples\n",
      "INFO 2019-06-26 19:36:09,194: Test on switchable set, unswitched, partial scoring\n",
      "INFO 2019-06-26 19:36:15,335: Accuracy: 0.5114503816793893 for test run on 131 examples\n",
      "INFO 2019-06-26 19:36:15,337: Test on associative set, full scoring\n",
      "INFO 2019-06-26 19:36:17,283: Accuracy: 0.5135135135135135 for test run on 37 examples\n",
      "INFO 2019-06-26 19:36:17,284: Test on associative set, partial scoring\n",
      "INFO 2019-06-26 19:36:19,214: Accuracy: 0.5675675675675675 for test run on 37 examples\n",
      "INFO 2019-06-26 19:36:19,216: Test on non-associative set, full scoring\n",
      "INFO 2019-06-26 19:36:30,680: Accuracy: 0.5084745762711864 for test run on 236 examples\n",
      "INFO 2019-06-26 19:36:30,681: Test on non-associative set, partial scoring\n",
      "INFO 2019-06-26 19:36:42,084: Accuracy: 0.5127118644067796 for test run on 236 examples\n",
      "INFO 2019-06-26 19:36:42,086: Test on associative set, with substitutions manually fixed, full scoring\n",
      "INFO 2019-06-26 19:36:44,032: Accuracy: 0.5135135135135135 for test run on 37 examples\n",
      "INFO 2019-06-26 19:36:44,032: Test on associative set, with substitutions manually fixed, partial scoring\n",
      "INFO 2019-06-26 19:36:45,960: Accuracy: 0.5675675675675675 for test run on 37 examples\n",
      "INFO 2019-06-26 19:36:45,962: Test on non-associative set, with substitutions manually fixed, full scoring\n",
      "INFO 2019-06-26 19:36:57,453: Accuracy: 0.5084745762711864 for test run on 236 examples\n",
      "INFO 2019-06-26 19:36:57,454: Test on non-associative set, with substitutions manually fixed, partial scoring\n",
      "INFO 2019-06-26 19:37:09,143: Accuracy: 0.5127118644067796 for test run on 236 examples\n"
     ]
    }
   ],
   "source": [
    "%run -m src.main"
   ]
  },
  {
   "cell_type": "code",
   "execution_count": 4,
   "metadata": {},
   "outputs": [
    {
     "name": "stderr",
     "output_type": "stream",
     "text": [
      "INFO 2019-06-26 20:23:45,092: Generating WSC set, using model: models/english-wikitext-2/trained_models/original_pytorch_code_model.pt\n",
      "INFO 2019-06-26 20:23:45,266: Test on full set, full scoring\n",
      "INFO 2019-06-26 20:23:56,788: Accuracy: 0.3249097472924188 for test run on 277 examples\n",
      "INFO 2019-06-26 20:23:56,788: Test on full set, partial scoring\n",
      "INFO 2019-06-26 20:24:08,121: Accuracy: 0.3249097472924188 for test run on 277 examples\n",
      "INFO 2019-06-26 20:24:08,122: Test on full set, with substitutions manually fixed, full scoring\n",
      "INFO 2019-06-26 20:24:19,565: Accuracy: 0.3285198555956679 for test run on 277 examples\n",
      "INFO 2019-06-26 20:24:19,566: Test on full set, with substitutions manually fixed, partial scoring\n",
      "INFO 2019-06-26 20:24:30,933: Accuracy: 0.3249097472924188 for test run on 277 examples\n",
      "INFO 2019-06-26 20:24:30,935: Test on switchable set, switched, full scoring\n",
      "/media/Novo Volume/Projects/portuguese_wsc/src/winograd_schema_challenge.py:122: SettingWithCopyWarning: \n",
      "A value is trying to be set on a copy of a slice from a DataFrame.\n",
      "Try using .loc[row_indexer,col_indexer] = value instead\n",
      "\n",
      "See the caveats in the documentation: http://pandas.pydata.org/pandas-docs/stable/indexing.html#indexing-view-versus-copy\n",
      "  partial), axis=1)\n",
      "INFO 2019-06-26 20:24:36,434: Accuracy: 0.4148148148148148 for test run on 135 examples\n",
      "INFO 2019-06-26 20:24:36,435: Test on switchable set, switched, partial scoring\n",
      "INFO 2019-06-26 20:24:41,913: Accuracy: 0.43703703703703706 for test run on 135 examples\n",
      "INFO 2019-06-26 20:24:41,914: Test on switchable set, unswitched, full scoring\n",
      "INFO 2019-06-26 20:24:47,405: Accuracy: 0.4148148148148148 for test run on 135 examples\n",
      "INFO 2019-06-26 20:24:47,405: Test on switchable set, unswitched, partial scoring\n",
      "INFO 2019-06-26 20:24:52,929: Accuracy: 0.4074074074074074 for test run on 135 examples\n",
      "INFO 2019-06-26 20:24:52,930: Test on associative set, full scoring\n",
      "INFO 2019-06-26 20:24:54,431: Accuracy: 0.22857142857142856 for test run on 35 examples\n",
      "INFO 2019-06-26 20:24:54,431: Test on associative set, partial scoring\n",
      "INFO 2019-06-26 20:24:55,925: Accuracy: 0.2571428571428571 for test run on 35 examples\n",
      "INFO 2019-06-26 20:24:55,927: Test on non-associative set, full scoring\n",
      "INFO 2019-06-26 20:25:05,892: Accuracy: 0.33884297520661155 for test run on 242 examples\n",
      "INFO 2019-06-26 20:25:05,893: Test on non-associative set, partial scoring\n",
      "INFO 2019-06-26 20:25:15,803: Accuracy: 0.3347107438016529 for test run on 242 examples\n",
      "INFO 2019-06-26 20:25:15,804: Test on associative set, with substitutions manually fixed, full scoring\n",
      "INFO 2019-06-26 20:25:17,303: Accuracy: 0.22857142857142856 for test run on 35 examples\n",
      "INFO 2019-06-26 20:25:17,303: Test on associative set, with substitutions manually fixed, partial scoring\n",
      "INFO 2019-06-26 20:25:18,793: Accuracy: 0.2571428571428571 for test run on 35 examples\n",
      "INFO 2019-06-26 20:25:18,794: Test on non-associative set, with substitutions manually fixed, full scoring\n",
      "INFO 2019-06-26 20:25:28,724: Accuracy: 0.34297520661157027 for test run on 242 examples\n",
      "INFO 2019-06-26 20:25:28,725: Test on non-associative set, with substitutions manually fixed, partial scoring\n",
      "INFO 2019-06-26 20:25:38,703: Accuracy: 0.3347107438016529 for test run on 242 examples\n"
     ]
    }
   ],
   "source": [
    "%run -m src.main"
   ]
  },
  {
   "cell_type": "code",
   "execution_count": null,
   "metadata": {},
   "outputs": [],
   "source": []
  }
 ],
 "metadata": {
  "kernelspec": {
   "display_name": "wsc_port",
   "language": "python",
   "name": "wsc_port"
  },
  "language_info": {
   "codemirror_mode": {
    "name": "ipython",
    "version": 3
   },
   "file_extension": ".py",
   "mimetype": "text/x-python",
   "name": "python",
   "nbconvert_exporter": "python",
   "pygments_lexer": "ipython3",
   "version": "3.6.8"
  }
 },
 "nbformat": 4,
 "nbformat_minor": 2
}
