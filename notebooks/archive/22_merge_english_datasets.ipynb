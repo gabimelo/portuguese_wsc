{
 "cells": [
  {
   "cell_type": "code",
   "execution_count": 1,
   "metadata": {},
   "outputs": [],
   "source": [
    "import os\n",
    "os.chdir('..')\n",
    "\n",
    "%load_ext autoreload\n",
    "%autoreload 2"
   ]
  },
  {
   "cell_type": "code",
   "execution_count": 2,
   "metadata": {},
   "outputs": [],
   "source": [
    "import torch\n",
    "\n",
    "from nltk.tokenize import word_tokenize\n",
    "\n",
    "from src.main import setup_torch, get_corpus\n",
    "from src.utils import get_latest_model_file\n",
    "from src.winograd_schema_challenge import find_missing_wsc_words_in_corpus_vocab\n",
    "\n",
    "from src.wsc_parser import generate_df_from_json, generate_json, generate_full_sentences"
   ]
  },
  {
   "cell_type": "code",
   "execution_count": 3,
   "metadata": {},
   "outputs": [],
   "source": [
    "df = generate_df_from_json()"
   ]
  },
  {
   "cell_type": "code",
   "execution_count": 4,
   "metadata": {},
   "outputs": [],
   "source": [
    "import json\n",
    "with open('data/processed/WSC_associative_label.json', 'r') as fp:\n",
    "    english_associative_json = json.load(fp)"
   ]
  },
  {
   "cell_type": "code",
   "execution_count": 5,
   "metadata": {},
   "outputs": [],
   "source": [
    "df['is_associative'] = False\n",
    "for item in english_associative_json:\n",
    "    if item['is_associative'] == 1:\n",
    "        df.loc[item['index'],'is_associative'] = True"
   ]
  },
  {
   "cell_type": "code",
   "execution_count": 6,
   "metadata": {},
   "outputs": [
    {
     "data": {
      "text/plain": [
       "37"
      ]
     },
     "execution_count": 6,
     "metadata": {},
     "output_type": "execute_result"
    }
   ],
   "source": [
    "df[df['is_associative']].count().values[0]"
   ]
  },
  {
   "cell_type": "code",
   "execution_count": 7,
   "metadata": {},
   "outputs": [],
   "source": [
    "import json\n",
    "with open('data/processed/WSC_switched_label.json', 'r') as fp:\n",
    "    english_switched_json = json.load(fp)"
   ]
  },
  {
   "cell_type": "code",
   "execution_count": 8,
   "metadata": {},
   "outputs": [],
   "source": [
    "df['is_switchable'] = False\n",
    "for item in english_switched_json:\n",
    "    if item['is_switchable'] == 1:\n",
    "        df.loc[item['index'],'is_switchable'] = True"
   ]
  },
  {
   "cell_type": "code",
   "execution_count": 9,
   "metadata": {},
   "outputs": [
    {
     "data": {
      "text/plain": [
       "131"
      ]
     },
     "execution_count": 9,
     "metadata": {},
     "output_type": "execute_result"
    }
   ],
   "source": [
    "df[df['is_switchable']].count().values[0]"
   ]
  },
  {
   "cell_type": "code",
   "execution_count": 10,
   "metadata": {},
   "outputs": [],
   "source": [
    "import re\n",
    "for item in english_switched_json:\n",
    "    df.loc[item['index'],'substitution_a'] = item['answer0']\n",
    "    df.loc[item['index'],'substitution_b'] = item['answer1']\n",
    "    df.loc[item['index'],'correct_answer'] = 'A' if item['answer0'] == item['correct_answer'] else 'B'\n",
    "    pronoun = re.findall(r'\\[(.*?)\\]', item['sentence_switched'])\n",
    "    df.loc[item['index'],'pronoun'] = pronoun\n",
    "    df.loc[item['index'],'snippet'] = '[' + pronoun[0] + ']'\n",
    "    df.loc[item['index'],'switched'] = item['sentence_switched']"
   ]
  },
  {
   "cell_type": "code",
   "execution_count": 11,
   "metadata": {},
   "outputs": [],
   "source": [
    "df['correct_switched'], df['incorrect_switched'] = zip(*df.apply(generate_full_sentences, axis=1))"
   ]
  },
  {
   "cell_type": "code",
   "execution_count": 12,
   "metadata": {},
   "outputs": [],
   "source": [
    "def capitalize_words(sentence):\n",
    "    words = []\n",
    "    # changed language of tokenizer below\n",
    "    for word in word_tokenize(sentence):\n",
    "        if word.capitalize() in capitalized_words or (len(words) >= 1 and words[-1][-1] in ['.', '!', '?']):\n",
    "            word = word.capitalize()\n",
    "        if len(words) >= 1 and words[-1] == '``':\n",
    "            words[-1] = '\"' + word\n",
    "        elif word in ['.', ',', '!', '?', ';', \"''\"]:\n",
    "            if word == \"''\":\n",
    "                word = '\"'\n",
    "            words[-1] += word\n",
    "        else:\n",
    "            words += [word]\n",
    "    sentence = ' '.join(words).strip()\n",
    "    sentence = sentence.replace('\" eu primeiro! \"', '\"Eu primeiro\"!')\n",
    "    sentence = sentence.replace('\" Eu primeiro! \"', '\"Eu primeiro\"!')\n",
    "    sentence = sentence.replace('tv', 'TV')\n",
    "    sentence = sentence.replace('tv.', 'TV.')\n",
    "    \n",
    "    return sentence"
   ]
  },
  {
   "cell_type": "code",
   "execution_count": 13,
   "metadata": {},
   "outputs": [],
   "source": [
    "with open('data/processed/portuguese_capitalized_words.txt', 'r') as capitalized_words_file:\n",
    "    capitalized_words = [line.strip() for line in capitalized_words_file.readlines()]"
   ]
  },
  {
   "cell_type": "code",
   "execution_count": 14,
   "metadata": {},
   "outputs": [],
   "source": [
    "df['switched'] = df['switched'].apply(capitalize_words)\n",
    "df['correct_sentence'] = df['correct_sentence'].apply(capitalize_words)\n",
    "df['incorrect_sentence'] = df['incorrect_sentence'].apply(capitalize_words)\n",
    "df['correct_switched'] = df['correct_switched'].apply(capitalize_words)\n",
    "df['incorrect_switched'] = df['incorrect_switched'].apply(capitalize_words)"
   ]
  },
  {
   "cell_type": "code",
   "execution_count": 15,
   "metadata": {},
   "outputs": [],
   "source": [
    "df['manually_fixed_correct_sentence'], df['manually_fixed_incorrect_sentence'], \\\n",
    "    df['manually_fixed_correct_switched'], df['manually_fixed_incorrect_switched'] = \\\n",
    "    df['correct_sentence'], df['incorrect_sentence'], df['correct_switched'], df['incorrect_switched']"
   ]
  },
  {
   "cell_type": "code",
   "execution_count": 16,
   "metadata": {},
   "outputs": [],
   "source": [
    "df['translated'] = True"
   ]
  },
  {
   "cell_type": "code",
   "execution_count": 17,
   "metadata": {},
   "outputs": [],
   "source": [
    "generate_json(df)"
   ]
  },
  {
   "cell_type": "code",
   "execution_count": null,
   "metadata": {},
   "outputs": [],
   "source": []
  }
 ],
 "metadata": {
  "kernelspec": {
   "display_name": "wsc_port",
   "language": "python",
   "name": "wsc_port"
  },
  "language_info": {
   "codemirror_mode": {
    "name": "ipython",
    "version": 3
   },
   "file_extension": ".py",
   "mimetype": "text/x-python",
   "name": "python",
   "nbconvert_exporter": "python",
   "pygments_lexer": "ipython3",
   "version": "3.6.8"
  }
 },
 "nbformat": 4,
 "nbformat_minor": 2
}
