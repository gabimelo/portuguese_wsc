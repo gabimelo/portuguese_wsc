{
 "cells": [
  {
   "cell_type": "code",
   "execution_count": 1,
   "metadata": {},
   "outputs": [],
   "source": [
    "import os\n",
    "os.chdir('..')\n",
    "\n",
    "%load_ext autoreload\n",
    "%autoreload 2"
   ]
  },
  {
   "cell_type": "code",
   "execution_count": null,
   "metadata": {},
   "outputs": [],
   "source": [
    "import torch\n",
    "\n",
    "from src.main import setup_torch, get_corpus\n",
    "from src.utils import get_latest_model_file\n",
    "from src.winograd_schema_challenge import (\n",
    "    analyse_single_wsc, generate_full_sentences, find_missing_wsc_words_in_corpus_vocab, winograd_test\n",
    ")\n",
    "\n",
    "from src.wsc_parser import generate_df, generate_json"
   ]
  },
  {
   "cell_type": "markdown",
   "metadata": {},
   "source": [
    "### Sentences with issues:"
   ]
  },
  {
   "cell_type": "code",
   "execution_count": null,
   "metadata": {},
   "outputs": [],
   "source": [
    "still_in_english = [\n",
    "    \"It was a summer afternoon, and the dog was sitting in the middle of the lawn. After a while, it got up and moved to a spot under the tree, because the spot under the tree was hot.\",\n",
    "    \"It was a summer afternoon, and the dog was sitting in the middle of the lawn. After a while, it got up and moved to a spot under the tree, because the dog was cooler.\",\n",
    "    \"I couldn't put the pot on the shelf because the shelf was too tall.\",\n",
    "    \"I couldn't put the pot on the shelf because the pot was too high.\",\n",
    "    \"There is a pillar between me and the stage, and I can't see around the stage.\",\n",
    "    \"There is a pillar between me and the stage, and I can't see the pillar.\",\n",
    "    \"They broadcast an announcement, but a subway came into the station and I couldn't hear the subway.\",\n",
    "    \"They broadcast an announcement, but a subway came into the station and I couldn't hear over the announcement.\",\n",
    "#     \"The large ball crashed right through the table because the table was made of steel.\",\n",
    "#     \"The large ball crashed right through the table because the large ball was made of styrofoam.\"\n",
    "]"
   ]
  },
  {
   "cell_type": "code",
   "execution_count": null,
   "metadata": {},
   "outputs": [],
   "source": [
    "subs_not_working = [\n",
    "    'Jim fez um sinal para o barman e apontou para sua taça vazia.',\n",
    "    'Jim fez um sinal para o barman e apontou para jim chave do banheiro.',\n",
    "    'Dan ficou no banco de trás enquanto Bill reinvidicava a frente porque Bill \"Eu primeiro!\" era lento.',\n",
    "    'Dan ficou no banco de trás enquanto Bill reinvidicava a frente porque Dan \"Eu primeiro!\" era mais rápido.',\n",
    "    'Tom disse \"Check\" para Ralph enquanto ele movia Ralph bispo.',\n",
    "    'Tom disse \"Check\" para Ralph enquanto ele tomava Tom bispo.',\n",
    "    'John contratou Bill para cuidar Bill.',\n",
    "    'John foi contratado por Bill para cuidar John.',\n",
    "    'Ele os abaixou quando o vento parou.',\n",
    "    'Ele os abriu quando o vento parou.',\n",
    "    'As raposas estão entrando à noite e atacando as galinhas. Eu terei que matá- las.',\n",
    "    'As raposas estão entrando à noite e atacando as galinhas. Eu terei que protegê- las.',\n",
    "    'O caminho até o lago estava interditado, então nós não podíamos usá-o lago.',\n",
    "    'O caminho até o lago estava interditado, então nós não podíamos alcançá-o caminho.',\n",
    "    'Sara pegou um livro emprestado da biblioteca porque ela precisa dele para um artigo no qual ela está trabalhando. Ela o artigo lê quando chega do trabalho.',\n",
    "    'Sara pegou um livro emprestado da biblioteca porque ela precisa dele para um artigo no qual ela está trabalhando. Ela o livro escreve quando chega do trabalho.',\n",
    "    'Como estava chovendo, eu carreguei a revista na minha mochila para mantê-a mochila seca.',\n",
    "    'Como estava chovendo, eu carreguei a revista sobre a minha mochila para mantê-a revista seca.',\n",
    "    'Mary sacou sua flauta e tocou uma de suas peças favoritas. Ela a peça tem desde criança.',\n",
    "    'Mary sacou sua flauta e tocou uma de suas peças favoritas. Ela a flauta ama desde criança.',\n",
    "    'Joe vendeu sua casa e comprou uma nova a alguns quilômetros de distância. Ele se mudará dela na quinta-feira.',\n",
    "    'Durante a tempestade, o poste caiu e atravessou o telhado da minha casa. Agora, eu tenho que mandar removêo telhado.',\n",
    "    'Durante a tempestade, o poste caiu e atravessou o telhado da minha casa. Agora, eu tenho que mandar consertáo posto.',\n",
    "    'Eu estava tentando abrir o cadeado com a chave, mas alguém havia preenchido a fechadura com goma de mascar, e eu não conseguia inseri-la .',\n",
    "    'Eu estava tentando abrir o cadeado com a chave, mas alguém havia preenchido a fechadura com goma de mascar, e eu não conseguia removê-la.',\n",
    "    'Há uma fenda na parede. É possível enxergar o jardim através a parede.',\n",
    "    'Há uma fenda na parede. É possível enxergar o jardim atrás a fenda.',\n",
    "    # ok mas estranho:\n",
    "    'Eu usei um pano velho para limpar o alicate, e então o alicate coloquei no lixo.',\n",
    "    'Eu usei um pano velho para limpar o alicate, e então o pano coloquei na gaveta.',\n",
    "'    Os alunos mais velhos estavam fazendo bullying com os mais jovens, então nós os alunos mais jovens punimos.',\n",
    "    'Os alunos mais velhos estavam fazendo bullying com os mais jovens, então nós os alunos mais velhos protegemos.'\n",
    "    # \"policia estavam\", errado\n",
    "    'Os bombeiros chegaram depois da polícia porque a polícia estavam vindo de muito longe.',\n",
    "    'Os bombeiros chegaram antes da polícia porque os bombeiros estavam vindo de muito longe.',\n",
    "    'O homem levantou o menino sobre sua cabeça.',\n",
    "    'O homem levantou o menino até sua beliche.',\n",
    "    'Alongando suas costas, a mulher sorriu para a menina.',\n",
    "    'Dando um tapinha em suas costas, a mulher sorriu para a menina.',\n",
    "    'Billy chorou porque Toby não queria aceitar seu brinquedo.',\n",
    "    'Billy chorou porque Toby não queria compartilhar seu brinquedo.',\n",
    "    'Lily conversou com Donna, quebrando sua promessa.',\n",
    "    'Lily conversou com Donna, tirando sua concentração.',\n",
    "    'Quando Tommy derrubou seu sorvete, Timmy gargalhou, então seu pai olhou-o com olhar empático.',\n",
    "    'Quando Tommy derrubou seu sorvete, Timmy gargalhou, então seu pai olhou-o com olhar severo.',\n",
    "    'Enquanto Ollie carregava Tommy subindo a longa escada em espiral, suas pernas doíam.',\n",
    "    'Enquanto Ollie carregava Tommy subindo a longa escada em espiral, suas pernas balançavam.',\n",
    "    'O pai carregava o menino dormindo em seu colo',\n",
    "    'O pai carregava o menino dormindo em seu berço',\n",
    "    'A mulher estava segurando a menina contra seu peito',\n",
    "    'A mulher estava segurando a menina contra seu desejo.',\n",
    "    'Este livro introduziu Shakespeare a Ovídio; ele foi uma grande influência em sua escrita.',\n",
    "    'Este livro introduziu Shakespeare a Goethe; ele foi uma grande influência em sua escrita.',\n",
    "    'Este livro introduziu Shakespeare a Ovídio; ele era uma excelente seleção de sua escrita.',\n",
    "    'Este livro introduziu Shakespeare a Goethe; ele era uma excelente seleção de sua escrita.'\n",
    "]"
   ]
  },
  {
   "cell_type": "code",
   "execution_count": null,
   "metadata": {},
   "outputs": [],
   "source": [
    "df = generate_df(still_in_english)\n",
    "df['correct_sentence'], df['incorrect_sentence'] = zip(*df.apply(generate_full_sentences, axis=1))"
   ]
  },
  {
   "cell_type": "code",
   "execution_count": null,
   "metadata": {},
   "outputs": [],
   "source": [
    "df['correct_sentence'].replace({'alice': 'Alice'}, inplace=True, regex=True)\n",
    "df['incorrect_sentence'].replace({'alice': 'Alice'}, inplace=True, regex=True)\n",
    "df['correct_sentence'].replace({'fred': 'Fred'}, inplace=True, regex=True)\n",
    "df['incorrect_sentence'].replace({'fred': 'Fred'}, inplace=True, regex=True)\n",
    "df['correct_sentence'].replace({'mary': 'Mary'}, inplace=True, regex=True)\n",
    "df['incorrect_sentence'].replace({'mary': 'Mary'}, inplace=True, regex=True)\n",
    "df['correct_sentence'].replace({'anne': 'Anne'}, inplace=True, regex=True)\n",
    "df['incorrect_sentence'].replace({'anne': 'Anne'}, inplace=True, regex=True)\n",
    "df['correct_sentence'].replace({'jim': 'Jim'}, inplace=True, regex=True)\n",
    "df['incorrect_sentence'].replace({'jim': 'Jim'}, inplace=True, regex=True)\n",
    "df['correct_sentence'].replace({'O golpista': 'o golpista'}, inplace=True, regex=True)\n",
    "df['incorrect_sentence'].replace({'O golpista': 'o golpista'}, inplace=True, regex=True)\n",
    "df['correct_sentence'].replace({'O tio do Joe': 'o tio do Joe'}, inplace=True, regex=True)\n",
    "df['incorrect_sentence'].replace({'O tio do Joe': 'o tio do Joe'}, inplace=True, regex=True)\n",
    "df['correct_sentence'].replace({'desenho da tina': 'desenho da Tina'}, inplace=True, regex=True)\n",
    "df['incorrect_sentence'].replace({'desenho da tina': 'desenho da Tina'}, inplace=True, regex=True)\n",
    "df['correct_sentence'].replace({'desenho do sam': 'desenho do Sam'}, inplace=True, regex=True)\n",
    "df['incorrect_sentence'].replace({'desenho do sam': 'desenho do Sam'}, inplace=True, regex=True)"
   ]
  },
  {
   "cell_type": "code",
   "execution_count": null,
   "metadata": {},
   "outputs": [],
   "source": [
    "generate_json(df)"
   ]
  },
  {
   "cell_type": "code",
   "execution_count": null,
   "metadata": {},
   "outputs": [],
   "source": []
  }
 ],
 "metadata": {
  "kernelspec": {
   "display_name": "wsc_port",
   "language": "python",
   "name": "wsc_port"
  },
  "language_info": {
   "codemirror_mode": {
    "name": "ipython",
    "version": 3
   },
   "file_extension": ".py",
   "mimetype": "text/x-python",
   "name": "python",
   "nbconvert_exporter": "python",
   "pygments_lexer": "ipython3",
   "version": "3.6.8"
  }
 },
 "nbformat": 4,
 "nbformat_minor": 2
}
