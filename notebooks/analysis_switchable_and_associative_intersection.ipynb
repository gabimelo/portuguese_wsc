{
 "cells": [
  {
   "cell_type": "code",
   "execution_count": 1,
   "metadata": {},
   "outputs": [],
   "source": [
    "import os\n",
    "os.chdir('..')\n",
    "\n",
    "%load_ext autoreload\n",
    "%autoreload 2"
   ]
  },
  {
   "cell_type": "code",
   "execution_count": 2,
   "metadata": {},
   "outputs": [],
   "source": [
    "from src.winograd_collection_manipulation.wsc_json_handler import generate_df_from_json"
   ]
  },
  {
   "cell_type": "code",
   "execution_count": 3,
   "metadata": {},
   "outputs": [],
   "source": [
    "df = generate_df_from_json()"
   ]
  },
  {
   "cell_type": "code",
   "execution_count": 4,
   "metadata": {},
   "outputs": [
    {
     "data": {
      "text/html": [
       "<div>\n",
       "<style scoped>\n",
       "    .dataframe tbody tr th:only-of-type {\n",
       "        vertical-align: middle;\n",
       "    }\n",
       "\n",
       "    .dataframe tbody tr th {\n",
       "        vertical-align: top;\n",
       "    }\n",
       "\n",
       "    .dataframe thead th {\n",
       "        text-align: right;\n",
       "    }\n",
       "</style>\n",
       "<table border=\"1\" class=\"dataframe\">\n",
       "  <thead>\n",
       "    <tr style=\"text-align: right;\">\n",
       "      <th></th>\n",
       "      <th>correct_sentence</th>\n",
       "      <th>incorrect_sentence</th>\n",
       "      <th>manually_fixed_correct_sentence</th>\n",
       "      <th>manually_fixed_incorrect_sentence</th>\n",
       "      <th>correct_switched</th>\n",
       "      <th>incorrect_switched</th>\n",
       "      <th>is_switchable</th>\n",
       "      <th>is_associative</th>\n",
       "      <th>translated</th>\n",
       "    </tr>\n",
       "  </thead>\n",
       "  <tbody>\n",
       "    <tr>\n",
       "      <th>0</th>\n",
       "      <td>Os vereadores recusaram a autorização aos mani...</td>\n",
       "      <td>Os vereadores recusaram a autorização aos mani...</td>\n",
       "      <td>Os vereadores recusaram a autorização aos mani...</td>\n",
       "      <td>Os vereadores recusaram a autorização aos mani...</td>\n",
       "      <td></td>\n",
       "      <td></td>\n",
       "      <td>False</td>\n",
       "      <td>False</td>\n",
       "      <td>True</td>\n",
       "    </tr>\n",
       "    <tr>\n",
       "      <th>1</th>\n",
       "      <td>Os vereadores recusaram a autorização aos mani...</td>\n",
       "      <td>Os vereadores recusaram a autorização aos mani...</td>\n",
       "      <td>Os vereadores recusaram a autorização aos mani...</td>\n",
       "      <td>Os vereadores recusaram a autorização aos mani...</td>\n",
       "      <td></td>\n",
       "      <td></td>\n",
       "      <td>False</td>\n",
       "      <td>False</td>\n",
       "      <td>True</td>\n",
       "    </tr>\n",
       "    <tr>\n",
       "      <th>2</th>\n",
       "      <td>A medalha não cabe na maleta porque a medalha ...</td>\n",
       "      <td>A medalha não cabe na maleta porque a maleta é...</td>\n",
       "      <td>A medalha não cabe na maleta porque a medalha ...</td>\n",
       "      <td>A medalha não cabe na maleta porque a maleta é...</td>\n",
       "      <td></td>\n",
       "      <td></td>\n",
       "      <td>False</td>\n",
       "      <td>False</td>\n",
       "      <td>True</td>\n",
       "    </tr>\n",
       "    <tr>\n",
       "      <th>3</th>\n",
       "      <td>A medalha não cabe na maleta porque a maleta é...</td>\n",
       "      <td>A medalha não cabe na maleta porque a medalha ...</td>\n",
       "      <td>A medalha não cabe na maleta porque a maleta é...</td>\n",
       "      <td>A medalha não cabe na maleta porque a medalha ...</td>\n",
       "      <td></td>\n",
       "      <td></td>\n",
       "      <td>False</td>\n",
       "      <td>False</td>\n",
       "      <td>True</td>\n",
       "    </tr>\n",
       "    <tr>\n",
       "      <th>4</th>\n",
       "      <td>Joan certificou-se de agradecer Susan por toda...</td>\n",
       "      <td>Joan certificou-se de agradecer Susan por toda...</td>\n",
       "      <td>Joan certificou-se de agradecer Susan por toda...</td>\n",
       "      <td>Joan certificou-se de agradecer Susan por toda...</td>\n",
       "      <td>Susan certificou-se de agradecer Joan por toda...</td>\n",
       "      <td>Susan certificou-se de agradecer Joan por toda...</td>\n",
       "      <td>True</td>\n",
       "      <td>False</td>\n",
       "      <td>True</td>\n",
       "    </tr>\n",
       "  </tbody>\n",
       "</table>\n",
       "</div>"
      ],
      "text/plain": [
       "                                    correct_sentence  \\\n",
       "0  Os vereadores recusaram a autorização aos mani...   \n",
       "1  Os vereadores recusaram a autorização aos mani...   \n",
       "2  A medalha não cabe na maleta porque a medalha ...   \n",
       "3  A medalha não cabe na maleta porque a maleta é...   \n",
       "4  Joan certificou-se de agradecer Susan por toda...   \n",
       "\n",
       "                                  incorrect_sentence  \\\n",
       "0  Os vereadores recusaram a autorização aos mani...   \n",
       "1  Os vereadores recusaram a autorização aos mani...   \n",
       "2  A medalha não cabe na maleta porque a maleta é...   \n",
       "3  A medalha não cabe na maleta porque a medalha ...   \n",
       "4  Joan certificou-se de agradecer Susan por toda...   \n",
       "\n",
       "                     manually_fixed_correct_sentence  \\\n",
       "0  Os vereadores recusaram a autorização aos mani...   \n",
       "1  Os vereadores recusaram a autorização aos mani...   \n",
       "2  A medalha não cabe na maleta porque a medalha ...   \n",
       "3  A medalha não cabe na maleta porque a maleta é...   \n",
       "4  Joan certificou-se de agradecer Susan por toda...   \n",
       "\n",
       "                   manually_fixed_incorrect_sentence  \\\n",
       "0  Os vereadores recusaram a autorização aos mani...   \n",
       "1  Os vereadores recusaram a autorização aos mani...   \n",
       "2  A medalha não cabe na maleta porque a maleta é...   \n",
       "3  A medalha não cabe na maleta porque a medalha ...   \n",
       "4  Joan certificou-se de agradecer Susan por toda...   \n",
       "\n",
       "                                    correct_switched  \\\n",
       "0                                                      \n",
       "1                                                      \n",
       "2                                                      \n",
       "3                                                      \n",
       "4  Susan certificou-se de agradecer Joan por toda...   \n",
       "\n",
       "                                  incorrect_switched  is_switchable  \\\n",
       "0                                                             False   \n",
       "1                                                             False   \n",
       "2                                                             False   \n",
       "3                                                             False   \n",
       "4  Susan certificou-se de agradecer Joan por toda...           True   \n",
       "\n",
       "   is_associative  translated  \n",
       "0           False        True  \n",
       "1           False        True  \n",
       "2           False        True  \n",
       "3           False        True  \n",
       "4           False        True  "
      ]
     },
     "execution_count": 4,
     "metadata": {},
     "output_type": "execute_result"
    }
   ],
   "source": [
    "df.head()"
   ]
  },
  {
   "cell_type": "code",
   "execution_count": 5,
   "metadata": {},
   "outputs": [
    {
     "data": {
      "text/html": [
       "<div>\n",
       "<style scoped>\n",
       "    .dataframe tbody tr th:only-of-type {\n",
       "        vertical-align: middle;\n",
       "    }\n",
       "\n",
       "    .dataframe tbody tr th {\n",
       "        vertical-align: top;\n",
       "    }\n",
       "\n",
       "    .dataframe thead th {\n",
       "        text-align: right;\n",
       "    }\n",
       "</style>\n",
       "<table border=\"1\" class=\"dataframe\">\n",
       "  <thead>\n",
       "    <tr style=\"text-align: right;\">\n",
       "      <th></th>\n",
       "      <th>correct_sentence</th>\n",
       "      <th>incorrect_sentence</th>\n",
       "      <th>manually_fixed_correct_sentence</th>\n",
       "      <th>manually_fixed_incorrect_sentence</th>\n",
       "      <th>correct_switched</th>\n",
       "      <th>incorrect_switched</th>\n",
       "      <th>is_switchable</th>\n",
       "      <th>is_associative</th>\n",
       "      <th>translated</th>\n",
       "    </tr>\n",
       "  </thead>\n",
       "  <tbody>\n",
       "    <tr>\n",
       "      <th>231</th>\n",
       "      <td>O homem levantou o menino até o menino beliche.</td>\n",
       "      <td>O homem levantou o menino até o homem beliche.</td>\n",
       "      <td>O homem levantou o menino até a beliche do men...</td>\n",
       "      <td>O homem levantou o menino até a beliche do homem.</td>\n",
       "      <td>O menino levantou o homem até a beliche do homem.</td>\n",
       "      <td>O menino levantou o homem até a beliche do men...</td>\n",
       "      <td>True</td>\n",
       "      <td>True</td>\n",
       "      <td>True</td>\n",
       "    </tr>\n",
       "  </tbody>\n",
       "</table>\n",
       "</div>"
      ],
      "text/plain": [
       "                                    correct_sentence  \\\n",
       "231  O homem levantou o menino até o menino beliche.   \n",
       "\n",
       "                                 incorrect_sentence  \\\n",
       "231  O homem levantou o menino até o homem beliche.   \n",
       "\n",
       "                       manually_fixed_correct_sentence  \\\n",
       "231  O homem levantou o menino até a beliche do men...   \n",
       "\n",
       "                     manually_fixed_incorrect_sentence  \\\n",
       "231  O homem levantou o menino até a beliche do homem.   \n",
       "\n",
       "                                      correct_switched  \\\n",
       "231  O menino levantou o homem até a beliche do homem.   \n",
       "\n",
       "                                    incorrect_switched  is_switchable  \\\n",
       "231  O menino levantou o homem até a beliche do men...           True   \n",
       "\n",
       "     is_associative  translated  \n",
       "231            True        True  "
      ]
     },
     "execution_count": 5,
     "metadata": {},
     "output_type": "execute_result"
    }
   ],
   "source": [
    "df[df.is_switchable & df.is_associative]"
   ]
  },
  {
   "cell_type": "code",
   "execution_count": 7,
   "metadata": {},
   "outputs": [
    {
     "data": {
      "text/plain": [
       "114"
      ]
     },
     "execution_count": 7,
     "metadata": {},
     "output_type": "execute_result"
    }
   ],
   "source": [
    "len(df[~df.is_switchable & ~df.is_associative])"
   ]
  },
  {
   "cell_type": "code",
   "execution_count": 8,
   "metadata": {},
   "outputs": [
    {
     "data": {
      "text/plain": [
       "134"
      ]
     },
     "execution_count": 8,
     "metadata": {},
     "output_type": "execute_result"
    }
   ],
   "source": [
    "len(df[df.is_switchable & ~df.is_associative])"
   ]
  },
  {
   "cell_type": "code",
   "execution_count": 9,
   "metadata": {},
   "outputs": [
    {
     "data": {
      "text/plain": [
       "36"
      ]
     },
     "execution_count": 9,
     "metadata": {},
     "output_type": "execute_result"
    }
   ],
   "source": [
    "len(df[~df.is_switchable & df.is_associative])"
   ]
  },
  {
   "cell_type": "code",
   "execution_count": 10,
   "metadata": {},
   "outputs": [
    {
     "data": {
      "text/plain": [
       "True"
      ]
     },
     "execution_count": 10,
     "metadata": {},
     "output_type": "execute_result"
    }
   ],
   "source": [
    "114+134+36+1 == len(df)"
   ]
  },
  {
   "cell_type": "code",
   "execution_count": null,
   "metadata": {},
   "outputs": [],
   "source": []
  }
 ],
 "metadata": {
  "kernelspec": {
   "display_name": "wsc_port",
   "language": "python",
   "name": "wsc_port"
  },
  "language_info": {
   "codemirror_mode": {
    "name": "ipython",
    "version": 3
   },
   "file_extension": ".py",
   "mimetype": "text/x-python",
   "name": "python",
   "nbconvert_exporter": "python",
   "pygments_lexer": "ipython3",
   "version": "3.6.8"
  }
 },
 "nbformat": 4,
 "nbformat_minor": 2
}
