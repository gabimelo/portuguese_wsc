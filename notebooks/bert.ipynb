{
 "cells": [
  {
   "cell_type": "code",
   "execution_count": 1,
   "metadata": {},
   "outputs": [],
   "source": [
    "import os\n",
    "os.chdir('..')\n",
    "\n",
    "%load_ext autoreload\n",
    "%autoreload 2"
   ]
  },
  {
   "cell_type": "code",
   "execution_count": 2,
   "metadata": {},
   "outputs": [
    {
     "name": "stderr",
     "output_type": "stream",
     "text": [
      "I0201 18:21:05.290322 140609710577408 file_utils.py:35] PyTorch version 1.0.1.post2 available.\n",
      "W0201 18:21:06.074531 140609710577408 __init__.py:28] To use data.metrics please install scikit-learn. See https://scikit-learn.org/stable/index.html\n"
     ]
    },
    {
     "ename": "ImportError",
     "evalue": "cannot import name 'get_probability_of_next_sentence'",
     "output_type": "error",
     "traceback": [
      "\u001b[0;31m---------------------------------------------------------------------------\u001b[0m",
      "\u001b[0;31mImportError\u001b[0m                               Traceback (most recent call last)",
      "\u001b[0;32m<ipython-input-2-1ddf477ef1dd>\u001b[0m in \u001b[0;36m<module>\u001b[0;34m\u001b[0m\n\u001b[1;32m      4\u001b[0m \u001b[0;32mfrom\u001b[0m \u001b[0mtransformers\u001b[0m \u001b[0;32mimport\u001b[0m \u001b[0mBertTokenizer\u001b[0m\u001b[0;34m,\u001b[0m \u001b[0mBertForNextSentencePrediction\u001b[0m\u001b[0;34m\u001b[0m\u001b[0;34m\u001b[0m\u001b[0m\n\u001b[1;32m      5\u001b[0m \u001b[0;34m\u001b[0m\u001b[0m\n\u001b[0;32m----> 6\u001b[0;31m \u001b[0;32mfrom\u001b[0m \u001b[0msrc\u001b[0m\u001b[0;34m.\u001b[0m\u001b[0mlanguage_model_usage\u001b[0m\u001b[0;34m.\u001b[0m\u001b[0mwinograd_schema_challenge\u001b[0m \u001b[0;32mimport\u001b[0m \u001b[0mget_probability_of_next_sentence\u001b[0m\u001b[0;34m\u001b[0m\u001b[0;34m\u001b[0m\u001b[0m\n\u001b[0m",
      "\u001b[0;31mImportError\u001b[0m: cannot import name 'get_probability_of_next_sentence'"
     ]
    }
   ],
   "source": [
    "from functools import partial\n",
    "\n",
    "import torch\n",
    "from transformers import BertTokenizer, BertForNextSentencePrediction\n",
    "\n",
    "from src.language_model_usage.winograd_schema_challenge import get_probability_of_next_sentence"
   ]
  },
  {
   "cell_type": "code",
   "execution_count": null,
   "metadata": {},
   "outputs": [],
   "source": [
    "tokenizer = BertTokenizer.from_pretrained('bert-base-uncased')\n",
    "model = BertForNextSentencePrediction.from_pretrained('bert-base-uncased')\n",
    "\n",
    "partial_get_probability_of_next_sentence = partial(get_probability_of_next_sentence, tokenizer, model)"
   ]
  },
  {
   "cell_type": "code",
   "execution_count": null,
   "metadata": {},
   "outputs": [],
   "source": [
    "text1 = \"How old are you?\"\n",
    "text2 = \"The Eiffel Tower is in Paris\"\n",
    "prediction = partial_get_probability_of_next_sentence(text1, text2)\n",
    "print(prediction)"
   ]
  },
  {
   "cell_type": "code",
   "execution_count": null,
   "metadata": {},
   "outputs": [],
   "source": [
    "text1 = \"How old are you?\"\n",
    "text2 = \"I am 22 years old\"\n",
    "prediction = partial_get_probability_of_next_sentence(text1, text2)\n",
    "print(prediction)\n",
    "print(prediction[0])"
   ]
  },
  {
   "cell_type": "code",
   "execution_count": null,
   "metadata": {},
   "outputs": [],
   "source": [
    "tokenizer = BertTokenizer.from_pretrained('bert-base-multilingual-cased')\n",
    "model = BertForNextSentencePrediction.from_pretrained('bert-base-multilingual-cased')\n",
    "\n",
    "partial_get_probability_of_next_sentence = partial(get_probability_of_next_sentence, tokenizer, model)"
   ]
  },
  {
   "cell_type": "code",
   "execution_count": null,
   "metadata": {},
   "outputs": [],
   "source": [
    "text1 = \"Quantos anos você tem?\"\n",
    "text2 = \"A Torre Eiffel fica em Paris\"\n",
    "prediction = partial_get_probability_of_next_sentence(text1, text2)\n",
    "print(prediction)"
   ]
  },
  {
   "cell_type": "code",
   "execution_count": null,
   "metadata": {},
   "outputs": [],
   "source": [
    "text1 = \"Quantos anos você tem?\"\n",
    "text2 = \"Eu tenho 22 anos\"\n",
    "prediction = partial_get_probability_of_next_sentence(text1, text2)\n",
    "print(prediction)"
   ]
  },
  {
   "cell_type": "code",
   "execution_count": null,
   "metadata": {},
   "outputs": [],
   "source": [
    "def get_sentence_breaks(first_sentence, second_sentence):\n",
    "    for i in range(len(first_sentence.split())):\n",
    "        if first_sentence.split()[i] != second_sentence.split()[i]:  # noqaE226\n",
    "            break\n",
    "    return i"
   ]
  },
  {
   "cell_type": "code",
   "execution_count": null,
   "metadata": {},
   "outputs": [],
   "source": [
    "def test_get_sentence_breaks():\n",
    "    first_sentence = 'The city councilmen refused the demonstrators a permit because the city councilmen feared violence.'\n",
    "    second_sentence = 'The city councilmen refused the demonstrators a permit because the demonstrators feared violence.'\n",
    "    i = get_sentence_breaks(first_sentence, second_sentence)\n",
    "    assert ' '.join(first_sentence.split()[:i]) == \\\n",
    "        'The city councilmen refused the demonstrators a permit because the'\n",
    "    assert ' '.join(second_sentence.split()[:i]) == \\\n",
    "        'The city councilmen refused the demonstrators a permit because the'\n",
    "    assert ' '.join(first_sentence.split()[i:]) == \\\n",
    "        'city councilmen feared violence.'\n",
    "    assert ' '.join(second_sentence.split()[i:]) == \\\n",
    "        'demonstrators feared violence.'\n",
    "    \n",
    "    first_sentence = 'Os vereadores recusaram a autorização aos manifestantes porque os vereadores temiam a violência.'\n",
    "    second_sentence = 'Os vereadores recusaram a autorização aos manifestantes porque os manifestantes temiam a violência.'\n",
    "    \n",
    "    i = get_sentence_breaks(first_sentence, second_sentence)\n",
    "    assert ' '.join(first_sentence.split()[:i]) == \\\n",
    "        'Os vereadores recusaram a autorização aos manifestantes porque os'\n",
    "    assert ' '.join(second_sentence.split()[:i]) == \\\n",
    "        'Os vereadores recusaram a autorização aos manifestantes porque os'\n",
    "    assert ' '.join(first_sentence.split()[i:]) == \\\n",
    "        'vereadores temiam a violência.'\n",
    "    assert ' '.join(second_sentence.split()[i:]) == \\\n",
    "        'manifestantes temiam a violência.'\n",
    "    \n",
    "test_get_sentence_breaks()"
   ]
  }
 ],
 "metadata": {
  "kernelspec": {
   "display_name": "wsc_port",
   "language": "python",
   "name": "wsc_port"
  },
  "language_info": {
   "codemirror_mode": {
    "name": "ipython",
    "version": 3
   },
   "file_extension": ".py",
   "mimetype": "text/x-python",
   "name": "python",
   "nbconvert_exporter": "python",
   "pygments_lexer": "ipython3",
   "version": "3.6.8"
  }
 },
 "nbformat": 4,
 "nbformat_minor": 2
}
