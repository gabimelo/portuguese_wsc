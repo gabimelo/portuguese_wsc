{
 "cells": [
  {
   "cell_type": "code",
   "execution_count": 1,
   "metadata": {},
   "outputs": [],
   "source": [
    "import os\n",
    "os.chdir('..')\n",
    "\n",
    "%load_ext autoreload\n",
    "%autoreload 2"
   ]
  },
  {
   "cell_type": "code",
   "execution_count": 2,
   "metadata": {},
   "outputs": [
    {
     "name": "stderr",
     "output_type": "stream",
     "text": [
      "I0426 16:05:46.701884 140090181846784 file_utils.py:35] PyTorch version 1.0.1.post2 available.\n",
      "W0426 16:05:49.557264 140090181846784 __init__.py:28] To use data.metrics please install scikit-learn. See https://scikit-learn.org/stable/index.html\n"
     ]
    }
   ],
   "source": [
    "from functools import partial\n",
    "\n",
    "import torch\n",
    "from transformers import BertTokenizer, BertForNextSentencePrediction\n",
    "\n",
    "from src.language_model_usage.winograd_schema_challenge import get_probability_of_next_sentence"
   ]
  },
  {
   "cell_type": "code",
   "execution_count": 3,
   "metadata": {},
   "outputs": [
    {
     "name": "stderr",
     "output_type": "stream",
     "text": [
      "I0426 16:05:51.388690 140090181846784 tokenization_utils.py:398] loading file https://s3.amazonaws.com/models.huggingface.co/bert/bert-base-uncased-vocab.txt from cache at /home/gabrielamelo/.cache/torch/transformers/26bc1ad6c0ac742e9b52263248f6d0f00068293b33709fae12320c0e35ccfbbb.542ce4285a40d23a559526243235df47c5f75c197f04f37d1a0c124c32c9a084\n",
      "I0426 16:05:51.981636 140090181846784 file_utils.py:362] https://s3.amazonaws.com/models.huggingface.co/bert/bert-base-uncased-config.json not found in cache or force_download set to True, downloading to /tmp/tmpdn6ecrly\n",
      "I0426 16:05:52.551770 140090181846784 file_utils.py:377] copying /tmp/tmpdn6ecrly to cache at /home/gabrielamelo/.cache/torch/transformers/4dad0251492946e18ac39290fcfe91b89d370fee250efe9521476438fe8ca185.7156163d5fdc189c3016baca0775ffce230789d7fa2a42ef516483e4ca884517\n",
      "I0426 16:05:52.554802 140090181846784 file_utils.py:381] creating metadata file for /home/gabrielamelo/.cache/torch/transformers/4dad0251492946e18ac39290fcfe91b89d370fee250efe9521476438fe8ca185.7156163d5fdc189c3016baca0775ffce230789d7fa2a42ef516483e4ca884517\n",
      "I0426 16:05:52.558679 140090181846784 file_utils.py:390] removing temp file /tmp/tmpdn6ecrly\n",
      "I0426 16:05:52.560797 140090181846784 configuration_utils.py:185] loading configuration file https://s3.amazonaws.com/models.huggingface.co/bert/bert-base-uncased-config.json from cache at /home/gabrielamelo/.cache/torch/transformers/4dad0251492946e18ac39290fcfe91b89d370fee250efe9521476438fe8ca185.7156163d5fdc189c3016baca0775ffce230789d7fa2a42ef516483e4ca884517\n",
      "I0426 16:05:52.561156 140090181846784 configuration_utils.py:199] Model config {\n",
      "  \"architectures\": [\n",
      "    \"BertForMaskedLM\"\n",
      "  ],\n",
      "  \"attention_probs_dropout_prob\": 0.1,\n",
      "  \"finetuning_task\": null,\n",
      "  \"hidden_act\": \"gelu\",\n",
      "  \"hidden_dropout_prob\": 0.1,\n",
      "  \"hidden_size\": 768,\n",
      "  \"id2label\": {\n",
      "    \"0\": \"LABEL_0\",\n",
      "    \"1\": \"LABEL_1\"\n",
      "  },\n",
      "  \"initializer_range\": 0.02,\n",
      "  \"intermediate_size\": 3072,\n",
      "  \"is_decoder\": false,\n",
      "  \"label2id\": {\n",
      "    \"LABEL_0\": 0,\n",
      "    \"LABEL_1\": 1\n",
      "  },\n",
      "  \"layer_norm_eps\": 1e-12,\n",
      "  \"max_position_embeddings\": 512,\n",
      "  \"model_type\": \"bert\",\n",
      "  \"num_attention_heads\": 12,\n",
      "  \"num_hidden_layers\": 12,\n",
      "  \"num_labels\": 2,\n",
      "  \"output_attentions\": false,\n",
      "  \"output_hidden_states\": false,\n",
      "  \"output_past\": true,\n",
      "  \"pad_token_id\": 0,\n",
      "  \"pruned_heads\": {},\n",
      "  \"torchscript\": false,\n",
      "  \"type_vocab_size\": 2,\n",
      "  \"use_bfloat16\": false,\n",
      "  \"vocab_size\": 30522\n",
      "}\n",
      "\n",
      "I0426 16:05:53.120836 140090181846784 modeling_utils.py:406] loading weights file https://s3.amazonaws.com/models.huggingface.co/bert/bert-base-uncased-pytorch_model.bin from cache at /home/gabrielamelo/.cache/torch/transformers/aa1ef1aede4482d0dbcd4d52baad8ae300e60902e88fcb0bebdec09afd232066.36ca03ab34a1a5d5fa7bc3d03d55c4fa650fed07220e2eeebc06ce58d0e9a157\n",
      "I0426 16:05:56.556588 140090181846784 modeling_utils.py:483] Weights from pretrained model not used in BertForNextSentencePrediction: ['cls.predictions.bias', 'cls.predictions.transform.dense.weight', 'cls.predictions.transform.dense.bias', 'cls.predictions.decoder.weight', 'cls.predictions.transform.LayerNorm.weight', 'cls.predictions.transform.LayerNorm.bias']\n"
     ]
    }
   ],
   "source": [
    "tokenizer = BertTokenizer.from_pretrained('bert-base-uncased')\n",
    "model = BertForNextSentencePrediction.from_pretrained('bert-base-uncased')\n",
    "\n",
    "partial_get_probability_of_next_sentence = partial(get_probability_of_next_sentence, tokenizer, model)"
   ]
  },
  {
   "cell_type": "code",
   "execution_count": 15,
   "metadata": {},
   "outputs": [
    {
     "name": "stdout",
     "output_type": "stream",
     "text": [
      "0.9999924898147583\n"
     ]
    }
   ],
   "source": [
    "text1 = \"Where is the Eiffel Tower?\"\n",
    "text2 = \"It is in Paris\"\n",
    "prediction = partial_get_probability_of_next_sentence(text1, text2)\n",
    "print(prediction)"
   ]
  },
  {
   "cell_type": "code",
   "execution_count": 4,
   "metadata": {},
   "outputs": [
    {
     "name": "stdout",
     "output_type": "stream",
     "text": [
      "0.00041673300438560545\n"
     ]
    }
   ],
   "source": [
    "text1 = \"How old are you?\"\n",
    "text2 = \"The Eiffel Tower is in Paris\"\n",
    "prediction = partial_get_probability_of_next_sentence(text1, text2)\n",
    "print(prediction)"
   ]
  },
  {
   "cell_type": "code",
   "execution_count": 6,
   "metadata": {},
   "outputs": [
    {
     "name": "stdout",
     "output_type": "stream",
     "text": [
      "0.9999903440475464\n"
     ]
    }
   ],
   "source": [
    "text1 = \"How old are you?\"\n",
    "text2 = \"I am 22 years old\"\n",
    "prediction = partial_get_probability_of_next_sentence(text1, text2)\n",
    "print(prediction)"
   ]
  },
  {
   "cell_type": "code",
   "execution_count": 13,
   "metadata": {},
   "outputs": [
    {
     "name": "stdout",
     "output_type": "stream",
     "text": [
      "(tensor([[ 5.9356, -5.6146]], grad_fn=<AddmmBackward>),)\n",
      "tensor([[ 5.9356, -5.6146]], grad_fn=<AddmmBackward>)\n",
      "tensor([[9.9999e-01, 9.6342e-06]], grad_fn=<SoftmaxBackward>)\n",
      "0.9999903440475464\n"
     ]
    }
   ],
   "source": [
    "text1_tokens = ['[CLS]'] + tokenizer.tokenize(text1) + ['[SEP]']\n",
    "text2_tokens = tokenizer.tokenize(text2) + ['[SEP]']\n",
    "text = text1_tokens + text2_tokens\n",
    "indexed_tokens = tokenizer.convert_tokens_to_ids(text)\n",
    "segments_ids = [0] * len(text1_tokens) + [1] * len(text2_tokens)\n",
    "\n",
    "tokens_tensor = torch.tensor([indexed_tokens])\n",
    "segments_tensors = torch.tensor([segments_ids])\n",
    "\n",
    "model.eval()\n",
    "prediction = model(tokens_tensor, token_type_ids=segments_tensors)\n",
    "print(prediction)\n",
    "prediction = prediction[0]  # tuple to tensor\n",
    "print(prediction)\n",
    "softmax = torch.nn.Softmax(dim=1)\n",
    "prediction_sm = softmax(prediction)\n",
    "print(prediction_sm)\n",
    "print(prediction_sm[0][0].item())"
   ]
  },
  {
   "cell_type": "code",
   "execution_count": 8,
   "metadata": {},
   "outputs": [
    {
     "data": {
      "text/plain": [
       "(tensor([[ 5.9356, -5.6146]], grad_fn=<AddmmBackward>),)"
      ]
     },
     "execution_count": 8,
     "metadata": {},
     "output_type": "execute_result"
    }
   ],
   "source": []
  },
  {
   "cell_type": "code",
   "execution_count": null,
   "metadata": {},
   "outputs": [],
   "source": [
    "tokenizer = BertTokenizer.from_pretrained('bert-base-multilingual-cased')\n",
    "model = BertForNextSentencePrediction.from_pretrained('bert-base-multilingual-cased')\n",
    "\n",
    "partial_get_probability_of_next_sentence = partial(get_probability_of_next_sentence, tokenizer, model)"
   ]
  },
  {
   "cell_type": "code",
   "execution_count": null,
   "metadata": {},
   "outputs": [],
   "source": [
    "text1 = \"Quantos anos você tem?\"\n",
    "text2 = \"A Torre Eiffel fica em Paris\"\n",
    "prediction = partial_get_probability_of_next_sentence(text1, text2)\n",
    "print(prediction)"
   ]
  },
  {
   "cell_type": "code",
   "execution_count": null,
   "metadata": {},
   "outputs": [],
   "source": [
    "text1 = \"Quantos anos você tem?\"\n",
    "text2 = \"Eu tenho 22 anos\"\n",
    "prediction = partial_get_probability_of_next_sentence(text1, text2)\n",
    "print(prediction)"
   ]
  },
  {
   "cell_type": "code",
   "execution_count": null,
   "metadata": {},
   "outputs": [],
   "source": [
    "def get_sentence_breaks(first_sentence, second_sentence):\n",
    "    for i in range(len(first_sentence.split())):\n",
    "        if first_sentence.split()[i] != second_sentence.split()[i]:  # noqaE226\n",
    "            break\n",
    "    return i"
   ]
  },
  {
   "cell_type": "code",
   "execution_count": null,
   "metadata": {},
   "outputs": [],
   "source": [
    "def test_get_sentence_breaks():\n",
    "    first_sentence = 'The city councilmen refused the demonstrators a permit because the city councilmen feared violence.'\n",
    "    second_sentence = 'The city councilmen refused the demonstrators a permit because the demonstrators feared violence.'\n",
    "    i = get_sentence_breaks(first_sentence, second_sentence)\n",
    "    assert ' '.join(first_sentence.split()[:i]) == \\\n",
    "        'The city councilmen refused the demonstrators a permit because the'\n",
    "    assert ' '.join(second_sentence.split()[:i]) == \\\n",
    "        'The city councilmen refused the demonstrators a permit because the'\n",
    "    assert ' '.join(first_sentence.split()[i:]) == \\\n",
    "        'city councilmen feared violence.'\n",
    "    assert ' '.join(second_sentence.split()[i:]) == \\\n",
    "        'demonstrators feared violence.'\n",
    "    \n",
    "    first_sentence = 'Os vereadores recusaram a autorização aos manifestantes porque os vereadores temiam a violência.'\n",
    "    second_sentence = 'Os vereadores recusaram a autorização aos manifestantes porque os manifestantes temiam a violência.'\n",
    "    \n",
    "    i = get_sentence_breaks(first_sentence, second_sentence)\n",
    "    assert ' '.join(first_sentence.split()[:i]) == \\\n",
    "        'Os vereadores recusaram a autorização aos manifestantes porque os'\n",
    "    assert ' '.join(second_sentence.split()[:i]) == \\\n",
    "        'Os vereadores recusaram a autorização aos manifestantes porque os'\n",
    "    assert ' '.join(first_sentence.split()[i:]) == \\\n",
    "        'vereadores temiam a violência.'\n",
    "    assert ' '.join(second_sentence.split()[i:]) == \\\n",
    "        'manifestantes temiam a violência.'\n",
    "    \n",
    "test_get_sentence_breaks()"
   ]
  },
  {
   "cell_type": "code",
   "execution_count": null,
   "metadata": {},
   "outputs": [],
   "source": []
  }
 ],
 "metadata": {
  "kernelspec": {
   "display_name": "wsc_port",
   "language": "python",
   "name": "wsc_port"
  },
  "language_info": {
   "codemirror_mode": {
    "name": "ipython",
    "version": 3
   },
   "file_extension": ".py",
   "mimetype": "text/x-python",
   "name": "python",
   "nbconvert_exporter": "python",
   "pygments_lexer": "ipython3",
   "version": "3.6.8"
  }
 },
 "nbformat": 4,
 "nbformat_minor": 2
}
