{
 "cells": [
  {
   "cell_type": "code",
   "execution_count": 1,
   "metadata": {},
   "outputs": [],
   "source": [
    "import os\n",
    "os.chdir('..')\n",
    "\n",
    "%load_ext autoreload\n",
    "%autoreload 2"
   ]
  },
  {
   "cell_type": "code",
   "execution_count": 2,
   "metadata": {},
   "outputs": [],
   "source": [
    "import torch\n",
    "\n",
    "from nltk.tokenize import word_tokenize\n",
    "\n",
    "from src.main import setup_torch, get_corpus\n",
    "from src.utils import get_latest_model_file\n",
    "from src.winograd_schema_challenge import find_missing_wsc_words_in_corpus_vocab\n",
    "\n",
    "from src.wsc_parser import generate_df, generate_json, generate_full_sentences"
   ]
  },
  {
   "cell_type": "code",
   "execution_count": 3,
   "metadata": {},
   "outputs": [],
   "source": [
    "still_in_english = [\n",
    "    \"It was a summer afternoon, and the dog was sitting in the middle of the lawn. After a while, it got up and moved to a spot under the tree, because the spot under the tree was hot.\",\n",
    "    \"It was a summer afternoon, and the dog was sitting in the middle of the lawn. After a while, it got up and moved to a spot under the tree, because the dog was cooler.\",\n",
    "    \"I couldn't put the pot on the shelf because the shelf was too tall.\",\n",
    "    \"I couldn't put the pot on the shelf because the pot was too high.\",\n",
    "    \"There is a pillar between me and the stage, and I can't see around the stage.\",\n",
    "    \"There is a pillar between me and the stage, and I can't see the pillar.\",\n",
    "    \"They broadcast an announcement, but a subway came into the station and I couldn't hear the subway.\",\n",
    "    \"They broadcast an announcement, but a subway came into the station and I couldn't hear over the announcement.\",\n",
    "]"
   ]
  },
  {
   "cell_type": "code",
   "execution_count": 4,
   "metadata": {},
   "outputs": [],
   "source": [
    "df = generate_df(' '.join(still_in_english))"
   ]
  },
  {
   "cell_type": "code",
   "execution_count": 5,
   "metadata": {},
   "outputs": [],
   "source": [
    "import json\n",
    "with open('data/processed/WSC_associative_label.json', 'r') as fp:\n",
    "    english_associative_json = json.load(fp)"
   ]
  },
  {
   "cell_type": "code",
   "execution_count": 6,
   "metadata": {},
   "outputs": [],
   "source": [
    "df['is_associative'] = False\n",
    "for item in english_associative_json:\n",
    "    if item['is_associative'] == 1:\n",
    "        df.loc[item['index'],'is_associative'] = True"
   ]
  },
  {
   "cell_type": "code",
   "execution_count": 7,
   "metadata": {},
   "outputs": [
    {
     "data": {
      "text/plain": [
       "37"
      ]
     },
     "execution_count": 7,
     "metadata": {},
     "output_type": "execute_result"
    }
   ],
   "source": [
    "df[df['is_associative']].count().values[0]"
   ]
  },
  {
   "cell_type": "code",
   "execution_count": 8,
   "metadata": {},
   "outputs": [],
   "source": [
    "import json\n",
    "with open('data/processed/WSC_switched_label.json', 'r') as fp:\n",
    "    english_switched_json = json.load(fp)"
   ]
  },
  {
   "cell_type": "code",
   "execution_count": 9,
   "metadata": {},
   "outputs": [],
   "source": [
    "df['is_switchable'] = False\n",
    "for item in english_switched_json:\n",
    "    if item['is_switchable'] == 1:\n",
    "        df.loc[item['index'],'is_switchable'] = True"
   ]
  },
  {
   "cell_type": "code",
   "execution_count": 10,
   "metadata": {},
   "outputs": [
    {
     "data": {
      "text/plain": [
       "131"
      ]
     },
     "execution_count": 10,
     "metadata": {},
     "output_type": "execute_result"
    }
   ],
   "source": [
    "df[df['is_switchable']].count().values[0]"
   ]
  },
  {
   "cell_type": "code",
   "execution_count": 11,
   "metadata": {},
   "outputs": [],
   "source": [
    "with open('data/processed/portuguese_capitalized_words.txt', 'r') as capitalized_words_file:\n",
    "    capitalized_words = [line.strip() for line in capitalized_words_file.readlines()]\n",
    "\n",
    "def generate_switched_sentence(row):\n",
    "    if not row.is_switchable:\n",
    "        return ''\n",
    "    \n",
    "    switched = row.schema.lower()\n",
    "    \n",
    "    subs_a = row.substitution_a.lower()\n",
    "    subs_b = row.substitution_b.lower()\n",
    "    \n",
    "    i = 1\n",
    "    while subs_b[:i] == subs_a[:i]:\n",
    "        i += 1\n",
    "    \n",
    "    subs_a = subs_a[i-1:]\n",
    "    subs_b = subs_b[i-1:]\n",
    "    \n",
    "    if subs_b == 'o cara que vestia uma farda':\n",
    "        subs_a = 'o jim'\n",
    "        subs_b = 'um cara que vestia uma farda'\n",
    "    if subs_b == 'o homem' and subs_a == 'john':\n",
    "        subs_b = 'um homem'\n",
    "    \n",
    "    if subs_a not in switched:\n",
    "        print('Couldnt find subs a:', subs_a)\n",
    "    if subs_b not in switched:\n",
    "        print('Couldnt find subs b:', subs_b)\n",
    "\n",
    "    switched = switched.replace(subs_a, '<PLACEHOLDER>')\n",
    "    switched = switched.replace(subs_b, subs_a)\n",
    "    switched = switched.replace('<PLACEHOLDER>', subs_b)\n",
    "    \n",
    "    switched = '. '.join(map(lambda s: s.strip().capitalize(), switched.split('.')))\n",
    "    switched = '! '.join(map(lambda s: s.strip().capitalize(), switched.split('!')))\n",
    "    switched = '? '.join(map(lambda s: s.strip().capitalize(), switched.split('?')))\n",
    "    \n",
    "    words = []\n",
    "    for word in word_tokenize(switched, language='portuguese'):\n",
    "        if word.capitalize() in capitalized_words:\n",
    "            word = word.capitalize()\n",
    "        if word == '``' or word == \"''\":\n",
    "            word == '\"'\n",
    "        if word in ['.', ',', '!', '?', ';', '\"']:\n",
    "            words[-1] += word\n",
    "        else:\n",
    "            words += [word]\n",
    "    switched = ' '.join(words).strip()\n",
    "    \n",
    "    return switched"
   ]
  },
  {
   "cell_type": "code",
   "execution_count": 12,
   "metadata": {},
   "outputs": [],
   "source": [
    "# Eu primeiro!"
   ]
  },
  {
   "cell_type": "code",
   "execution_count": 13,
   "metadata": {},
   "outputs": [],
   "source": [
    "df['switched'] = df.apply(generate_switched_sentence, axis=1)"
   ]
  },
  {
   "cell_type": "code",
   "execution_count": 14,
   "metadata": {},
   "outputs": [],
   "source": [
    "df['correct_sentence'], df['incorrect_sentence'], df['correct_switched'], df['incorrect_switched'] = \\\n",
    "    zip(*df.apply(generate_full_sentences, axis=1))"
   ]
  },
  {
   "cell_type": "code",
   "execution_count": 15,
   "metadata": {},
   "outputs": [],
   "source": [
    "df['correct_sentence'].replace({'alice': 'Alice'}, inplace=True, regex=True)\n",
    "df['incorrect_sentence'].replace({'alice': 'Alice'}, inplace=True, regex=True)\n",
    "df['correct_sentence'].replace({'fred': 'Fred'}, inplace=True, regex=True)\n",
    "df['incorrect_sentence'].replace({'fred': 'Fred'}, inplace=True, regex=True)\n",
    "df['correct_sentence'].replace({'mary': 'Mary'}, inplace=True, regex=True)\n",
    "df['incorrect_sentence'].replace({'mary': 'Mary'}, inplace=True, regex=True)\n",
    "df['correct_sentence'].replace({'anne': 'Anne'}, inplace=True, regex=True)\n",
    "df['incorrect_sentence'].replace({'anne': 'Anne'}, inplace=True, regex=True)\n",
    "df['correct_sentence'].replace({'jim': 'Jim'}, inplace=True, regex=True)\n",
    "df['incorrect_sentence'].replace({'jim': 'Jim'}, inplace=True, regex=True)\n",
    "df['correct_sentence'].replace({'O golpista': 'o golpista'}, inplace=True, regex=True)\n",
    "df['incorrect_sentence'].replace({'O golpista': 'o golpista'}, inplace=True, regex=True)\n",
    "df['correct_sentence'].replace({'desenho da tina': 'desenho da Tina'}, inplace=True, regex=True)\n",
    "df['incorrect_sentence'].replace({'desenho da tina': 'desenho da Tina'}, inplace=True, regex=True)\n",
    "df['correct_sentence'].replace({'desenho do sam': 'desenho do Sam'}, inplace=True, regex=True)\n",
    "df['incorrect_sentence'].replace({'desenho do sam': 'desenho do Sam'}, inplace=True, regex=True)\n",
    "df['correct_sentence'].replace({' Os pais da Amy': ' os pais da Amy'}, inplace=True, regex=True)\n",
    "df['incorrect_sentence'].replace({' Os pais da Amy': ' os pais da Amy'}, inplace=True, regex=True)\n",
    "df['correct_sentence'].replace({' O tio do Joe': ' o tio do Joe'}, inplace=True, regex=True)\n",
    "df['incorrect_sentence'].replace({' O tio do Joe': ' o tio do Joe'}, inplace=True, regex=True)\n",
    "df['correct_sentence'].replace({'joe': 'Joe'}, inplace=True, regex=True)\n",
    "df['incorrect_sentence'].replace({'joe': 'Joe'}, inplace=True, regex=True)\n",
    "df['correct_sentence'].replace({' A Dra. Adams': ' a Dra. Adams'}, inplace=True, regex=True)\n",
    "df['incorrect_sentence'].replace({' A Dra. Adams': ' a Dra. Adams'}, inplace=True, regex=True)\n",
    "df['correct_sentence'].replace({' A Kate': ' a kate'}, inplace=True, regex=True)\n",
    "df['incorrect_sentence'].replace({' A Kate': ' a kate'}, inplace=True, regex=True)\n",
    "df['correct_sentence'].replace({'madonna': 'Madonna'}, inplace=True, regex=True)\n",
    "df['incorrect_sentence'].replace({'madonna': 'Madonna'}, inplace=True, regex=True)"
   ]
  },
  {
   "cell_type": "code",
   "execution_count": 16,
   "metadata": {},
   "outputs": [],
   "source": [
    "df['manually_fixed_correct_sentence'], df['manually_fixed_incorrect_sentence'], \\\n",
    "    df['manually_fixed_correct_switched'], df['manually_fixed_incorrect_switched'] = \\\n",
    "    df['correct_sentence'], df['incorrect_sentence'], df['correct_switched'], df['incorrect_switched']"
   ]
  },
  {
   "cell_type": "code",
   "execution_count": 17,
   "metadata": {},
   "outputs": [],
   "source": [
    "import json\n",
    "with open('data/processed/manual_fixes_portuguese.json', 'r', encoding='utf8') as fp:\n",
    "    manual_fixes_json = json.load(fp)"
   ]
  },
  {
   "cell_type": "code",
   "execution_count": 18,
   "metadata": {},
   "outputs": [],
   "source": [
    "for item in manual_fixes_json:\n",
    "    df.loc[item['question_id'], 'manually_fixed_correct_sentence'] = item['manually_fixed_correct_sentence']\n",
    "    df.loc[item['question_id'], 'manually_fixed_incorrect_sentence'] = item['manually_fixed_incorrect_sentence']\n",
    "    if 'manually_fixed_correct_switched' in item:\n",
    "        df.loc[item['question_id'], 'manually_fixed_correct_switched'] = item['manually_fixed_correct_switched']\n",
    "        df.loc[item['question_id'], 'manually_fixed_incorrect_switched'] = item['manually_fixed_incorrect_switched']"
   ]
  },
  {
   "cell_type": "code",
   "execution_count": 19,
   "metadata": {},
   "outputs": [],
   "source": [
    "generate_json(df)"
   ]
  },
  {
   "cell_type": "code",
   "execution_count": null,
   "metadata": {},
   "outputs": [],
   "source": []
  }
 ],
 "metadata": {
  "kernelspec": {
   "display_name": "wsc_port",
   "language": "python",
   "name": "wsc_port"
  },
  "language_info": {
   "codemirror_mode": {
    "name": "ipython",
    "version": 3
   },
   "file_extension": ".py",
   "mimetype": "text/x-python",
   "name": "python",
   "nbconvert_exporter": "python",
   "pygments_lexer": "ipython3",
   "version": "3.6.8"
  }
 },
 "nbformat": 4,
 "nbformat_minor": 2
}
