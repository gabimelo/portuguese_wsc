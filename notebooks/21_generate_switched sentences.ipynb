{
 "cells": [
  {
   "cell_type": "code",
   "execution_count": 1,
   "metadata": {},
   "outputs": [],
   "source": [
    "import os\n",
    "os.chdir('..')\n",
    "\n",
    "%load_ext autoreload\n",
    "%autoreload 2"
   ]
  },
  {
   "cell_type": "code",
   "execution_count": 2,
   "metadata": {},
   "outputs": [],
   "source": [
    "import torch\n",
    "\n",
    "from nltk.tokenize import word_tokenize\n",
    "\n",
    "from src.main import setup_torch, get_corpus\n",
    "from src.utils import get_latest_model_file\n",
    "from src.winograd_schema_challenge import (\n",
    "    analyse_single_wsc, generate_full_sentences, find_missing_wsc_words_in_corpus_vocab, winograd_test\n",
    ")\n",
    "\n",
    "from src.wsc_parser import generate_df, generate_json"
   ]
  },
  {
   "cell_type": "code",
   "execution_count": 3,
   "metadata": {},
   "outputs": [],
   "source": [
    "still_in_english = [\n",
    "    \"It was a summer afternoon, and the dog was sitting in the middle of the lawn. After a while, it got up and moved to a spot under the tree, because the spot under the tree was hot.\",\n",
    "    \"It was a summer afternoon, and the dog was sitting in the middle of the lawn. After a while, it got up and moved to a spot under the tree, because the dog was cooler.\",\n",
    "    \"I couldn't put the pot on the shelf because the shelf was too tall.\",\n",
    "    \"I couldn't put the pot on the shelf because the pot was too high.\",\n",
    "    \"There is a pillar between me and the stage, and I can't see around the stage.\",\n",
    "    \"There is a pillar between me and the stage, and I can't see the pillar.\",\n",
    "    \"They broadcast an announcement, but a subway came into the station and I couldn't hear the subway.\",\n",
    "    \"They broadcast an announcement, but a subway came into the station and I couldn't hear over the announcement.\",\n",
    "]"
   ]
  },
  {
   "cell_type": "code",
   "execution_count": 4,
   "metadata": {},
   "outputs": [],
   "source": [
    "df = generate_df(' '.join(still_in_english))"
   ]
  },
  {
   "cell_type": "code",
   "execution_count": 5,
   "metadata": {},
   "outputs": [],
   "source": [
    "with open('data/processed/portuguese_capitalized_words.txt', 'r') as capitalized_words_file:\n",
    "    capitalized_words = [line.strip() for line in capitalized_words_file.readlines()]\n",
    "\n",
    "def generate_switched_sentence(row):\n",
    "    switched = row.schema.lower()\n",
    "    switched = switched.replace(row.substitution_a.lower(), '<PLACEHOLDER>')\n",
    "    switched = switched.replace(row.substitution_b.lower(), row.substitution_a.lower())\n",
    "    switched = switched.replace('<PLACEHOLDER>', row.substitution_b.lower())\n",
    "    \n",
    "    switched = '. '.join(map(lambda s: s.strip().capitalize(), switched.split('.')))\n",
    "    \n",
    "    words = []\n",
    "    for word in word_tokenize(switched, language='portuguese'):\n",
    "        if word.capitalize() in capitalized_words:\n",
    "            word = word.capitalize()\n",
    "        if word in ['.', ',', '!', '?', ';']:\n",
    "            words[-1] += word\n",
    "        else:\n",
    "            words += [word]\n",
    "    switched = ' '.join(words).strip()\n",
    "    \n",
    "    return switched\n",
    "\n",
    "df['switched'] = df.apply(generate_switched_sentence, axis=1)"
   ]
  },
  {
   "cell_type": "code",
   "execution_count": 6,
   "metadata": {},
   "outputs": [],
   "source": [
    "df['correct_sentence'], df['incorrect_sentence'], df['correct_switched'], df['incorrect_switched'] = \\\n",
    "    zip(*df.apply(generate_full_sentences, axis=1))"
   ]
  },
  {
   "cell_type": "code",
   "execution_count": 13,
   "metadata": {},
   "outputs": [],
   "source": [
    "df['manually_fixed_correct_sentence'], df['manually_fixed_incorrect_sentence'], \\\n",
    "    df['manually_fixed_correct_switched'], df['manually_fixed_incorrect_switched'] = \\\n",
    "    df['correct_sentence'], df['incorrect_sentence'], df['correct_switched'], df['incorrect_switched']"
   ]
  },
  {
   "cell_type": "code",
   "execution_count": 27,
   "metadata": {},
   "outputs": [],
   "source": [
    "with open('data/processed/manual_fixes_portuguese.json', 'w') as fp:\n",
    "    json.dump(manual_fixes_json, fp)"
   ]
  },
  {
   "cell_type": "code",
   "execution_count": 23,
   "metadata": {},
   "outputs": [],
   "source": [
    "for item in manual_fixes_json:\n",
    "    if item['question_id'] >= 60:\n",
    "        item['question_id'] += 1\n",
    "for item in manual_fixes_json:\n",
    "    if item['question_id'] >= 61:\n",
    "        item['question_id'] += 1\n",
    "for item in manual_fixes_json:\n",
    "    if item['question_id'] >= 62:\n",
    "        item['question_id'] += 1\n",
    "for item in manual_fixes_json:\n",
    "    if item['question_id'] >= 63:\n",
    "        item['question_id'] += 1\n",
    "for item in manual_fixes_json:\n",
    "    if item['question_id'] >= 72:\n",
    "        item['question_id'] += 1\n",
    "for item in manual_fixes_json:\n",
    "    if item['question_id'] >= 73:\n",
    "        item['question_id'] += 1\n",
    "for item in manual_fixes_json:\n",
    "    if item['question_id'] >= 86:\n",
    "        item['question_id'] += 1\n",
    "for item in manual_fixes_json:\n",
    "    if item['question_id'] >= 87:\n",
    "        item['question_id'] += 1"
   ]
  },
  {
   "cell_type": "code",
   "execution_count": 15,
   "metadata": {},
   "outputs": [
    {
     "data": {
      "text/plain": [
       "Int64Index([60, 61, 62, 63, 72, 73, 86, 87], dtype='int64')"
      ]
     },
     "execution_count": 15,
     "metadata": {},
     "output_type": "execute_result"
    }
   ],
   "source": [
    "df[~df.translated].index"
   ]
  },
  {
   "cell_type": "code",
   "execution_count": 26,
   "metadata": {},
   "outputs": [],
   "source": [
    "generate_json(df, switched=True)"
   ]
  },
  {
   "cell_type": "code",
   "execution_count": null,
   "metadata": {},
   "outputs": [],
   "source": []
  }
 ],
 "metadata": {
  "kernelspec": {
   "display_name": "wsc_port",
   "language": "python",
   "name": "wsc_port"
  },
  "language_info": {
   "codemirror_mode": {
    "name": "ipython",
    "version": 3
   },
   "file_extension": ".py",
   "mimetype": "text/x-python",
   "name": "python",
   "nbconvert_exporter": "python",
   "pygments_lexer": "ipython3",
   "version": "3.6.8"
  }
 },
 "nbformat": 4,
 "nbformat_minor": 2
}
