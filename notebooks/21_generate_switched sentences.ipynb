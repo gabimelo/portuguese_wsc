{
 "cells": [
  {
   "cell_type": "code",
   "execution_count": 1,
   "metadata": {},
   "outputs": [],
   "source": [
    "import os\n",
    "os.chdir('..')\n",
    "\n",
    "%load_ext autoreload\n",
    "%autoreload 2"
   ]
  },
  {
   "cell_type": "code",
   "execution_count": 2,
   "metadata": {},
   "outputs": [],
   "source": [
    "import torch\n",
    "\n",
    "from nltk.tokenize import word_tokenize\n",
    "\n",
    "from src.main import setup_torch, get_corpus\n",
    "from src.utils import get_latest_model_file\n",
    "from src.winograd_schema_challenge import find_missing_wsc_words_in_corpus_vocab\n",
    "\n",
    "from src.wsc_parser import generate_df, generate_json, generate_full_sentences"
   ]
  },
  {
   "cell_type": "code",
   "execution_count": 3,
   "metadata": {},
   "outputs": [],
   "source": [
    "still_in_english = [\n",
    "    \"It was a summer afternoon, and the dog was sitting in the middle of the lawn. After a while, it got up and moved to a spot under the tree, because the spot under the tree was hot.\",\n",
    "    \"It was a summer afternoon, and the dog was sitting in the middle of the lawn. After a while, it got up and moved to a spot under the tree, because the dog was cooler.\",\n",
    "    \"I couldn't put the pot on the shelf because the shelf was too tall.\",\n",
    "    \"I couldn't put the pot on the shelf because the pot was too high.\",\n",
    "    \"There is a pillar between me and the stage, and I can't see around the stage.\",\n",
    "    \"There is a pillar between me and the stage, and I can't see the pillar.\",\n",
    "    \"They broadcast an announcement, but a subway came into the station and I couldn't hear the subway.\",\n",
    "    \"They broadcast an announcement, but a subway came into the station and I couldn't hear over the announcement.\"\n",
    "]"
   ]
  },
  {
   "cell_type": "code",
   "execution_count": 4,
   "metadata": {},
   "outputs": [],
   "source": [
    "df = generate_df(' '.join(still_in_english))"
   ]
  },
  {
   "cell_type": "code",
   "execution_count": 5,
   "metadata": {},
   "outputs": [],
   "source": [
    "import json\n",
    "with open('data/processed/WSC_associative_label.json', 'r') as fp:\n",
    "    english_associative_json = json.load(fp)"
   ]
  },
  {
   "cell_type": "code",
   "execution_count": 6,
   "metadata": {},
   "outputs": [],
   "source": [
    "df['is_associative'] = False\n",
    "for item in english_associative_json:\n",
    "    if item['is_associative'] == 1:\n",
    "        df.loc[item['index'],'is_associative'] = True"
   ]
  },
  {
   "cell_type": "code",
   "execution_count": 7,
   "metadata": {},
   "outputs": [
    {
     "data": {
      "text/plain": [
       "37"
      ]
     },
     "execution_count": 7,
     "metadata": {},
     "output_type": "execute_result"
    }
   ],
   "source": [
    "df[df['is_associative']].count().values[0]"
   ]
  },
  {
   "cell_type": "code",
   "execution_count": 8,
   "metadata": {},
   "outputs": [],
   "source": [
    "import json\n",
    "with open('data/processed/WSC_switched_label.json', 'r') as fp:\n",
    "    english_switched_json = json.load(fp)"
   ]
  },
  {
   "cell_type": "code",
   "execution_count": 9,
   "metadata": {},
   "outputs": [],
   "source": [
    "df['is_switchable'] = False\n",
    "for item in english_switched_json:\n",
    "    if item['is_switchable'] == 1:\n",
    "        df.loc[item['index'],'is_switchable'] = True"
   ]
  },
  {
   "cell_type": "code",
   "execution_count": 10,
   "metadata": {},
   "outputs": [
    {
     "data": {
      "text/plain": [
       "131"
      ]
     },
     "execution_count": 10,
     "metadata": {},
     "output_type": "execute_result"
    }
   ],
   "source": [
    "df[df['is_switchable']].count().values[0]"
   ]
  },
  {
   "cell_type": "code",
   "execution_count": 11,
   "metadata": {},
   "outputs": [],
   "source": [
    "extra_switchable_indexes = [277, 278, 279, 280]\n",
    "for index in extra_switchable_indexes:\n",
    "    df.loc[index,'is_switchable'] = True"
   ]
  },
  {
   "cell_type": "code",
   "execution_count": 12,
   "metadata": {},
   "outputs": [],
   "source": [
    "import re\n",
    "\n",
    "def cap(match):\n",
    "    return(match.group().capitalize())\n",
    "\n",
    "with open('data/processed/portuguese_capitalized_words.txt', 'r') as capitalized_words_file:\n",
    "    capitalized_words = [line.strip() for line in capitalized_words_file.readlines()]\n",
    "\n",
    "def minimize_substitutions(subs_a, subs_b):\n",
    "    i = 1\n",
    "    while subs_b[:i] == subs_a[:i]:\n",
    "        i += 1\n",
    "    if subs_b[i-1] == ' ':\n",
    "        subs_a = subs_a[i-1:]\n",
    "        subs_b = subs_b[i-1:]\n",
    "    \n",
    "    return subs_a, subs_b\n",
    "\n",
    "def apply_substitution_exceptions(subs_a, subs_b):\n",
    "    if subs_b == 'o cara que vestia uma farda':\n",
    "        subs_a = 'o jim'\n",
    "        subs_b = 'um cara que vestia uma farda e tinha uma grande barba ruiva'\n",
    "    if subs_b == 'o homem' and subs_a == 'john':\n",
    "        subs_b = 'um homem'\n",
    "    if subs_a == 'o desenho do sam':\n",
    "        subs_a = 'do sam'\n",
    "        subs_b = 'da tina'\n",
    "    if subs_a == 'o homem' and subs_b == 'o filho':\n",
    "        subs_a = 'homem'\n",
    "        subs_b = 'filho'\n",
    "    if subs_a == 'Goodman':\n",
    "        subs_a = 'Sam Goodman'\n",
    "\n",
    "    return subs_a, subs_b\n",
    "    \n",
    "def capitalize_each_sentence(text):\n",
    "    p = re.compile(r'((?<=[\\.\\?!]\\s)(\\w+)|(^\\w+))')\n",
    "    text = p.sub(cap, text)\n",
    "    \n",
    "    return text\n",
    "    \n",
    "def generate_switched_sentence(row):\n",
    "    if not row.is_switchable:\n",
    "        return ''\n",
    "    \n",
    "    switched = row.schema.lower()\n",
    "    subs_a, subs_b = minimize_substitutions(row.substitution_a.lower(),\n",
    "                                            row.substitution_b.lower())\n",
    "    subs_a, subs_b = apply_substitution_exceptions(subs_a, subs_b)\n",
    "    \n",
    "    switched = switched.replace(subs_a, '<PLACEHOLDER>')\\\n",
    "                       .replace(subs_b, subs_a)\\\n",
    "                       .replace('<PLACEHOLDER>', subs_b)\\\n",
    "                       .replace('seu homem', 'o homem')\n",
    "\n",
    "    switched = capitalize_each_sentence(switched)\n",
    "    \n",
    "    return switched"
   ]
  },
  {
   "cell_type": "code",
   "execution_count": 13,
   "metadata": {},
   "outputs": [],
   "source": [
    "def capitalize_words(sentence):\n",
    "    words = []\n",
    "    for word in word_tokenize(sentence, language='portuguese'):\n",
    "        if word.capitalize() in capitalized_words or (len(words) >= 1 and words[-1][-1] in ['.', '!', '?']):\n",
    "            word = word.capitalize()\n",
    "        if len(words) >= 1 and words[-1] == '``':\n",
    "            words[-1] = '\"' + word\n",
    "        elif word in ['.', ',', '!', '?', ';', \"''\"]:\n",
    "            if word == \"''\":\n",
    "                word = '\"'\n",
    "            words[-1] += word\n",
    "        else:\n",
    "            words += [word]\n",
    "    sentence = ' '.join(words).strip()\n",
    "    sentence = sentence.replace('\" eu primeiro! \"', '\"Eu primeiro\"!')\n",
    "    sentence = sentence.replace('\" Eu primeiro! \"', '\"Eu primeiro\"!')\n",
    "    sentence = sentence.replace('tv', 'TV')\n",
    "    sentence = sentence.replace('tv.', 'TV.')\n",
    "    \n",
    "    return sentence"
   ]
  },
  {
   "cell_type": "code",
   "execution_count": 14,
   "metadata": {},
   "outputs": [],
   "source": [
    "df['switched'] = df.apply(generate_switched_sentence, axis=1)"
   ]
  },
  {
   "cell_type": "code",
   "execution_count": 15,
   "metadata": {},
   "outputs": [],
   "source": [
    "df['correct_sentence'], df['incorrect_sentence'], df['correct_switched'], df['incorrect_switched'] = \\\n",
    "    zip(*df.apply(generate_full_sentences, axis=1))"
   ]
  },
  {
   "cell_type": "code",
   "execution_count": 16,
   "metadata": {},
   "outputs": [],
   "source": [
    "df['switched'] = df['switched'].apply(capitalize_words)\n",
    "df['correct_sentence'] = df['correct_sentence'].apply(capitalize_words)\n",
    "df['incorrect_sentence'] = df['incorrect_sentence'].apply(capitalize_words)\n",
    "df['correct_switched'] = df['correct_switched'].apply(capitalize_words)\n",
    "df['incorrect_switched'] = df['incorrect_switched'].apply(capitalize_words)"
   ]
  },
  {
   "cell_type": "code",
   "execution_count": 17,
   "metadata": {},
   "outputs": [],
   "source": [
    "df['manually_fixed_correct_sentence'], df['manually_fixed_incorrect_sentence'], \\\n",
    "    df['manually_fixed_correct_switched'], df['manually_fixed_incorrect_switched'] = \\\n",
    "    df['correct_sentence'], df['incorrect_sentence'], df['correct_switched'], df['incorrect_switched']"
   ]
  },
  {
   "cell_type": "code",
   "execution_count": 18,
   "metadata": {},
   "outputs": [],
   "source": [
    "import json\n",
    "with open('data/processed/manual_fixes_portuguese.json', 'r', encoding='utf8') as fp:\n",
    "    manual_fixes_json = json.load(fp)"
   ]
  },
  {
   "cell_type": "code",
   "execution_count": 19,
   "metadata": {},
   "outputs": [],
   "source": [
    "for item in manual_fixes_json:\n",
    "    df.loc[item['question_id'], 'manually_fixed_correct_sentence'] = item['manually_fixed_correct_sentence']\n",
    "    df.loc[item['question_id'], 'manually_fixed_incorrect_sentence'] = item['manually_fixed_incorrect_sentence']\n",
    "    if 'manually_fixed_correct_switched' in item:\n",
    "        df.loc[item['question_id'], 'manually_fixed_correct_switched'] = item['manually_fixed_correct_switched']\n",
    "        df.loc[item['question_id'], 'manually_fixed_incorrect_switched'] = item['manually_fixed_incorrect_switched']"
   ]
  },
  {
   "cell_type": "code",
   "execution_count": 20,
   "metadata": {},
   "outputs": [],
   "source": [
    "generate_json(df)"
   ]
  },
  {
   "cell_type": "code",
   "execution_count": null,
   "metadata": {},
   "outputs": [],
   "source": []
  }
 ],
 "metadata": {
  "kernelspec": {
   "display_name": "wsc_port",
   "language": "python",
   "name": "wsc_port"
  },
  "language_info": {
   "codemirror_mode": {
    "name": "ipython",
    "version": 3
   },
   "file_extension": ".py",
   "mimetype": "text/x-python",
   "name": "python",
   "nbconvert_exporter": "python",
   "pygments_lexer": "ipython3",
   "version": "3.6.8"
  }
 },
 "nbformat": 4,
 "nbformat_minor": 2
}
