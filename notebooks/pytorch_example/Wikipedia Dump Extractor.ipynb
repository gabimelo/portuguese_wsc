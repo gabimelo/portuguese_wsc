{
 "cells": [
  {
   "cell_type": "code",
   "execution_count": 2,
   "metadata": {},
   "outputs": [
    {
     "name": "stderr",
     "output_type": "stream",
     "text": [
      "/home/gabrielamelo/anaconda3/envs/wsc_port/lib/python3.6/site-packages/smart_open/ssh.py:34: UserWarning: paramiko missing, opening SSH/SCP/SFTP paths will be disabled.  `pip install paramiko` to suppress\n",
      "  warnings.warn('paramiko missing, opening SSH/SCP/SFTP paths will be disabled.  `pip install paramiko` to suppress')\n"
     ]
    }
   ],
   "source": [
    "import gensim"
   ]
  },
  {
   "cell_type": "code",
   "execution_count": null,
   "metadata": {},
   "outputs": [],
   "source": [
    "# import sys\n",
    "# from gensim.corpora import WikiCorpus\n",
    "\n",
    "# def next_fname(output_dir, num=0):\n",
    "#     \"\"\"Get the next filename to use for writing new articles.\"\"\"\n",
    "#     count = 0\n",
    "#     fname = output_dir + '/' + '{:>07d}'.format(num) + '.txt'\n",
    "#     return count, (num+1), fname\n",
    "\n",
    "# def make_corpus(input_file, output_dir, size=10000):\n",
    "#     \"\"\"Convert Wikipedia xml dump file to text corpus\"\"\"\n",
    "\n",
    "#     wiki = WikiCorpus(input_file)\n",
    "#     count, num, fname = next_fname(output_dir)\n",
    "#     output = open(fname, 'w')\n",
    "\n",
    "#     # iterate over texts and store them\n",
    "#     for text in wiki.get_texts():\n",
    "#         output.write(bytes(' '.join(text), 'utf-8').decode('utf-8') + '\\n')\n",
    "#         count += 1\n",
    "#         if (count == size):\n",
    "#             print('%s Done.' % fname)\n",
    "#             output.close()\n",
    "#             count, num, fname = next_fname(output_dir, num)\n",
    "#             output = open(fname, 'w')\n",
    "\n",
    "#     # clean up resources\n",
    "#     output.close()\n",
    "#     print('Completed.')\n",
    "\n",
    "# if __name__ == '__main__':\n",
    "#     if len(sys.argv) != 3:\n",
    "#         print('Usage: python wikicorpus.py <wikipedia_dump_file> <destination_directory> <file_size>')\n",
    "#         sys.exit(1)\n",
    "#     input      = sys.argv[1]\n",
    "#     outupt_dir = sys.argv[2]\n",
    "#     file_size  = sys.argv[3] if len(sys.argv) else None\n",
    "#     make_corpus(input, outupt_dir)\n",
    "    \n",
    "# # wikicorpus.py arwiki-20181101-pages-articles-multistream.xml.bz2 /path/to/destination"
   ]
  },
  {
   "cell_type": "code",
   "execution_count": 4,
   "metadata": {},
   "outputs": [],
   "source": [
    "\"\"\"\n",
    "Creates a corpus from Wikipedia dump file.\n",
    "\n",
    "Inspired by:\n",
    "https://github.com/panyang/Wikipedia_Word2vec/blob/master/v1/process_wiki.py\n",
    "\"\"\"\n",
    "\n",
    "import sys\n",
    "from gensim.corpora import WikiCorpus\n",
    "\n",
    "def make_corpus(in_f, out_f):\n",
    "\n",
    "\t\"\"\"Convert Wikipedia xml dump file to text corpus\"\"\"\n",
    "\n",
    "\toutput = open(out_f, 'w')\n",
    "\twiki = WikiCorpus(in_f)\n",
    "\n",
    "\ti = 0\n",
    "\tfor text in wiki.get_texts():\n",
    "\t\toutput.write(bytes(' '.join(text), 'utf-8').decode('utf-8') + '\\n')\n",
    "\t\ti = i + 1\n",
    "\t\tif (i % 10000 == 0):\n",
    "\t\t\tprint('Processed ' + str(i) + ' articles')\n",
    "\toutput.close()\n",
    "\tprint('Processing complete!')\n",
    "\n",
    "\n",
    "# if __name__ == '__main__':\n",
    "\n",
    "# \tif len(sys.argv) != 3:\n",
    "# \t\tprint('Usage: python make_wiki_corpus.py <wikipedia_dump_file> <processed_text_file>')\n",
    "# \t\tsys.exit(1)\n",
    "# \tin_f = sys.argv[1]\n",
    "# \tout_f = sys.argv[2]\n",
    "# \tmake_corpus(in_f, out_f)\n",
    "    \n",
    "# python make_wiki_corpus enwiki-latest-pages-articles.xml.bz2 wiki_en.txt"
   ]
  },
  {
   "cell_type": "code",
   "execution_count": 5,
   "metadata": {},
   "outputs": [
    {
     "name": "stdout",
     "output_type": "stream",
     "text": [
      "Processed 10000 articles\n",
      "Processed 20000 articles\n",
      "Processed 30000 articles\n",
      "Processed 40000 articles\n",
      "Processed 50000 articles\n",
      "Processed 60000 articles\n",
      "Processed 70000 articles\n",
      "Processed 80000 articles\n",
      "Processed 90000 articles\n",
      "Processed 100000 articles\n",
      "Processed 110000 articles\n",
      "Processed 120000 articles\n",
      "Processed 130000 articles\n",
      "Processed 140000 articles\n",
      "Processed 150000 articles\n",
      "Processed 160000 articles\n",
      "Processed 170000 articles\n",
      "Processed 180000 articles\n",
      "Processed 190000 articles\n",
      "Processed 200000 articles\n",
      "Processed 210000 articles\n",
      "Processed 220000 articles\n",
      "Processed 230000 articles\n",
      "Processed 240000 articles\n",
      "Processed 250000 articles\n",
      "Processed 260000 articles\n",
      "Processed 270000 articles\n",
      "Processed 280000 articles\n",
      "Processed 290000 articles\n",
      "Processed 300000 articles\n",
      "Processed 310000 articles\n",
      "Processed 320000 articles\n",
      "Processed 330000 articles\n",
      "Processed 340000 articles\n",
      "Processed 350000 articles\n",
      "Processed 360000 articles\n",
      "Processed 370000 articles\n",
      "Processed 380000 articles\n",
      "Processed 390000 articles\n",
      "Processed 400000 articles\n",
      "Processed 410000 articles\n",
      "Processed 420000 articles\n",
      "Processed 430000 articles\n",
      "Processed 440000 articles\n",
      "Processed 450000 articles\n",
      "Processed 460000 articles\n",
      "Processed 470000 articles\n",
      "Processed 480000 articles\n",
      "Processed 490000 articles\n",
      "Processed 500000 articles\n",
      "Processed 510000 articles\n",
      "Processed 520000 articles\n",
      "Processed 530000 articles\n",
      "Processed 540000 articles\n",
      "Processed 550000 articles\n",
      "Processed 560000 articles\n",
      "Processed 570000 articles\n",
      "Processed 580000 articles\n",
      "Processed 590000 articles\n",
      "Processed 600000 articles\n",
      "Processed 610000 articles\n",
      "Processed 620000 articles\n",
      "Processed 630000 articles\n",
      "Processed 640000 articles\n",
      "Processed 650000 articles\n",
      "Processed 660000 articles\n",
      "Processed 670000 articles\n",
      "Processed 680000 articles\n",
      "Processed 690000 articles\n",
      "Processed 700000 articles\n",
      "Processed 710000 articles\n",
      "Processed 720000 articles\n",
      "Processed 730000 articles\n",
      "Processed 740000 articles\n",
      "Processed 750000 articles\n",
      "Processing complete!\n"
     ]
    }
   ],
   "source": [
    "make_corpus('ptwiki-latest-pages-articles.xml.bz2', 'wiki_pt.txt')"
   ]
  },
  {
   "cell_type": "code",
   "execution_count": null,
   "metadata": {},
   "outputs": [],
   "source": [
    "import time\n",
    "\n",
    "def load_corpus(input_file):\n",
    "    print('Loading corpus...')\n",
    "    time1 = time.time()\n",
    "    corpus = input_file.read()\n",
    "    time2 = time.time()\n",
    "    total_time = time2-time1\n",
    "    print('It took %0.3f seconds to load corpus' %total_time)\n",
    "    return corpus"
   ]
  },
  {
   "cell_type": "code",
   "execution_count": null,
   "metadata": {},
   "outputs": [
    {
     "name": "stdout",
     "output_type": "stream",
     "text": [
      "Loading corpus...\n"
     ]
    }
   ],
   "source": [
    "load_corpus(open('wiki_pt.txt','r'))"
   ]
  },
  {
   "cell_type": "code",
   "execution_count": null,
   "metadata": {},
   "outputs": [],
   "source": []
  }
 ],
 "metadata": {
  "kernelspec": {
   "display_name": "$1",
   "language": "python",
   "name": "wsc_port"
  },
  "language_info": {
   "codemirror_mode": {
    "name": "ipython",
    "version": 3
   },
   "file_extension": ".py",
   "mimetype": "text/x-python",
   "name": "python",
   "nbconvert_exporter": "python",
   "pygments_lexer": "ipython3",
   "version": "3.6.8"
  }
 },
 "nbformat": 4,
 "nbformat_minor": 2
}
