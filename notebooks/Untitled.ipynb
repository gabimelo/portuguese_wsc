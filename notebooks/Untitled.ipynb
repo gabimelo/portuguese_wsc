{
 "cells": [
  {
   "cell_type": "code",
   "execution_count": 1,
   "metadata": {},
   "outputs": [],
   "source": [
    "import os\n",
    "os.chdir('..')\n",
    "\n",
    "%load_ext autoreload\n",
    "%autoreload 2"
   ]
  },
  {
   "cell_type": "code",
   "execution_count": 2,
   "metadata": {},
   "outputs": [],
   "source": [
    "import torch\n",
    "\n",
    "import torch.nn as nn\n",
    "\n",
    "from src.consts import (\n",
    "    RANDOM_SEED, USE_CUDA, PROCESSED_DATA_DIR_NAME, BATCH_SIZE, MODEL_TYPE, EMBEDDINGS_SIZE, HIDDEN_UNIT_COUNT,\n",
    "    LAYER_COUNT, DROPOUT_PROB, TIED, SEQUENCE_LENGTH, EVAL_BATCH_SIZE, INITIAL_LEARNING_RATE, EPOCHS, GRADIENT_CLIPPING,\n",
    "    LOG_INTERVAL, MODEL_FILE_NAME\n",
    ")\n",
    "from src.corpus import Corpus\n",
    "from src.model import RNNModel\n",
    "from src.training import train"
   ]
  },
  {
   "cell_type": "code",
   "execution_count": 3,
   "metadata": {},
   "outputs": [
    {
     "data": {
      "text/plain": [
       "0.15608739852905273"
      ]
     },
     "execution_count": 3,
     "metadata": {},
     "output_type": "execute_result"
    }
   ],
   "source": [
    "import time\n",
    "start = time.time()\n",
    "corpus = Corpus()\n",
    "time.time() - start"
   ]
  },
  {
   "cell_type": "code",
   "execution_count": 4,
   "metadata": {},
   "outputs": [
    {
     "name": "stdout",
     "output_type": "stream",
     "text": [
      "602,755\n"
     ]
    }
   ],
   "source": [
    "print(\"{:,}\".format(len(corpus.dictionary)))"
   ]
  },
  {
   "cell_type": "code",
   "execution_count": 4,
   "metadata": {},
   "outputs": [
    {
     "name": "stdout",
     "output_type": "stream",
     "text": [
      "880,388\n"
     ]
    }
   ],
   "source": [
    "# print(\"{:,}\".format(len(corpus.dictionary)))"
   ]
  },
  {
   "cell_type": "code",
   "execution_count": 4,
   "metadata": {},
   "outputs": [
    {
     "name": "stdout",
     "output_type": "stream",
     "text": [
      "624,399\n"
     ]
    }
   ],
   "source": [
    "# print(\"{:,}\".format(len(corpus.dictionary)))\n",
    "# 624,399"
   ]
  },
  {
   "cell_type": "code",
   "execution_count": 4,
   "metadata": {},
   "outputs": [
    {
     "data": {
      "text/plain": [
       "2449854"
      ]
     },
     "execution_count": 4,
     "metadata": {},
     "output_type": "execute_result"
    }
   ],
   "source": [
    "# len(corpus.dictionary)\n",
    "# 2,449,854"
   ]
  },
  {
   "cell_type": "code",
   "execution_count": 6,
   "metadata": {},
   "outputs": [],
   "source": [
    "# import hashlib\n",
    "# fn = 'models/corpus.{}.data'.format(hashlib.md5('data/interim/wiki_pt_splits'.encode()).hexdigest())\n",
    "\n",
    "# torch.save(corpus, fn)"
   ]
  },
  {
   "cell_type": "code",
   "execution_count": 5,
   "metadata": {},
   "outputs": [
    {
     "data": {
      "text/plain": [
       "162.75338125228882"
      ]
     },
     "execution_count": 5,
     "metadata": {},
     "output_type": "execute_result"
    }
   ],
   "source": [
    "import time\n",
    "start = time.time()\n",
    "corpus.add_corpus_data()\n",
    "time.time() - start"
   ]
  },
  {
   "cell_type": "code",
   "execution_count": 6,
   "metadata": {},
   "outputs": [
    {
     "data": {
      "text/plain": [
       "torch.Size([11606861])"
      ]
     },
     "execution_count": 6,
     "metadata": {},
     "output_type": "execute_result"
    }
   ],
   "source": [
    "corpus.valid.size()"
   ]
  },
  {
   "cell_type": "code",
   "execution_count": 7,
   "metadata": {},
   "outputs": [],
   "source": [
    "device = torch.device(\"cuda\")"
   ]
  },
  {
   "cell_type": "code",
   "execution_count": 8,
   "metadata": {},
   "outputs": [],
   "source": [
    "ntokens = len(corpus.dictionary)\n",
    "model = RNNModel(MODEL_TYPE, ntokens, EMBEDDINGS_SIZE, HIDDEN_UNIT_COUNT, LAYER_COUNT, DROPOUT_PROB,\n",
    "# model = RNNModel(MODEL_TYPE, ntokens, EMBEDDINGS_SIZE, HIDDEN_UNIT_COUNT, 1, 0,\n",
    "                 TIED).to(device)\n",
    "criterion = nn.CrossEntropyLoss()"
   ]
  },
  {
   "cell_type": "code",
   "execution_count": null,
   "metadata": {},
   "outputs": [
    {
     "name": "stderr",
     "output_type": "stream",
     "text": [
      "INFO 2019-05-21 19:16:03,766: | epoch   1 |   200/23759 batches | lr 20.00 | ms/batch 174.28 | loss  9.67 | ppl 15815.59\n",
      "INFO 2019-05-21 19:16:38,230: | epoch   1 |   400/23759 batches | lr 20.00 | ms/batch 172.31 | loss  8.26 | ppl  3872.08\n",
      "INFO 2019-05-21 19:17:12,807: | epoch   1 |   600/23759 batches | lr 20.00 | ms/batch 172.88 | loss  7.49 | ppl  1783.08\n",
      "INFO 2019-05-21 19:17:47,428: | epoch   1 |   800/23759 batches | lr 20.00 | ms/batch 173.11 | loss  7.18 | ppl  1316.14\n",
      "INFO 2019-05-21 19:18:22,444: | epoch   1 |  1000/23759 batches | lr 20.00 | ms/batch 175.07 | loss  6.97 | ppl  1066.55\n",
      "INFO 2019-05-21 19:18:57,633: | epoch   1 |  1200/23759 batches | lr 20.00 | ms/batch 175.94 | loss  6.75 | ppl   851.74\n",
      "INFO 2019-05-21 19:19:32,555: | epoch   1 |  1400/23759 batches | lr 20.00 | ms/batch 174.61 | loss  6.61 | ppl   745.03\n",
      "INFO 2019-05-21 19:20:07,969: | epoch   1 |  1600/23759 batches | lr 20.00 | ms/batch 177.07 | loss  6.50 | ppl   664.76\n",
      "INFO 2019-05-21 19:20:43,205: | epoch   1 |  1800/23759 batches | lr 20.00 | ms/batch 176.18 | loss  6.32 | ppl   556.70\n",
      "INFO 2019-05-21 19:21:18,328: | epoch   1 |  2000/23759 batches | lr 20.00 | ms/batch 175.61 | loss  6.10 | ppl   448.02\n",
      "INFO 2019-05-21 19:21:53,303: | epoch   1 |  2200/23759 batches | lr 20.00 | ms/batch 174.88 | loss  6.20 | ppl   491.06\n",
      "INFO 2019-05-21 19:22:28,246: | epoch   1 |  2400/23759 batches | lr 20.00 | ms/batch 174.71 | loss  5.99 | ppl   398.85\n",
      "INFO 2019-05-21 19:23:03,080: | epoch   1 |  2600/23759 batches | lr 20.00 | ms/batch 174.17 | loss  6.16 | ppl   475.62\n",
      "INFO 2019-05-21 19:23:37,984: | epoch   1 |  2800/23759 batches | lr 20.00 | ms/batch 174.52 | loss  6.21 | ppl   498.85\n",
      "INFO 2019-05-21 19:24:12,950: | epoch   1 |  3000/23759 batches | lr 20.00 | ms/batch 174.82 | loss  6.17 | ppl   475.85\n",
      "INFO 2019-05-21 19:24:47,942: | epoch   1 |  3200/23759 batches | lr 20.00 | ms/batch 174.96 | loss  5.95 | ppl   383.25\n",
      "INFO 2019-05-21 19:25:22,905: | epoch   1 |  3400/23759 batches | lr 20.00 | ms/batch 174.81 | loss  5.92 | ppl   371.40\n",
      "INFO 2019-05-21 19:25:57,841: | epoch   1 |  3600/23759 batches | lr 20.00 | ms/batch 174.68 | loss  6.11 | ppl   450.49\n",
      "INFO 2019-05-21 19:26:32,686: | epoch   1 |  3800/23759 batches | lr 20.00 | ms/batch 174.22 | loss  5.96 | ppl   386.64\n",
      "INFO 2019-05-21 19:27:08,519: | epoch   1 |  4000/23759 batches | lr 20.00 | ms/batch 179.16 | loss  6.05 | ppl   422.12\n",
      "INFO 2019-05-21 19:27:43,633: | epoch   1 |  4200/23759 batches | lr 20.00 | ms/batch 175.57 | loss  5.71 | ppl   302.35\n",
      "INFO 2019-05-21 19:28:18,552: | epoch   1 |  4400/23759 batches | lr 20.00 | ms/batch 174.59 | loss  5.96 | ppl   386.30\n",
      "INFO 2019-05-21 19:28:53,324: | epoch   1 |  4600/23759 batches | lr 20.00 | ms/batch 173.86 | loss  5.95 | ppl   384.61\n",
      "INFO 2019-05-21 19:29:28,445: | epoch   1 |  4800/23759 batches | lr 20.00 | ms/batch 175.60 | loss  5.80 | ppl   330.63\n",
      "INFO 2019-05-21 19:30:03,671: | epoch   1 |  5000/23759 batches | lr 20.00 | ms/batch 176.13 | loss  5.72 | ppl   305.42\n",
      "INFO 2019-05-21 19:30:38,800: | epoch   1 |  5200/23759 batches | lr 20.00 | ms/batch 175.64 | loss  5.73 | ppl   306.88\n",
      "INFO 2019-05-21 19:31:14,208: | epoch   1 |  5400/23759 batches | lr 20.00 | ms/batch 177.03 | loss  5.62 | ppl   275.59\n",
      "INFO 2019-05-21 19:31:49,900: | epoch   1 |  5600/23759 batches | lr 20.00 | ms/batch 178.46 | loss  5.74 | ppl   310.59\n",
      "INFO 2019-05-21 19:32:24,855: | epoch   1 |  5800/23759 batches | lr 20.00 | ms/batch 174.77 | loss  5.61 | ppl   273.17\n",
      "INFO 2019-05-21 19:32:59,999: | epoch   1 |  6000/23759 batches | lr 20.00 | ms/batch 175.72 | loss  5.68 | ppl   293.94\n",
      "INFO 2019-05-21 19:33:35,487: | epoch   1 |  6200/23759 batches | lr 20.00 | ms/batch 177.44 | loss  5.73 | ppl   309.26\n",
      "INFO 2019-05-21 19:34:12,511: | epoch   1 |  6400/23759 batches | lr 20.00 | ms/batch 185.12 | loss  5.56 | ppl   259.96\n",
      "INFO 2019-05-21 19:34:49,234: | epoch   1 |  6600/23759 batches | lr 20.00 | ms/batch 183.61 | loss  5.66 | ppl   285.94\n",
      "INFO 2019-05-21 19:35:25,554: | epoch   1 |  6800/23759 batches | lr 20.00 | ms/batch 181.60 | loss  5.60 | ppl   270.52\n"
     ]
    }
   ],
   "source": [
    "train(model, corpus, criterion, device)"
   ]
  },
  {
   "cell_type": "code",
   "execution_count": null,
   "metadata": {},
   "outputs": [],
   "source": [
    "torch.cuda.device_count()"
   ]
  },
  {
   "cell_type": "code",
   "execution_count": null,
   "metadata": {},
   "outputs": [],
   "source": [
    "torch.cuda.max_memory_allocated(device=device)"
   ]
  },
  {
   "cell_type": "code",
   "execution_count": null,
   "metadata": {},
   "outputs": [],
   "source": [
    "torch.cuda.memory_allocated(device=device)"
   ]
  },
  {
   "cell_type": "code",
   "execution_count": 19,
   "metadata": {},
   "outputs": [
    {
     "data": {
      "text/plain": [
       "487409664"
      ]
     },
     "execution_count": 19,
     "metadata": {},
     "output_type": "execute_result"
    }
   ],
   "source": [
    "torch.cuda.max_memory_allocated(device=device)"
   ]
  },
  {
   "cell_type": "code",
   "execution_count": 20,
   "metadata": {},
   "outputs": [
    {
     "data": {
      "text/plain": [
       "487325696"
      ]
     },
     "execution_count": 20,
     "metadata": {},
     "output_type": "execute_result"
    }
   ],
   "source": [
    "torch.cuda.memory_allocated(device=device)"
   ]
  },
  {
   "cell_type": "code",
   "execution_count": 17,
   "metadata": {},
   "outputs": [
    {
     "ename": "NameError",
     "evalue": "name 'model' is not defined",
     "output_type": "error",
     "traceback": [
      "\u001b[0;31m---------------------------------------------------------------------------\u001b[0m",
      "\u001b[0;31mNameError\u001b[0m                                 Traceback (most recent call last)",
      "\u001b[0;32m<ipython-input-17-1f8a688cae5d>\u001b[0m in \u001b[0;36m<module>\u001b[0;34m\u001b[0m\n\u001b[0;32m----> 1\u001b[0;31m \u001b[0mmodel\u001b[0m\u001b[0;34m\u001b[0m\u001b[0;34m\u001b[0m\u001b[0m\n\u001b[0m",
      "\u001b[0;31mNameError\u001b[0m: name 'model' is not defined"
     ]
    }
   ],
   "source": [
    "model"
   ]
  },
  {
   "cell_type": "code",
   "execution_count": 17,
   "metadata": {},
   "outputs": [
    {
     "name": "stdout",
     "output_type": "stream",
     "text": [
      "encoder.weight torch.Size([602755, 200])\n",
      "rnn.weight_ih_l0 torch.Size([800, 200])\n",
      "rnn.weight_hh_l0 torch.Size([800, 200])\n",
      "rnn.bias_ih_l0 torch.Size([800])\n",
      "rnn.bias_hh_l0 torch.Size([800])\n",
      "decoder.weight torch.Size([602755, 200])\n",
      "decoder.bias torch.Size([602755])\n"
     ]
    }
   ],
   "source": [
    "for key, value in model.state_dict().items():\n",
    "    print(key, value.size())"
   ]
  },
  {
   "cell_type": "code",
   "execution_count": 18,
   "metadata": {},
   "outputs": [],
   "source": [
    "params = list(model.parameters()) + list(criterion.parameters())\n",
    "total_params = sum(x.size()[0] * x.size()[1] if len(x.size()) > 1 else x.size()[0] for x in params if x.size())"
   ]
  },
  {
   "cell_type": "code",
   "execution_count": 21,
   "metadata": {},
   "outputs": [
    {
     "name": "stdout",
     "output_type": "stream",
     "text": [
      "121,475,355\n"
     ]
    }
   ],
   "source": [
    "print(\"{:,}\".format(total_params))"
   ]
  },
  {
   "cell_type": "code",
   "execution_count": null,
   "metadata": {},
   "outputs": [],
   "source": []
  },
  {
   "cell_type": "code",
   "execution_count": null,
   "metadata": {},
   "outputs": [],
   "source": []
  }
 ],
 "metadata": {
  "kernelspec": {
   "display_name": "wsc_port",
   "language": "python",
   "name": "wsc_port"
  },
  "language_info": {
   "codemirror_mode": {
    "name": "ipython",
    "version": 3
   },
   "file_extension": ".py",
   "mimetype": "text/x-python",
   "name": "python",
   "nbconvert_exporter": "python",
   "pygments_lexer": "ipython3",
   "version": "3.6.8"
  }
 },
 "nbformat": 4,
 "nbformat_minor": 2
}
