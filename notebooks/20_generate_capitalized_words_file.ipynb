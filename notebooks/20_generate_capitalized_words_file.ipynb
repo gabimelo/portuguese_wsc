{
 "cells": [
  {
   "cell_type": "code",
   "execution_count": 1,
   "metadata": {},
   "outputs": [],
   "source": [
    "import os\n",
    "os.chdir('..')\n",
    "\n",
    "%load_ext autoreload\n",
    "%autoreload 2"
   ]
  },
  {
   "cell_type": "code",
   "execution_count": 2,
   "metadata": {},
   "outputs": [],
   "source": [
    "import torch\n",
    "import re\n",
    "\n",
    "from src.main import setup_torch, get_corpus\n",
    "from src.utils import get_latest_model_file\n",
    "from src.winograd_schema_challenge import (\n",
    "    analyse_single_wsc, find_missing_wsc_words_in_corpus_vocab, winograd_test\n",
    ")\n",
    "\n",
    "from src.wsc_parser import generate_df, generate_json, generate_full_sentences"
   ]
  },
  {
   "cell_type": "markdown",
   "metadata": {},
   "source": [
    "### Sentences with issues:"
   ]
  },
  {
   "cell_type": "code",
   "execution_count": 3,
   "metadata": {},
   "outputs": [],
   "source": [
    "still_in_english = [\n",
    "    \"It was a summer afternoon, and the dog was sitting in the middle of the lawn. After a while, it got up and moved to a spot under the tree, because the spot under the tree was hot.\",\n",
    "    \"It was a summer afternoon, and the dog was sitting in the middle of the lawn. After a while, it got up and moved to a spot under the tree, because the dog was cooler.\",\n",
    "    \"I couldn't put the pot on the shelf because the shelf was too tall.\",\n",
    "    \"I couldn't put the pot on the shelf because the pot was too high.\",\n",
    "    \"There is a pillar between me and the stage, and I can't see around the stage.\",\n",
    "    \"There is a pillar between me and the stage, and I can't see the pillar.\",\n",
    "    \"They broadcast an announcement, but a subway came into the station and I couldn't hear the subway.\",\n",
    "    \"They broadcast an announcement, but a subway came into the station and I couldn't hear over the announcement.\",\n",
    "]"
   ]
  },
  {
   "cell_type": "code",
   "execution_count": 4,
   "metadata": {},
   "outputs": [],
   "source": [
    "df = generate_df(still_in_english)\n",
    "df['correct_sentence'], df['incorrect_sentence'] = zip(*df.apply(generate_full_sentences, axis=1))"
   ]
  },
  {
   "cell_type": "code",
   "execution_count": 5,
   "metadata": {},
   "outputs": [],
   "source": [
    "df['correct_sentence'].replace({'alice': 'Alice'}, inplace=True, regex=True)\n",
    "df['incorrect_sentence'].replace({'alice': 'Alice'}, inplace=True, regex=True)\n",
    "df['correct_sentence'].replace({'fred': 'Fred'}, inplace=True, regex=True)\n",
    "df['incorrect_sentence'].replace({'fred': 'Fred'}, inplace=True, regex=True)\n",
    "df['correct_sentence'].replace({'mary': 'Mary'}, inplace=True, regex=True)\n",
    "df['incorrect_sentence'].replace({'mary': 'Mary'}, inplace=True, regex=True)\n",
    "df['correct_sentence'].replace({'anne': 'Anne'}, inplace=True, regex=True)\n",
    "df['incorrect_sentence'].replace({'anne': 'Anne'}, inplace=True, regex=True)\n",
    "df['correct_sentence'].replace({'jim': 'Jim'}, inplace=True, regex=True)\n",
    "df['incorrect_sentence'].replace({'jim': 'Jim'}, inplace=True, regex=True)\n",
    "df['correct_sentence'].replace({'O golpista': 'o golpista'}, inplace=True, regex=True)\n",
    "df['incorrect_sentence'].replace({'O golpista': 'o golpista'}, inplace=True, regex=True)\n",
    "df['correct_sentence'].replace({'desenho da tina': 'desenho da Tina'}, inplace=True, regex=True)\n",
    "df['incorrect_sentence'].replace({'desenho da tina': 'desenho da Tina'}, inplace=True, regex=True)\n",
    "df['correct_sentence'].replace({'desenho do sam': 'desenho do Sam'}, inplace=True, regex=True)\n",
    "df['incorrect_sentence'].replace({'desenho do sam': 'desenho do Sam'}, inplace=True, regex=True)\n",
    "df['correct_sentence'].replace({' Os pais da Amy': ' os pais da Amy'}, inplace=True, regex=True)\n",
    "df['incorrect_sentence'].replace({' Os pais da Amy': ' os pais da Amy'}, inplace=True, regex=True)\n",
    "df['correct_sentence'].replace({' O tio do Joe': ' o tio do Joe'}, inplace=True, regex=True)\n",
    "df['incorrect_sentence'].replace({' O tio do Joe': ' o tio do Joe'}, inplace=True, regex=True)\n",
    "df['correct_sentence'].replace({'joe': 'Joe'}, inplace=True, regex=True)\n",
    "df['incorrect_sentence'].replace({'joe': 'Joe'}, inplace=True, regex=True)\n",
    "df['correct_sentence'].replace({' A Dra. Adams': ' a Dra. Adams'}, inplace=True, regex=True)\n",
    "df['incorrect_sentence'].replace({' A Dra. Adams': ' a Dra. Adams'}, inplace=True, regex=True)\n",
    "df['correct_sentence'].replace({' A Kate': ' a kate'}, inplace=True, regex=True)\n",
    "df['incorrect_sentence'].replace({' A Kate': ' a kate'}, inplace=True, regex=True)\n",
    "df['correct_sentence'].replace({'madonna': 'Madonna'}, inplace=True, regex=True)\n",
    "df['incorrect_sentence'].replace({'madonna': 'Madonna'}, inplace=True, regex=True)"
   ]
  },
  {
   "cell_type": "code",
   "execution_count": 6,
   "metadata": {},
   "outputs": [],
   "source": [
    "# get list of words that are currently capitalized, and are not first word at sentence or after period mark\n",
    "capitalized_words = []\n",
    "\n",
    "def get_capitalized_words(schema):\n",
    "    global capitalized_words\n",
    "    words = re.findall(r'(?<!^)(?<!\\. )[A-Z][a-z]+', schema)\n",
    "    \n",
    "    capitalized_words += words\n",
    "\n",
    "df.schema.apply(get_capitalized_words)\n",
    "df.correct_sentence.apply(get_capitalized_words)\n",
    "df.incorrect_sentence.apply(get_capitalized_words)\n",
    "\n",
    "capitalized_words += ['Índico', 'GrWQWu8JyC', 'Ovídio', 'Frank', 'Jane', 'Sid'] \n",
    "capitalized_words = list(set(capitalized_words) - set(['Gr', 'Jy', 'Wu', 'Ov', 'Eu']))\n",
    "# Eu primeiro!\n",
    "capitalized_words.sort()\n",
    "\n",
    "with open('data/processed/portuguese_capitalized_words.txt', 'w') as outfile:\n",
    "    for item in capitalized_words:\n",
    "        outfile.write(\"%s\\n\" % item)"
   ]
  }
 ],
 "metadata": {
  "kernelspec": {
   "display_name": "wsc_port",
   "language": "python",
   "name": "wsc_port"
  },
  "language_info": {
   "codemirror_mode": {
    "name": "ipython",
    "version": 3
   },
   "file_extension": ".py",
   "mimetype": "text/x-python",
   "name": "python",
   "nbconvert_exporter": "python",
   "pygments_lexer": "ipython3",
   "version": "3.6.8"
  }
 },
 "nbformat": 4,
 "nbformat_minor": 2
}
