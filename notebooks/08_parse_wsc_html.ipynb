{
 "cells": [
  {
   "cell_type": "code",
   "execution_count": 1,
   "metadata": {},
   "outputs": [],
   "source": [
    "import os\n",
    "os.chdir('..')\n",
    "\n",
    "%load_ext autoreload\n",
    "%autoreload 2"
   ]
  },
  {
   "cell_type": "code",
   "execution_count": 2,
   "metadata": {},
   "outputs": [],
   "source": [
    "import torch\n",
    "\n",
    "from src.main import setup_torch, get_corpus\n",
    "from src.utils import get_latest_model_file\n",
    "from src.winograd_schema_challenge import analyse_single_wsc, generate_full_sentences, find_missing_wsc_words_in_corpus_vocab, winograd_test\n",
    "\n",
    "# from src.html_wsc_parser import join_content, clean_tags_for_schema_and_snippet, get_schema_and_snippet_texts, generate_df\n",
    "from src.html_wsc_parser import generate_df"
   ]
  },
  {
   "cell_type": "markdown",
   "metadata": {},
   "source": [
    "# Sentences with issues:"
   ]
  },
  {
   "cell_type": "code",
   "execution_count": 4,
   "metadata": {},
   "outputs": [],
   "source": [
    "still_in_english = [\n",
    "    \"It was a summer afternoon, and the dog was sitting in the middle of the lawn. After a while, it got up and moved to a spot under the tree, because the spot under the tree was hot.\",\n",
    "    \"It was a summer afternoon, and the dog was sitting in the middle of the lawn. After a while, it got up and moved to a spot under the tree, because the dog was cooler.\",\n",
    "    \"I couldn't put the pot on the shelf because the shelf was too tall.\",\n",
    "    \"I couldn't put the pot on the shelf because the pot was too high.\",\n",
    "    \"There is a pillar between me and the stage, and I can't see around the stage.\",\n",
    "    \"There is a pillar between me and the stage, and I can't see the pillar.\",\n",
    "    \"They broadcast an announcement, but a subway came into the station and I couldn't hear the subway.\",\n",
    "    \"They broadcast an announcement, but a subway came into the station and I couldn't hear over the announcement.\",\n",
    "    \"The large ball crashed right through the table because the table was made of steel.\",\n",
    "    \"The large ball crashed right through the table because the large ball was made of styrofoam.\"\n",
    "]"
   ]
  },
  {
   "cell_type": "code",
   "execution_count": 5,
   "metadata": {},
   "outputs": [],
   "source": [
    "subs_not_working = [\n",
    "    'Jim fez um sinal para o barman e apontou para sua taça vazia.',\n",
    "    'Jim fez um sinal para o barman e apontou para jim chave do banheiro.',\n",
    "    'Dan ficou no banco de trás enquanto Bill reinvidicava a frente porque Bill \"Eu primeiro!\" era lento.',\n",
    "    'Dan ficou no banco de trás enquanto Bill reinvidicava a frente porque Dan \"Eu primeiro!\" era mais rápido.',\n",
    "    'Tom disse \"Check\" para Ralph enquanto ele movia Ralph bispo.',\n",
    "    'Tom disse \"Check\" para Ralph enquanto ele tomava Tom bispo.',\n",
    "    'John contratou Bill para cuidar Bill.',\n",
    "    'John foi contratado por Bill para cuidar John.',\n",
    "    'Ele os abaixou quando o vento parou.',\n",
    "    'Ele os abriu quando o vento parou.',\n",
    "    'As raposas estão entrando à noite e atacando as galinhas. Eu terei que matá- las.',\n",
    "    'As raposas estão entrando à noite e atacando as galinhas. Eu terei que protegê- las.',\n",
    "    'O caminho até o lago estava interditado, então nós não podíamos usá-o lago.',\n",
    "    'O caminho até o lago estava interditado, então nós não podíamos alcançá-o caminho.',\n",
    "    'Sara pegou um livro emprestado da biblioteca porque ela precisa dele para um artigo no qual ela está trabalhando. Ela o artigo lê quando chega do trabalho.',\n",
    "    'Sara pegou um livro emprestado da biblioteca porque ela precisa dele para um artigo no qual ela está trabalhando. Ela o livro escreve quando chega do trabalho.',\n",
    "    'Como estava chovendo, eu carreguei a revista na minha mochila para mantê-a mochila seca.',\n",
    "    'Como estava chovendo, eu carreguei a revista sobre a minha mochila para mantê-a revista seca.',\n",
    "    'Mary sacou sua flauta e tocou uma de suas peças favoritas. Ela a peça tem desde criança.',\n",
    "    'Mary sacou sua flauta e tocou uma de suas peças favoritas. Ela a flauta ama desde criança.',\n",
    "    'Joe vendeu sua casa e comprou uma nova a alguns quilômetros de distância. Ele se mudará dela na quinta-feira.',\n",
    "    'Durante a tempestade, o poste caiu e atravessou o telhado da minha casa. Agora, eu tenho que mandar removêo telhado.',\n",
    "    'Durante a tempestade, o poste caiu e atravessou o telhado da minha casa. Agora, eu tenho que mandar consertáo posto.',\n",
    "    'Eu estava tentando abrir o cadeado com a chave, mas alguém havia preenchido a fechadura com goma de mascar, e eu não conseguia inseri-la .',\n",
    "    'Eu estava tentando abrir o cadeado com a chave, mas alguém havia preenchido a fechadura com goma de mascar, e eu não conseguia removê-la.',\n",
    "    'Há uma fenda na parede. É possível enxergar o jardim através a parede.',\n",
    "    'Há uma fenda na parede. É possível enxergar o jardim atrás a fenda.',\n",
    "    # ok mas estranho:\n",
    "    'Eu usei um pano velho para limpar o alicate, e então o alicate coloquei no lixo.',\n",
    "    'Eu usei um pano velho para limpar o alicate, e então o pano coloquei na gaveta.',\n",
    "'    Os alunos mais velhos estavam fazendo bullying com os mais jovens, então nós os alunos mais jovens punimos.',\n",
    "    'Os alunos mais velhos estavam fazendo bullying com os mais jovens, então nós os alunos mais velhos protegemos.'\n",
    "    # \"policia estavam\", errado\n",
    "    'Os bombeiros chegaram depois da polícia porque a polícia estavam vindo de muito longe.',\n",
    "    'Os bombeiros chegaram antes da polícia porque os bombeiros estavam vindo de muito longe.',\n",
    "    'O homem levantou o menino sobre sua cabeça.',\n",
    "    'O homem levantou o menino até sua beliche.',\n",
    "    'Alongando suas costas, a mulher sorriu para a menina.',\n",
    "    'Dando um tapinha em suas costas, a mulher sorriu para a menina.',\n",
    "    'Billy chorou porque Toby não queria aceitar seu brinquedo.',\n",
    "    'Billy chorou porque Toby não queria compartilhar seu brinquedo.',\n",
    "    'Lily conversou com Donna, quebrando sua promessa.',\n",
    "    'Lily conversou com Donna, tirando sua concentração.',\n",
    "    'Quando Tommy derrubou seu sorvete, Timmy gargalhou, então seu pai olhou-o com olhar empático.',\n",
    "    'Quando Tommy derrubou seu sorvete, Timmy gargalhou, então seu pai olhou-o com olhar severo.',\n",
    "    'Enquanto Ollie carregava Tommy subindo a longa escada em espiral, suas pernas doíam.',\n",
    "    'Enquanto Ollie carregava Tommy subindo a longa escada em espiral, suas pernas balançavam.',\n",
    "    'O pai carregava o menino dormindo em seu colo',\n",
    "    'O pai carregava o menino dormindo em seu berço',\n",
    "    'A mulher estava segurando a menina contra seu peito',\n",
    "    'A mulher estava segurando a menina contra seu desejo.',\n",
    "    'Este livro introduziu Shakespeare a Ovídio; ele foi uma grande influência em sua escrita.',\n",
    "    'Este livro introduziu Shakespeare a Goethe; ele foi uma grande influência em sua escrita.',\n",
    "    'Este livro introduziu Shakespeare a Ovídio; ele era uma excelente seleção de sua escrita.',\n",
    "    'Este livro introduziu Shakespeare a Goethe; ele era uma excelente seleção de sua escrita.'\n",
    "]"
   ]
  },
  {
   "cell_type": "code",
   "execution_count": null,
   "metadata": {},
   "outputs": [],
   "source": []
  },
  {
   "cell_type": "code",
   "execution_count": 6,
   "metadata": {},
   "outputs": [],
   "source": [
    "df = generate_df(still_in_english, subs_not_working)\n",
    "df['correct_sentence'], df['incorrect_sentence'] = zip(*df.apply(generate_full_sentences, axis=1))"
   ]
  },
  {
   "cell_type": "code",
   "execution_count": 7,
   "metadata": {},
   "outputs": [
    {
     "name": "stdout",
     "output_type": "stream",
     "text": [
      "Os vereadores recusaram a autorização aos manifestantes porque os manifestantes temiam a violência.\n",
      "Os vereadores recusaram a autorização aos manifestantes porque os vereadores eram favoráveis à violência.\n",
      "A medalha não cabe na maleta porque a maleta é muito grande.\n",
      "A medalha não cabe na maleta porque a medalha é muito pequena.\n",
      "Joan certificou-se de agradecer Susan por toda ajuda que Susan havia recebido.\n",
      "Joan certificou-se de agradecer Susan por toda ajuda que Susan havia oferecido.\n",
      "Paul tentou ligar para o George, mas George não foi bem sucedido.\n",
      "Paul tentou ligar para o George, mas Paul não estava disponível.\n",
      "O advogado fez uma pergunta ao juiz, mas o juiz estava relutante em repeti-la.\n",
      "O advogado fez uma pergunta ao juiz, mas o advogado estava relutante em respondê-la.\n",
      "O caminhão de entregas passou rapidamente pelo ônibus escolar porque o ônibus escolar estava indo muito depressa.\n",
      "O caminhão de entregas passou rapidamente pelo ônibus escolar porque o caminhão de entregas estava indo muito devagar.\n",
      "Frank sentiu-se vingado quando seu rival de longa data Bill revelou que Bill era o vencedor da competição.\n",
      "Frank sentiu-se fracassado quando seu rival de longa data Bill revelou que Frank era o vencedor da competição.\n",
      "O homem não conseguia erguer seu filho porque o filho era muito fraco.\n",
      "O homem não conseguia erguer seu filho porque o homem era muito pesado.\n",
      "John não conseguia enxergar o palco com Billy na sua frente porque Billy é muito baixo.\n",
      "John não conseguia enxergar o palco com Billy na sua frente porque John é muito alto.\n",
      "Tom jogou sua mochila para o Ray lá embaixo depois que Ray atingiu o topo da escada.\n",
      "Tom jogou sua mochila para o Ray lá embaixo depois que Tom atingiu a parte inferior da escada.\n",
      "Apesar de ambas correrem a aproximadamente a mesma velocidade, Sue derrotou Sally porque Sally começou muito bem.\n",
      "Apesar de ambas correrem a aproximadamente a mesma velocidade, Sue derrotou Sally porque Sue começou muito mal.\n",
      "A escultura caiu da prateleira porque a prateleira não estava bem acomodada.\n",
      "A escultura caiu da prateleira porque a escultura não estava bem nivelada.\n",
      "O desenho do Sam estava pendurado imediatamente acima do da Tina e o desenho da tina de fato ficava muito melhor com outro abaixo dele.\n",
      "O desenho do Sam estava pendurado imediatamente acima do da Tina e o desenho do sam de fato ficava muito melhor com outro acima dele.\n",
      "Anna se saiu muito melhor do que sua amiga Lucy na prova porque Lucy tinha estudado muito.\n",
      "Anna se saiu muito pior do que sua amiga Lucy na prova porque Anna tinha estudado muito.\n",
      "Frank estava chateado com o Tom porque a torradeira que Tom havia comprado dele não funcionava.\n",
      "Frank estava chateado com o Tom porque a torradeira que Frank havia vendido para ele não funcionava.\n",
      "Jim gritou com Kevin porque Kevin estava muito transtornado.\n",
      "Jim reconfortou Kevin porque Jim estava muito transtornado.\n",
      "O saco de batatas havia sido colocado em cima do saco de farinha, portanto o saco de farinha tinha que ser retirado antes.\n",
      "O saco de batatas havia sido colocado embaixo do saco de farinha, portanto o saco de batatas tinha que ser retirado antes.\n",
      "Pete tem inveja de Martin apesar de Martin ser muito bem sucedido.\n",
      "Pete tem inveja de Martin porque Pete é muito bem sucedido.\n",
      "Eu servi a água da garrafa na xícara até que a xícara ficasse vazia.\n",
      "Eu servi a água da garrafa na xícara até que a garrafa ficasse cheia.\n",
      "Susan sabe tudo sobre os problemas pessoais da Ann porque Ann é intrometida.\n",
      "Susan sabe tudo sobre os problemas pessoais da Ann porque Susan é indiscreta.\n",
      "Sid explicou sua teoria para o Mark mas Mark não conseguiu convencê-lo.\n",
      "Sid explicou sua teoria para o Mark mas Sid não conseguiu compreendê-la.\n",
      "Susan sabia que o filho de Ann havia se envolvido em um acidente de carro, então Ann contou-lhe a respeito.\n",
      "Susan sabia que o filho de Ann havia se envolvido em um acidente de carro, porque Susan contou-lhe a respeito.\n",
      "O tio do Joe ainda consegue derrotá-lo no tênis, apesar de O tio do Joe ser 30 anos mais jovem.\n",
      "O tio do Joe ainda consegue derrotá-lo no tênis, apesar de Joe ser 30 anos mais velho.\n",
      "O quadro na sala de estar do Mark mostra um carvalho. O carvalho está à direita da estante de livros.\n",
      "O quadro na sala de estar do Mark mostra um carvalho. O quadro está à direita da casa.\n",
      "O ralo está entupido com cabelo. O cabelo tem que ser limpado.\n",
      "O ralo está entupido com cabelo. O ralo tem que ser removido.\n",
      "Meu compromisso começava às 4:00 e eu precisava pegar o trem às 4:30, portanto não havia muito tempo. Felizmente, o trem foi breve, então tudo deu certo.\n",
      "Meu compromisso começava às 4:00 e eu precisava pegar o trem às 4:30, portanto não havia muito tempo. Felizmente, meu compromisso atrasou, então tudo deu certo.\n",
      "Durante a apresentação a céu aberto, começou a chover, mas a chuva continuou até às 10.\n",
      "Durante a apresentação a céu aberto, começou a chover, e a apresentação continuou até às 10.\n",
      "Ann perguntou a Mary a que horas a biblioteca fechava, porque Mary havia esquecido.\n",
      "Ann perguntou a Mary a que horas a biblioteca fechava, mas Ann havia esquecido.\n",
      "Eu retirei a garrafa d'água da mochila para que a mochila ficasse acessível.\n",
      "Eu retirei a garrafa d'água da mochila para que a garrafa d'água ficasse leve.\n",
      "Tenho certeza que meu mapa mostrará esse prédio; o prédio é muito bom.\n",
      "Tenho certeza que meu mapa mostrará esse prédio; o mapa é muito famoso.\n",
      "Bob custeou o ensino superior de Charlie. Charlie é muito generoso.\n",
      "Bob custeou o ensino superior de Charlie. Bob é muito grato.\n",
      "Bob custeou o ensino superior de Charlie, mas agora Charlie age como se isso nunca houvesse acontecido. Charlie está muito magoado.\n",
      "Bob custeou o ensino superior de Charlie, mas agora Charlie age como se isso nunca houvesse acontecido. Bob é muito ingrato.\n",
      "Bob estava jogando cartas com Adam e estava muito à frente no placar. Se Adam não tivesse tido uma sequência de jogadas de sorte, Adam teria ganhado.\n",
      "Bob estava jogando cartas com Adam e estava muito à frente no placar. Se Adam não tivesse tido uma sequência de jogadas de sorte, Bob teria perdido.\n",
      "Adam não pode sair do trabalho até que Bob chegue para substituí-lo. Se Bob tivesse saído de casa na hora certa, Bob já teria saído agora.\n",
      "Adam não pode sair do trabalho até que Bob chegue para substituí-lo. Se Bob tivesse saído de casa na hora certa, Adam já estaria aqui agora.\n",
      "Se o golpista tivesse sido bem sucedido em enganar o Sam, Sam teria ganhado muito dinheiro.\n",
      "Se o golpista tivesse sido bem sucedido em enganar o Sam, O golpista teria perdido muito dinheiro.\n",
      "O gato estava esperando próximo ao buraco esperando pelo rato, mas o rato estava muito impaciente.\n",
      "O gato estava esperando próximo ao buraco esperando pelo rato, mas o gato era muito cauteloso.\n",
      "Anne deu à luz uma menina mês passado. A filha da Anne é uma mulher encantadora.\n",
      "Anne deu à luz uma menina mês passado. Anne é uma bebê encantadora.\n",
      "Alice tentou incansavelmente impedir sua filha de conversar na festa. Ficamos nos questionando porque a filha da alice estava se comportando de maneira tão estranha.\n",
      "Alice tentou incansavelmente impedir sua filha de latir na festa. Ficamos nos questionando porque alice estava se comportando de maneira tão estranha.\n",
      "Eu vi o Jim gritando com um cara que vestia uma farda e tinha uma grande barba ruiva. Eu não sei porque o cara que vestia uma farda estava assim, mas ele parecia muito chateado.\n",
      "Eu vi o Jim gritando com um cara que vestia uma farda e tinha uma grande barba ruiva. Eu não sei quem jim era, mas ele parecia muito chateado.\n",
      "O peixe comeu o mosquito. O mosquito estava com fome.\n",
      "O peixe comeu o mosquito. O peixe estava saboroso.\n",
      "O cão perseguiu o gato, que correu até a árvore. O gato esperou embaixo.\n",
      "O cão perseguiu o gato, que correu até a árvore. O cão esperou em cima.\n",
      "O cliente entrou no banco e esfaqueou um dos caixas. O caixa foi levado imediatamente para a delegacia.\n",
      "O cliente entrou no banco e esfaqueou um dos caixas. O cliente foi levado imediatamente para o hospital.\n",
      "John estava fazendo uma pesquisa na biblioteca quando ouviu um homem cantarolando e assoviando. O homem ficou muito incomodado.\n",
      "John estava fazendo uma pesquisa na biblioteca quando ouviu um homem cantarolando e assoviando. John era muito irritante.\n",
      "John estava correndo pelo parque quando viu um homem fazendo malabarismos com melancias. O malabarista ficou muito impressionado.\n",
      "John estava correndo pelo parque quando viu um homem fazendo malabarismos com melancias. John era muito impressionante.\n",
      "Bob colapsou na calçada. Logo ele viu Carl vindo acudi-lo. Carl estava muito doente.\n",
      "Bob colapsou na calçada. Logo ele viu Carl vindo acudi-lo. Bob estava muito preocupado.\n",
      "Sam e Amy estão extremamente apaixonados, mas os pais da Amy estão incomodados com isso porque Os pais da Amy têm quinze anos.\n",
      "Sam e Amy estão extremamente apaixonados, mas os pais da Amy estão incomodados com isso porque Sam and Amy são esnobes.\n",
      "Mark contou muitas mentiras sobre ele mesmo para o Pete, e Pete as incluiu no seu livro. Pete deveria ter sido mais sincero.\n",
      "Mark contou muitas mentiras sobre ele mesmo para o Pete, e Pete as incluiu no seu livro. Mark deveria ter sido mais cético.\n",
      "Muitas pessoas começam a ler os livros do Paul e não conseguem largá-los. Os livros do Paul ficam apegados porque Paul escreve muito bem.\n",
      "Muitas pessoas começam a ler os livros do Paul e não conseguem largá-los. Pessoas são populares porque o Paul escreve muito bem.\n",
      "Sam puxou um banco para o piano, mas o piano estava quebrado, então ele teve que ficar em pé.\n",
      "Sam puxou um banco para o piano, mas o banco estava quebrado, então ele teve que cantar.\n",
      "Nesta manhã, Joey construiu um castelo de areia na praia, e colocou um soldado de brinquedo na torre mais alta, mas nesta tarde a maré o soldado derrubou.\n",
      "Nesta manhã, Joey construiu um castelo de areia na praia, e colocou um soldado de brinquedo na torre mais alta, mas nesta tarde o vento o castelo de areia derrubou.\n",
      "Jane bateu à porta de Susan, mas ninguém respondeu. Susan ficou desapontada.\n",
      "Jane bateu à porta de Susan, mas ninguém respondeu. Jane tinha saído.\n",
      "Jane bateu à porta, e Susan atendeu. Susan convidou-a para sair.\n",
      "Jane bateu à porta, e Susan atendeu. Jane convidou-a para entrar.\n",
      "Sam teve aulas de francês com o Adam, porque Adam estava ansioso para falar fluentemente.\n",
      "Sam teve aulas de francês com o Adam, porque Sam era conhecido por falar fluentemente.\n",
      "A luz solar estava impedida por uma grande nuvem a manhã toda, por sorte, na hora em que o piquenique começou, a nuvem voltou.\n",
      "A luz solar estava impedida por uma grande nuvem a manhã toda, por sorte, na hora em que o piquenique começou, a luz solar foi embora.\n",
      "Nós fomos para a lagoa, porque um tubarão havia sido avistado na praia, então a praia era um lugar mais seguro para nadar.\n",
      "Nós fomos para a lagoa, porque um tubarão havia sido avistado na praia, então a lagoa era um lugar perigoso para nadar.\n",
      "Sam tentou pintar um quadro de pastoras com ovelhas, mas as ovelhas acabaram ficando mais parecidas com golfistas.\n",
      "Sam tentou pintar um quadro de pastoras com ovelhas, mas as pastoras acabaram ficando mais parecidas com cachorros.\n",
      "Mary acomodou sua filha Anne na cama, para que a filha da mary pudesse trabalhar.\n",
      "Mary acomodou sua filha Anne na cama, para que mary pudesse dormir.\n",
      "Fred e Alice tinham casacos muito quentes, mas casacos não estavam preparados para o frio do Alasca.\n",
      "Fred e Alice tinham casacos muito quentes, mas fred e alice não eram suficientes para o frio do Alasca.\n",
      "Thomson visitou o túmulo de Cooper em 1765. Naquela data fazia cinco anos que Cooper estava viajando.\n",
      "Thomson visitou o túmulo de Cooper em 1765. Naquela data fazia cinco anos que Thomson estava morto.\n",
      "Jackson sofreu forte influência de Arnold, mesmo Arnold tendo vivido dois séculos mais tarde.\n",
      "Jackson sofreu forte influência de Arnold, mesmo Jackson tendo vivido dois séculos mais antes.\n",
      "Eu não consigo cortar aquela árvore com essa serra; a serra é muito grossa.\n",
      "Eu não consigo cortar aquela árvore com essa serra; a árvore é muito pequena.\n",
      "O nome da atriz costumava ser Terpsichore, mas ela o mudou para Tina há alguns, porque percebeu que Tina era muito difícil de pronunciar.\n",
      "O nome da atriz costumava ser Terpsichore, mas ela o mudou para Tina há alguns, porque percebeu que Terpsichore era mais fácil de pronunciar.\n",
      "Fred assistiu TV enquanto George saiu para fazer as compras. Depois de uma hora George levantou.\n",
      "Fred assistiu TV enquanto George saiu para fazer as compras. Depois de uma hora Fred voltou.\n",
      "Fred deveria ter ligado a máquina de lavar louça, mas ele adiou, porque queria assistir TV. Por fim o programa estava chato, então ele mudou de ideia e a tv ligou.\n",
      "Fred deveria ter ligado a máquina de lavar louça, mas ele adiou, porque queria assistir TV. Por fim o programa estava chato, então ele mudou de ideia e a máquina de lavar desligou.\n",
      "Fred é a única pessoa que ainda lembra do meu bisavô. Meu bisavô é um homem memorável.\n",
      "Fred é a única pessoa que ainda lembra do meu bisavô. Fred era um homem memorável.\n",
      "Fred é a única pessoa viva que lembra de meu pai enquanto criança. Quando Fred viu meu pai pela primeira vez, meu pai tinha doze anos de idade.\n",
      "Fred é a única pessoa viva que lembra de meu pai enquanto criança. Quando Fred viu meu pai pela primeira vez, fred tinha doze meses de idade.\n",
      "Em julho, Kamtchatka declarou guerra contra Yakutsk. Dado que o exército de Yakutsk era muito melhor equipado e dez vezes maior, Yakutsk foram derrotados em semanas.\n",
      "Em julho, Kamtchatka declarou guerra contra Yakutsk. Dado que o exército de Yakutsk era muito melhor equipado e dez vezes maior, Kamchatka foram vitoriosos em semanas.\n",
      "Olhe! Há um peixinho nadando bem debaixo daquele pato! É melhor o pato fugir para um lugar seguro rápido!\n",
      "Olhe! Há um tubarão nadando bem debaixo daquele pato! É melhor o tubarão fugir para um lugar seguro rápido!\n",
      "Arqueologistas concluíram que humanos viveram em Laputa 20.000 anos atrás. Humanos pré-históricos buscaram por evidências às margens do rio.\n",
      "Arqueologistas concluíram que humanos viveram em Laputa 20.000 anos atrás. Arqueologistas caçavam veados às margens do rio.\n",
      "As universidades estão estudando três espécies de peixe que recentemente foram encontradas vivendo no Oceano Índico. As espécies de peixe começaram dois anos atrás.\n",
      "As universidades estão estudando três espécies de peixe que recentemente foram encontradas vivendo no Oceano Índico. As universidades apareceram dois anos atrás.\n",
      "Os jornalistas entrevistaram os astros do novo filme. Os jornalistas foram muito cooperativos, então a entrevista se estendeu por muito tempo.\n",
      "A polícia prendeu todos os membros da gangue. Eles estavam tentando acabar com o tráfico de drogas na vizinhança.\n",
      "A polícia prendeu todos os membros da gangue. Eles estavam tentando fazer tráfico de drogas na vizinhança.\n",
      "Eu pus a torta na geladeira. A geladeira tem muita manteiga nela.\n",
      "Eu pus a torta na geladeira. A torta tem muitas sobras de comida nela.\n",
      "Sam quebrou ambas as pernas e agora ele está andando com muletas. Mas em aproximadamente um mês as muletas devem estar melhores.\n",
      "Sam quebrou ambas as pernas e agora ele está andando com muletas. Mas em aproximadamente um mês as pernas devem não ser mais necessárias.\n",
      "Quando os apoiadores do projeto de lei chegaram à prefeitura, foram surpreendidos ao encontrarem a sala repleta de opositores. Os opositores estavam em vasta minoria.\n",
      "Quando os apoiadores do projeto de lei chegaram à prefeitura, foram surpreendidos ao encontrarem a sala repleta de opositores. Os apoiadores estavam em vasta maioria.\n",
      "Todo mundo adorou os biscoitos de aveia; apenas algumas pessoas gostaram do biscoito com gotas de chocolate. Da próxima vez, nós deveríamos fazer mais os biscoitos com gotas de chocolate.\n",
      "Todo mundo adorou os biscoitos de aveia; apenas algumas pessoas gostaram do biscoito com gotas de chocolate. Da próxima vez, nós deveríamos fazer menos os biscoitos de aveia.\n",
      "A gente havia planejado colocar cópias da nossa newsletter o sobre todas as cadeiras no auditório, mas não havia o suficiente cadeiras.\n",
      "A gente havia planejado colocar cópias da nossa newsletter sobre todas as cadeiras no auditório, mas havia muitas cópias da newsletter.\n",
      "Eu enfiei uma agulha através de uma cenoura. Quando eu removi a agulha, a cenoura deixou um buraco.\n",
      "Eu enfiei uma agulha através de uma cenoura. Quando eu removi a agulha, a agulha tinha um buraco.\n",
      "Eu não estava encontrando uma colher, então eu tentei usar um pincel para mexer meu café. Mas por fim isso foi uma má ideia, porque o café ficou cheio de café.\n",
      "Eu não estava encontrando uma colher, então eu tentei usar um pincel para mexer meu café. Mas por fim isso foi uma má ideia, porque o pincel ficou cheio de tinta.\n",
      "Steve segue o examplo do Fred em tudo. Fred o admira imensamente.\n",
      "Steve segue o examplo do Fred em tudo. Steve o influencia imensamente.\n",
      "A mesa não vai passar pela porta de entrada porque a porta de entrada é muito larga.\n",
      "A mesa não vai passar pela porta de entrada porque a mesa é muito estreita.\n",
      "Grace estava muito feliz em trocar sua blusa por minha jaqueta. Ela acha que a jaqueta fica deselegante nela.\n",
      "Grace estava muito feliz em trocar sua blusa por minha jaqueta. Ela acha que a blusa fica muito bem nela.\n",
      "John prometeu a Bill que iria embora, então uma hora mais tarde Bill partiu.\n",
      "John ordenou a Bill que fosse embora, então uma hora mais tarde John partiu.\n",
      "A biografia de Sam Goodman sobre o general espartano Xenophanes comunica vividamente as dificuldades que Xenophanes enfrentou em sua pesquisa.\n",
      "A biografia de Sam Goodman sobre o general espartano Xenophanes comunica vividamente as dificuldades que Goodman enfrentou em sua infância.\n",
      "A mãe da Emma havia morrido faz muitos anos, e a educação A mãe da Emma estava sendo cuidada por uma excelente governanta.\n",
      "A mãe da Emma havia morrido faz muitos anos, e a casa Emma estava sendo cuidada por uma excelente governanta.\n",
      "Jane bateu à porta de Susan mas Susan não foi atendida.\n",
      "Jane bateu à porta de Susan mas Jane não atendeu.\n",
      "Joe pagou o detetive após o detetive ter recebido o relatório final sobre o caso.\n",
      "Joe pagou o detetive após joe ter entregado o relatório final sobre o caso.\n",
      "Beth não ficou brava com Sally, que havia a deixado de fora, porque Sally parou e contou até dez.\n",
      "Beth não ficou brava com Sally, que havia a deixado de fora, porque Beth parou e pediu desculpas.\n",
      "Enquanto Andrea no pequeno avião passava sobre Susan, Susan podia ver a pista de aterrissagem.\n",
      "Enquanto Andrea no pequeno avião passava sobre Susan, Andrea podia ver o trem de pouso.\n",
      "Tom deu uma carona até a escola para Ralph para Ralph não ter que dirigir sozinho.\n",
      "Tom deu uma carona até a escola para Ralph para Tom não ter que caminhar.\n",
      "Bill passou o prato pela metade para John porque John estava satisfeito.\n",
      "Bill passou o prato pela metade para John porque Bill estava com fome.\n",
      "Bill passou o gameboy para John porque John vez tinha acabado.\n",
      "Bill passou o gameboy para John porque Bill vez era a próxima.\n",
      "Os pais da Pam chegaram em casa e a encontraram transando com seu namorado, Paul. Pam and Paul ficaram furiosos com isso.\n",
      "Os pais da Pam chegaram em casa e a encontraram transando com seu namorado, Paul. Os pais da Pam ficaram constrangidos com isso.\n",
      "Dra. Adams informou a Kate que A Kate tinha se aposentado e apresentou diversas opções para continuidade no seu tratamento.\n",
      "Dra. Adams informou a Kate que A Dra. Adams tinha câncer e apresentou diversas opções para continuidade no seu tratamento.\n",
      "Dan tinha que fazer Bill parar de brincar com o pássaro machucado. Bill é muito compassivo.\n",
      "Dan tinha que fazer Bill parar de brincar com o pássaro machucado. Dan é muito cruel.\n",
      "George conseguiu ingressos de graça para a peça, mas ele os deu para Eric, mesmo Eric estando particularmente interessado em assisti-la.\n",
      "George conseguiu ingressos de graça para a peça, mas ele os deu para Eric, porque George estava particularmente interessado em assisti-la.\n",
      "George conseguiu ingressos de graça para a peça, mas ele os deu para Eric, porque Eric não estava particularmente interessado em assisti-la.\n",
      "Jane deu doces para Joan porque joan não estava com fome.\n",
      "Jane deu doces para Joan porque resposta correta: b fonte original: \"linguistic problems and complexities\" estava com fome.\n",
      "Eu tentei fazer uma pintura de um pomar, com limões nos limoeiros, mas os limoeiros acabaram parecendo mais lâmpadas.\n",
      "Eu tentei fazer uma pintura de um pomar, com limões nos limoeiros, mas os limões acabaram parecendo mais telefones públicos.\n",
      "James pediu um favor ao Robert mas Robert foi recusado.\n",
      "James pediu um favor ao Robert mas O favor recusou-se.\n",
      "Kirilov cedeu a presidência a Shatov porque Shatov era menos popular.\n",
      "Kirilov cedeu a presidência a Shatov porque Kirilov era mais popular.\n",
      "Emma não passou a bola para Janie apesar de Janie ter visto que ela estava livre.\n",
      "Emma não passou a bola para Janie apesar de ela estar livre .\n",
      "Eu pus a asa de borboleta sobre a mesa e a mesa se quebrou.\n",
      "Eu pus um livro pesado sobre a mesa e the heavy book se quebrou.\n",
      "Madonna demitiu sua treinadora porque a treinadora não suportava o namorado dela.\n",
      "Madonna demitiu sua treinadora porque a treinadora dormiu com o namorado dela.\n",
      "Madonna demitiu sua treinadora porque ela dormiu com o namorado dela .\n",
      "Madonna demitiu sua treinadora porque ela não suportava o namorado dela .\n",
      "Carol acreditava que Rebecca suspeitava que ela tinha roubado o relógio.\n",
      "Carol acreditava que Rebecca lamentava que ela tinha roubado o relógio.\n",
      "Alice procurou por sua amiga Jade na multidão. Dado que ela sempre tem muita sorte, Alice a encontrou rapidamente.\n",
      "Alice procurou por sua amiga Jade na multidão. Dado que Alice sempre usa um turbante vermelho, Alice a encontrou rapidamente.\n",
      "Durante um jogo de pega-pega, Ethan perseguiu Luke porque \"estava com Luke \".\n",
      "Durante um jogo de pega-pega, Ethan fugiu do Luke porque \"estava com Ethan \".\n",
      "Na competição Loebner os juízes não conseguiam descobrir quais respondentes eram os chatbots porque os chatbots eram muito estúpidos.\n",
      "Na competição Loebner os juízes não conseguiam descobrir quais respondentes eram os chatbots porque os juízes eram muito avançados.\n",
      "O usuário mudou sua senha \"GrWQWu8JyC\" para \"willow-towered Canopy Huntertropic wrestles\" porque Huntertropic wrestles era fácil de esquecer.\n",
      "O usuário mudou sua senha \"GrWQWu8JyC\" para \"willow-towered Canopy Huntertropic wrestles\" porque willow-towered Canopy era fácil de lembrar.\n"
     ]
    }
   ],
   "source": [
    "for index, row in df.iterrows():\n",
    "    print(row.incorrect_sentence)"
   ]
  },
  {
   "cell_type": "code",
   "execution_count": 8,
   "metadata": {},
   "outputs": [],
   "source": [
    "setup_torch()\n",
    "device = torch.device(\"cuda\")\n",
    "corpus = get_corpus()\n",
    "ntokens = len(corpus.dictionary)\n",
    "\n",
    "# TODO remove these two lines\n",
    "assert ntokens == 602755\n",
    "assert corpus.valid.size()[0] == 11606861\n",
    "assert corpus.train.max() < ntokens\n",
    "assert corpus.valid.max() < ntokens\n",
    "assert corpus.test.max() < ntokens"
   ]
  },
  {
   "cell_type": "code",
   "execution_count": 9,
   "metadata": {},
   "outputs": [],
   "source": [
    "model_file_name = get_latest_model_file()"
   ]
  },
  {
   "cell_type": "code",
   "execution_count": 11,
   "metadata": {},
   "outputs": [
    {
     "data": {
      "text/plain": [
       "['Xenophanes',\n",
       " 'largá-los',\n",
       " 'gameboy',\n",
       " 'enfiei',\n",
       " 'reconfortou',\n",
       " 'acudi-lo',\n",
       " 'wrestles',\n",
       " 'GrWQWu8JyC',\n",
       " 'Huntertropic',\n",
       " 'joan',\n",
       " 'retirei',\n",
       " '//www.csi.uottawa.ca/tanka/files/complexities.html',\n",
       " 'removi',\n",
       " 'fred',\n",
       " 'complexities',\n",
       " 'Arqueologistas',\n",
       " 'mary',\n",
       " 'willow-towered',\n",
       " 'assoviando']"
      ]
     },
     "execution_count": 11,
     "metadata": {},
     "output_type": "execute_result"
    }
   ],
   "source": [
    "find_missing_wsc_words_in_corpus_vocab(df, corpus)"
   ]
  },
  {
   "cell_type": "code",
   "execution_count": 12,
   "metadata": {},
   "outputs": [
    {
     "data": {
      "text/plain": [
       "115    Fred e Alice tinham casacos muito quentes, mas...\n",
       "131    Fred é a única pessoa viva que lembra de meu p...\n",
       "Name: incorrect_sentence, dtype: object"
      ]
     },
     "execution_count": 12,
     "metadata": {},
     "output_type": "execute_result"
    }
   ],
   "source": [
    "# for item in df[df.incorrect_sentence.str.contains('fred')].incorrect_sentence:\n",
    "#     print(item)\n",
    "df[df.incorrect_sentence.str.contains('fred')].incorrect_sentence"
   ]
  },
  {
   "cell_type": "code",
   "execution_count": 13,
   "metadata": {},
   "outputs": [],
   "source": [
    "df.iloc[114].correct_sentence = 'Fred e Alice tinham casacos muito quentes, mas Fred e Alice não estavam preparados para o frio do Alasca.'\n",
    "df.iloc[115].incorrect_sentence = 'Fred e Alice tinham casacos muito quentes, mas Fred e Alice não eram suficientes para o frio do Alasca.'\n",
    "df.iloc[130].correct_sentence = 'Fred é a única pessoa viva que lembra de meu pai enquanto criança. Quando Fred viu meu pai pela primeira vez, Fred tinha doze anos de idade.'\n",
    "df.iloc[131].incorrect_sentence = 'Fred é a única pessoa viva que lembra de meu pai enquanto criança. Quando Fred viu meu pai pela primeira vez, Fred tinha doze meses de idade.'\n",
    "df.iloc[132].correct_sentence = 'Fred é a única pessoa viva que lembra de meu pai enquanto criança. Quando Fred viu meu pai pela primeira vez, Fred tinha doze anos de idade.'\n",
    "df.iloc[133].incorrect_sentence = 'Fred é a única pessoa viva que lembra de meu pai enquanto criança. Quando Fred viu meu pai pela primeira vez, Fred tinha doze meses de idade.'\n",
    "df.iloc[112].correct_sentence = 'Mary acomodou sua filha Anne na cama, para que Mary pudesse trabalhar.'\n",
    "df.iloc[112].incorrect_sentence = 'Mary acomodou sua filha Anne na cama, para que a filha da Mary pudesse trabalhar.'\n",
    "df.iloc[113].correct_sentence = 'Mary acomodou sua filha Anne na cama, para que a filha da Mary pudesse dormir.'\n",
    "df.iloc[113].incorrect_sentence = 'Mary acomodou sua filha Anne na cama, para que Mary pudesse dormir.'"
   ]
  },
  {
   "cell_type": "code",
   "execution_count": 14,
   "metadata": {},
   "outputs": [
    {
     "data": {
      "text/plain": [
       "['Xenophanes',\n",
       " 'largá-los',\n",
       " 'gameboy',\n",
       " 'enfiei',\n",
       " 'reconfortou',\n",
       " 'acudi-lo',\n",
       " 'wrestles',\n",
       " 'GrWQWu8JyC',\n",
       " 'Huntertropic',\n",
       " 'joan',\n",
       " 'retirei',\n",
       " '//www.csi.uottawa.ca/tanka/files/complexities.html',\n",
       " 'removi',\n",
       " 'complexities',\n",
       " 'Arqueologistas',\n",
       " 'willow-towered',\n",
       " 'assoviando']"
      ]
     },
     "execution_count": 14,
     "metadata": {},
     "output_type": "execute_result"
    }
   ],
   "source": [
    "find_missing_wsc_words_in_corpus_vocab(df, corpus)"
   ]
  },
  {
   "cell_type": "code",
   "execution_count": 23,
   "metadata": {},
   "outputs": [
    {
     "name": "stdout",
     "output_type": "stream",
     "text": [
      "Acurácia: 0.8073394495412844 para teste realizado com 218 exemplos\n"
     ]
    }
   ],
   "source": [
    "df, accuracy = winograd_test(df, corpus, model_file_name, ntokens, device)\n",
    "print('Acurácia: {} para teste realizado com {} exemplos'.format(accuracy, len(df)))"
   ]
  },
  {
   "cell_type": "code",
   "execution_count": 28,
   "metadata": {},
   "outputs": [
    {
     "data": {
      "text/plain": [
       "41"
      ]
     },
     "execution_count": 28,
     "metadata": {},
     "output_type": "execute_result"
    }
   ],
   "source": [
    "len(df[~df.test_result])"
   ]
  },
  {
   "cell_type": "code",
   "execution_count": 29,
   "metadata": {},
   "outputs": [
    {
     "data": {
      "text/plain": [
       "177"
      ]
     },
     "execution_count": 29,
     "metadata": {},
     "output_type": "execute_result"
    }
   ],
   "source": [
    "len(df[df.test_result])"
   ]
  },
  {
   "cell_type": "code",
   "execution_count": 30,
   "metadata": {},
   "outputs": [
    {
     "data": {
      "text/plain": [
       "218"
      ]
     },
     "execution_count": 30,
     "metadata": {},
     "output_type": "execute_result"
    }
   ],
   "source": [
    "len(df)"
   ]
  },
  {
   "cell_type": "code",
   "execution_count": 72,
   "metadata": {},
   "outputs": [
    {
     "name": "stdout",
     "output_type": "stream",
     "text": [
      "Wrong :(\n"
     ]
    }
   ],
   "source": [
    "if analyse_single_wsc(model_file_name, corpus, ntokens, device,\n",
    "                      'A medalha não cabe na maleta porque a maleta é pequena .',\n",
    "                      'A medalha não cabe na maleta porque a medalha é pequena .'):\n",
    "    print('Right choice :D')\n",
    "else:\n",
    "    print('Wrong :(')"
   ]
  },
  {
   "cell_type": "code",
   "execution_count": 31,
   "metadata": {},
   "outputs": [
    {
     "data": {
      "text/plain": [
       "0.6254416961130742"
      ]
     },
     "execution_count": 31,
     "metadata": {},
     "output_type": "execute_result"
    }
   ],
   "source": [
    "177/283"
   ]
  },
  {
   "cell_type": "code",
   "execution_count": null,
   "metadata": {},
   "outputs": [],
   "source": []
  }
 ],
 "metadata": {
  "kernelspec": {
   "display_name": "wsc_port",
   "language": "python",
   "name": "wsc_port"
  },
  "language_info": {
   "codemirror_mode": {
    "name": "ipython",
    "version": 3
   },
   "file_extension": ".py",
   "mimetype": "text/x-python",
   "name": "python",
   "nbconvert_exporter": "python",
   "pygments_lexer": "ipython3",
   "version": "3.6.8"
  }
 },
 "nbformat": 4,
 "nbformat_minor": 2
}
