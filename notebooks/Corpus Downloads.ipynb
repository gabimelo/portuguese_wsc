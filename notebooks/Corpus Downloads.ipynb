{
 "cells": [
  {
   "cell_type": "code",
   "execution_count": 1,
   "metadata": {},
   "outputs": [
    {
     "name": "stdout",
     "output_type": "stream",
     "text": [
      "--2019-05-01 16:21:30--  http://conteudo.icmc.usp.br/pessoas/taspardo/CorpusTCC.zip\n",
      "Resolving conteudo.icmc.usp.br (conteudo.icmc.usp.br)... 143.107.231.21\n",
      "Connecting to conteudo.icmc.usp.br (conteudo.icmc.usp.br)|143.107.231.21|:80... connected.\n",
      "HTTP request sent, awaiting response... 200 OK\n",
      "Length: 21029946 (20M) [application/zip]\n",
      "Saving to: ‘CorpusTCC.zip’\n",
      "\n",
      "CorpusTCC.zip       100%[===================>]  20.06M   570KB/s    in 33s     \n",
      "\n",
      "2019-05-01 16:22:03 (621 KB/s) - ‘CorpusTCC.zip’ saved [21029946/21029946]\n",
      "\n"
     ]
    }
   ],
   "source": [
    "! wget http://conteudo.icmc.usp.br/pessoas/taspardo/CorpusTCC.zip"
   ]
  },
  {
   "cell_type": "code",
   "execution_count": 3,
   "metadata": {},
   "outputs": [
    {
     "name": "stdout",
     "output_type": "stream",
     "text": [
      "--2019-05-01 16:31:31--  http://www.nilc.icmc.usp.br/dispara/CorTrad/\n",
      "Resolving www.nilc.icmc.usp.br (www.nilc.icmc.usp.br)... 143.107.232.31\n",
      "Connecting to www.nilc.icmc.usp.br (www.nilc.icmc.usp.br)|143.107.232.31|:80... connected.\n",
      "HTTP request sent, awaiting response... 404 Not Found\n",
      "2019-05-01 16:31:31 ERROR 404: Not Found.\n",
      "\n"
     ]
    }
   ],
   "source": [
    "! wget http://www.nilc.icmc.usp.br/dispara/CorTrad/"
   ]
  },
  {
   "cell_type": "code",
   "execution_count": 4,
   "metadata": {},
   "outputs": [
    {
     "name": "stdout",
     "output_type": "stream",
     "text": [
      "--2019-05-01 16:32:11--  http://www.nilc.icmc.usp.br/CSTNews\n",
      "Resolving www.nilc.icmc.usp.br (www.nilc.icmc.usp.br)... 143.107.232.31\n",
      "Connecting to www.nilc.icmc.usp.br (www.nilc.icmc.usp.br)|143.107.232.31|:80... connected.\n",
      "HTTP request sent, awaiting response... 302 FOUND\n",
      "Location: http://www.nilc.icmc.usp.br/CSTNews/login?next=/CSTNews/ [following]\n",
      "--2019-05-01 16:32:12--  http://www.nilc.icmc.usp.br/CSTNews/login?next=/CSTNews/\n",
      "Reusing existing connection to www.nilc.icmc.usp.br:80.\n",
      "HTTP request sent, awaiting response... 301 MOVED PERMANENTLY\n",
      "Location: http://www.nilc.icmc.usp.br/CSTNews/login/?next=/CSTNews/ [following]\n",
      "--2019-05-01 16:32:12--  http://www.nilc.icmc.usp.br/CSTNews/login/?next=/CSTNews/\n",
      "Reusing existing connection to www.nilc.icmc.usp.br:80.\n",
      "HTTP request sent, awaiting response... 200 OK\n",
      "Length: unspecified [text/html]\n",
      "Saving to: ‘CSTNews’\n",
      "\n",
      "CSTNews                 [ <=>                ]   2.29K  --.-KB/s    in 0s      \n",
      "\n",
      "2019-05-01 16:32:12 (346 MB/s) - ‘CSTNews’ saved [2347]\n",
      "\n"
     ]
    }
   ],
   "source": [
    "! wget http://www.nilc.icmc.usp.br/CSTNews"
   ]
  },
  {
   "cell_type": "code",
   "execution_count": 5,
   "metadata": {},
   "outputs": [
    {
     "name": "stdout",
     "output_type": "stream",
     "text": [
      "--2019-05-01 16:32:40--  http://www.nilc.icmc.usp.br/nilc/projects/hpc/\n",
      "Resolving www.nilc.icmc.usp.br (www.nilc.icmc.usp.br)... 143.107.232.31\n",
      "Connecting to www.nilc.icmc.usp.br (www.nilc.icmc.usp.br)|143.107.232.31|:80... connected.\n",
      "HTTP request sent, awaiting response... 200 OK\n",
      "Length: 13431 (13K) [text/html]\n",
      "Saving to: ‘index.html’\n",
      "\n",
      "index.html          100%[===================>]  13.12K  --.-KB/s    in 0.01s   \n",
      "\n",
      "2019-05-01 16:32:40 (1013 KB/s) - ‘index.html’ saved [13431/13431]\n",
      "\n"
     ]
    }
   ],
   "source": [
    "! wget http://www.nilc.icmc.usp.br/nilc/projects/hpc/"
   ]
  },
  {
   "cell_type": "code",
   "execution_count": 6,
   "metadata": {},
   "outputs": [
    {
     "name": "stdout",
     "output_type": "stream",
     "text": [
      "--2019-05-01 16:32:53--  http://conteudo.icmc.usp.br/pessoas/taspardo/sucinto/files/OpiSums-PT.zip\n",
      "Resolving conteudo.icmc.usp.br (conteudo.icmc.usp.br)... 143.107.231.21\n",
      "Connecting to conteudo.icmc.usp.br (conteudo.icmc.usp.br)|143.107.231.21|:80... connected.\n",
      "HTTP request sent, awaiting response... 200 OK\n",
      "Length: 821002 (802K) [application/zip]\n",
      "Saving to: ‘OpiSums-PT.zip’\n",
      "\n",
      "OpiSums-PT.zip      100%[===================>] 801.76K   655KB/s    in 1.2s    \n",
      "\n",
      "2019-05-01 16:32:54 (655 KB/s) - ‘OpiSums-PT.zip’ saved [821002/821002]\n",
      "\n"
     ]
    }
   ],
   "source": [
    "! wget http://conteudo.icmc.usp.br/pessoas/taspardo/sucinto/files/OpiSums-PT.zip"
   ]
  },
  {
   "cell_type": "code",
   "execution_count": 7,
   "metadata": {},
   "outputs": [],
   "source": [
    "! wget http://www.nilc.icmc.usp.br/nilc/index.php/tools-and-resources?layout=edit&id=27"
   ]
  },
  {
   "cell_type": "code",
   "execution_count": 8,
   "metadata": {},
   "outputs": [
    {
     "name": "stdout",
     "output_type": "stream",
     "text": [
      "--2019-05-01 16:33:07--  http://conteudo.icmc.usp.br/pessoas/taspardo/rhetalho.zip\n",
      "Resolving conteudo.icmc.usp.br (conteudo.icmc.usp.br)... 143.107.231.21\n",
      "Connecting to conteudo.icmc.usp.br (conteudo.icmc.usp.br)|143.107.231.21|:80... connected.\n",
      "HTTP request sent, awaiting response... 200 OK\n",
      "Length: 449068 (439K) [application/zip]\n",
      "Saving to: ‘rhetalho.zip’\n",
      "\n",
      "rhetalho.zip        100%[===================>] 438.54K   700KB/s    in 0.6s    \n",
      "\n",
      "2019-05-01 16:33:07 (700 KB/s) - ‘rhetalho.zip’ saved [449068/449068]\n",
      "\n"
     ]
    }
   ],
   "source": [
    "! wget http://conteudo.icmc.usp.br/pessoas/taspardo/rhetalho.zip"
   ]
  },
  {
   "cell_type": "code",
   "execution_count": 9,
   "metadata": {},
   "outputs": [
    {
     "name": "stdout",
     "output_type": "stream",
     "text": [
      "--2019-05-01 16:33:16--  http://www.nilc.icmc.usp.br/nilc/images/download/corpusNilc.zip\n",
      "Resolving www.nilc.icmc.usp.br (www.nilc.icmc.usp.br)... 143.107.232.31\n",
      "Connecting to www.nilc.icmc.usp.br (www.nilc.icmc.usp.br)|143.107.232.31|:80... connected.\n",
      "HTTP request sent, awaiting response... 200 OK\n",
      "Length: 174337 (170K) [application/zip]\n",
      "Saving to: ‘corpusNilc.zip’\n",
      "\n",
      "corpusNilc.zip      100%[===================>] 170.25K  --.-KB/s    in 0.07s   \n",
      "\n",
      "2019-05-01 16:33:16 (2.31 MB/s) - ‘corpusNilc.zip’ saved [174337/174337]\n",
      "\n"
     ]
    }
   ],
   "source": [
    "! wget http://www.nilc.icmc.usp.br/nilc/images/download/corpusNilc.zip"
   ]
  },
  {
   "cell_type": "code",
   "execution_count": null,
   "metadata": {},
   "outputs": [],
   "source": [
    "! wget http://bitbucket.org/HBrum/tweetsentbr"
   ]
  },
  {
   "cell_type": "code",
   "execution_count": 10,
   "metadata": {},
   "outputs": [
    {
     "name": "stdout",
     "output_type": "stream",
     "text": [
      "--2019-05-01 17:22:32--  https://dumps.wikimedia.org/ptwiki/latest/ptwiki-latest-pages-articles.xml.bz2\n",
      "Resolving dumps.wikimedia.org (dumps.wikimedia.org)... 208.80.155.106, 2620:0:861:4:208:80:155:106\n",
      "Connecting to dumps.wikimedia.org (dumps.wikimedia.org)|208.80.155.106|:443... connected.\n",
      "HTTP request sent, awaiting response... 200 OK\n",
      "Length: 1600422939 (1.5G) [application/octet-stream]\n",
      "Saving to: ‘ptwiki-latest-pages-articles.xml.bz2’\n",
      "\n",
      "ptwiki-latest-pages 100%[===================>]   1.49G  1.80MB/s    in 13m 24s \n",
      "\n",
      "2019-05-01 17:35:57 (1.90 MB/s) - ‘ptwiki-latest-pages-articles.xml.bz2’ saved [1600422939/1600422939]\n",
      "\n"
     ]
    }
   ],
   "source": [
    "! wget https://dumps.wikimedia.org/ptwiki/latest/ptwiki-latest-pages-articles.xml.bz2"
   ]
  },
  {
   "cell_type": "code",
   "execution_count": 2,
   "metadata": {},
   "outputs": [
    {
     "name": "stdout",
     "output_type": "stream",
     "text": [
      " \n",
      " = Robert <unk> = \n",
      " \n",
      " Robert <unk> is an English film , television and theatre actor . He had a guest @-@ starring role on the television series The Bill in 2000 . This was followed by a starring role in the play Herons written by Simon Stephens , which was performed in 2001 at the Royal Court Theatre . He had a guest role in the television series Judge John <unk> in 2002 . In 2004 <unk> landed a role as \" Craig \" in the episode \" Teddy 's Story \" of the television series The Long Firm ; he starred alongside actors Mark Strong and Derek Jacobi . He was cast in the 2005 theatre productions of the Philip Ridley play Mercury Fur , which was performed at the Drum Theatre in Plymouth and the <unk> <unk> Factory in London . He was directed by John <unk> and starred alongside Ben <unk> , Shane <unk> , Harry Kent , Fraser <unk> , Sophie Stanton and Dominic Hall . \n",
      " In 2006 , <unk> starred alongside <unk> in the play <unk> written by Mark <unk> . He appeared on a 2006 episode of the television series , Doctors , followed by a role in the 2007 theatre production of How to Curse directed by <unk> <unk> . How to Curse was performed at Bush Theatre in the London Borough of <unk> and Fulham . <unk> starred in two films in 2008 , <unk> <unk> by filmmaker Paris <unk> , and <unk> Punch directed by <unk> Blackburn . In May 2008 , <unk> made a guest appearance on a two @-@ part episode arc of the television series Waking the Dead , followed by an appearance on the television series <unk> in November 2008 . He had a recurring role in ten episodes of the television series <unk> in 2010 , as \" <unk> Fletcher \" . <unk> starred in the 2011 film <unk> directed by Paris <unk> . \n",
      " \n",
      " = = Career = = \n",
      " \n",
      " \n",
      " = = = 2000 – 2005 = = = \n"
     ]
    }
   ],
   "source": [
    "! head data/wikitext-2/test.txt"
   ]
  },
  {
   "cell_type": "code",
   "execution_count": 2,
   "metadata": {},
   "outputs": [],
   "source": [
    "# ! head data/wiki_pt.txt"
   ]
  },
  {
   "cell_type": "code",
   "execution_count": 16,
   "metadata": {},
   "outputs": [
    {
     "name": "stdout",
     "output_type": "stream",
     "text": [
      "total 13M\n",
      "-rwxrwxrwx 1 gabrielamelo gabrielamelo  1M Apr 24 16:28 README\n",
      "-rwxrwxrwx 1 gabrielamelo gabrielamelo  2M Apr 24 16:28 test.txt\n",
      "-rwxrwxrwx 1 gabrielamelo gabrielamelo 11M Apr 24 16:28 train.txt\n",
      "-rwxrwxrwx 1 gabrielamelo gabrielamelo  2M Apr 24 16:28 valid.txt\n"
     ]
    }
   ],
   "source": [
    "! ls -l --block-size=M data/wikitext-2/"
   ]
  },
  {
   "cell_type": "code",
   "execution_count": 18,
   "metadata": {},
   "outputs": [
    {
     "name": "stdout",
     "output_type": "stream",
     "text": [
      "total 3414M\n",
      "drwxrwxrwx 1 gabrielamelo gabrielamelo    1M May  1 17:24 archive_pytorch_generations\n",
      "-rwxrwxrwx 1 gabrielamelo gabrielamelo    1M May  1 17:51 Corpus Downloads.ipynb\n",
      "drwxrwxrwx 1 gabrielamelo gabrielamelo    1M May  1 16:40 data\n",
      "-rwxrwxrwx 1 gabrielamelo gabrielamelo    1M Apr 24 16:28 data.py\n",
      "-rwxrwxrwx 1 gabrielamelo gabrielamelo    1M Apr 24 19:49 First tests.ipynb\n",
      "-rwxrwxrwx 1 gabrielamelo gabrielamelo    1M Apr 24 17:25 generate.py\n",
      "-rwxrwxrwx 1 gabrielamelo gabrielamelo    1M Apr 24 16:28 main.py\n",
      "-rwxrwxrwx 1 gabrielamelo gabrielamelo    1M Apr 24 17:44 model.py\n",
      "-rwxrwxrwx 1 gabrielamelo gabrielamelo 1527M Apr 23 14:05 ptwiki-latest-pages-articles.xml.bz2\n",
      "drwxrwxrwx 1 gabrielamelo gabrielamelo    0M Apr 24 16:33 __pycache__\n",
      "-rwxrwxrwx 1 gabrielamelo gabrielamelo    1M Apr 24 16:28 README.md\n",
      "-rwxrwxrwx 1 gabrielamelo gabrielamelo    1M May  1 17:56 Wikipedia Dump Extractor.ipynb\n",
      "-rwxrwxrwx 1 gabrielamelo gabrielamelo 1888M May  1 17:56 wiki_pt.txt\n"
     ]
    }
   ],
   "source": [
    "! ls -l --block-size=M"
   ]
  },
  {
   "cell_type": "code",
   "execution_count": null,
   "metadata": {},
   "outputs": [],
   "source": []
  }
 ],
 "metadata": {
  "kernelspec": {
   "display_name": "$1",
   "language": "python",
   "name": "wsc_port"
  },
  "language_info": {
   "codemirror_mode": {
    "name": "ipython",
    "version": 3
   },
   "file_extension": ".py",
   "mimetype": "text/x-python",
   "name": "python",
   "nbconvert_exporter": "python",
   "pygments_lexer": "ipython3",
   "version": "3.6.8"
  }
 },
 "nbformat": 4,
 "nbformat_minor": 2
}
