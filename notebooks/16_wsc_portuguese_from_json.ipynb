{
 "cells": [
  {
   "cell_type": "code",
   "execution_count": 1,
   "metadata": {},
   "outputs": [],
   "source": [
    "import os\n",
    "os.chdir('..')\n",
    "\n",
    "%load_ext autoreload\n",
    "%autoreload 2"
   ]
  },
  {
   "cell_type": "code",
   "execution_count": 2,
   "metadata": {},
   "outputs": [],
   "source": [
    "import torch\n",
    "\n",
    "from src.main import setup_torch, get_corpus\n",
    "from src.utils import get_latest_model_file\n",
    "from src.winograd_schema_challenge import analyse_single_wsc, generate_full_sentences, find_missing_wsc_words_in_corpus_vocab, winograd_test\n",
    "from src.wsc_parser import generate_df_from_json"
   ]
  },
  {
   "cell_type": "code",
   "execution_count": 3,
   "metadata": {},
   "outputs": [],
   "source": [
    "df = generate_df_from_json()"
   ]
  },
  {
   "cell_type": "code",
   "execution_count": 4,
   "metadata": {},
   "outputs": [],
   "source": [
    "setup_torch()\n",
    "device = torch.device(\"cuda\")\n",
    "corpus = get_corpus()\n",
    "ntokens = len(corpus.dictionary)\n",
    "\n",
    "# TODO remove these two lines\n",
    "# assert ntokens == 602755\n",
    "# assert corpus.valid.size()[0] == 11606861\n",
    "assert corpus.train.max() < ntokens\n",
    "assert corpus.valid.max() < ntokens\n",
    "assert corpus.test.max() < ntokens"
   ]
  },
  {
   "cell_type": "code",
   "execution_count": 5,
   "metadata": {},
   "outputs": [],
   "source": [
    "model_file_name = get_latest_model_file()"
   ]
  },
  {
   "cell_type": "code",
   "execution_count": 6,
   "metadata": {},
   "outputs": [
    {
     "data": {
      "text/plain": [
       "['Kirilov',\n",
       " 'tucked',\n",
       " 'drawer',\n",
       " 'behaving',\n",
       " 'yelled',\n",
       " 'tasty',\n",
       " 'Shatov',\n",
       " 'leftovers',\n",
       " 'jogging',\n",
       " 'admires',\n",
       " 'Janie',\n",
       " 'Spartan',\n",
       " 'backpack',\n",
       " 'juggling',\n",
       " 'Dibs',\n",
       " 'Kamchatka',\n",
       " 'envies',\n",
       " 'ankles',\n",
       " 'snobs',\n",
       " 'handy',\n",
       " '20,000',\n",
       " 'zoomed',\n",
       " 'fluently',\n",
       " 'gameboy',\n",
       " 'cookies',\n",
       " 'dangled',\n",
       " 'Yakutsk',\n",
       " 'toying',\n",
       " 'pronounce',\n",
       " 'toaster',\n",
       " 'suitcase',\n",
       " 'lemons',\n",
       " 'ached',\n",
       " 'schoolbag',\n",
       " 'groceries',\n",
       " 'Ollie',\n",
       " 'Terpsichore',\n",
       " 'gripped',\n",
       " 'luckily',\n",
       " 'Kamtchatka',\n",
       " 'chatting',\n",
       " 'minnow',\n",
       " 'Sally',\n",
       " 'Patting',\n",
       " 'bunk',\n",
       " 'rag',\n",
       " 'great-grandfather',\n",
       " 'fooling',\n",
       " 'juggler',\n",
       " 'dowdy',\n",
       " 'smiled',\n",
       " 'Xenophanes',\n",
       " 'gestured',\n",
       " 'Stretching',\n",
       " '4:00',\n",
       " 'sack',\n",
       " 'sidewalk',\n",
       " 'clogged',\n",
       " 'nosy',\n",
       " 'giggled',\n",
       " 'raining',\n",
       " 'barking',\n",
       " 'passionately',\n",
       " 'orchard',\n",
       " 'golfers',\n",
       " 'dishwasher',\n",
       " 'strangely',\n",
       " 'barman',\n",
       " 'refrigerator',\n",
       " 'truthful',\n",
       " 'sweater',\n",
       " 'Luckily',\n",
       " 'half-empty',\n",
       " 'duster',\n",
       " 'watermelons',\n",
       " 'firemen',\n",
       " 'yelling',\n",
       " 'compassionate',\n",
       " 'ungrateful',\n",
       " 'styrofoam',\n",
       " 'councilmen',\n",
       " 'newsletter',\n",
       " 'Donna',\n",
       " '4:30',\n",
       " 'tellers',\n",
       " 'humming',\n",
       " 'keyhole',\n",
       " 'indiscreet',\n",
       " 'Laputa',\n",
       " 'bassinet',\n",
       " 'oatmeal',\n",
       " 'carrot']"
      ]
     },
     "execution_count": 6,
     "metadata": {},
     "output_type": "execute_result"
    }
   ],
   "source": [
    "find_missing_wsc_words_in_corpus_vocab(df, corpus, english=False)"
   ]
  },
  {
   "cell_type": "code",
   "execution_count": 8,
   "metadata": {},
   "outputs": [
    {
     "name": "stdout",
     "output_type": "stream",
     "text": [
      "Acurácia: 0.7252747252747253 para teste realizado com 273 exemplos\n"
     ]
    }
   ],
   "source": [
    "df, accuracy = winograd_test(df, corpus, model_file_name, ntokens, device, english=False)\n",
    "print('Acurácia: {} para teste realizado com {} exemplos'.format(accuracy, len(df)))"
   ]
  },
  {
   "cell_type": "code",
   "execution_count": 9,
   "metadata": {},
   "outputs": [
    {
     "data": {
      "text/plain": [
       "75"
      ]
     },
     "execution_count": 9,
     "metadata": {},
     "output_type": "execute_result"
    }
   ],
   "source": [
    "len(df[~df.test_result])"
   ]
  },
  {
   "cell_type": "code",
   "execution_count": 10,
   "metadata": {},
   "outputs": [
    {
     "data": {
      "text/plain": [
       "198"
      ]
     },
     "execution_count": 10,
     "metadata": {},
     "output_type": "execute_result"
    }
   ],
   "source": [
    "len(df[df.test_result])"
   ]
  },
  {
   "cell_type": "code",
   "execution_count": 11,
   "metadata": {},
   "outputs": [
    {
     "data": {
      "text/plain": [
       "273"
      ]
     },
     "execution_count": 11,
     "metadata": {},
     "output_type": "execute_result"
    }
   ],
   "source": [
    "len(df)"
   ]
  },
  {
   "cell_type": "code",
   "execution_count": 12,
   "metadata": {},
   "outputs": [
    {
     "name": "stdout",
     "output_type": "stream",
     "text": [
      "Acurácia: 0.4908424908424908 para teste realizado com 273 exemplos\n"
     ]
    }
   ],
   "source": [
    "df, accuracy = winograd_test(df, corpus, model_file_name, ntokens, device, partial=True, english=False)\n",
    "print('Acurácia: {} para teste realizado com {} exemplos'.format(accuracy, len(df)))"
   ]
  },
  {
   "cell_type": "code",
   "execution_count": null,
   "metadata": {},
   "outputs": [],
   "source": []
  }
 ],
 "metadata": {
  "kernelspec": {
   "display_name": "wsc_port",
   "language": "python",
   "name": "wsc_port"
  },
  "language_info": {
   "codemirror_mode": {
    "name": "ipython",
    "version": 3
   },
   "file_extension": ".py",
   "mimetype": "text/x-python",
   "name": "python",
   "nbconvert_exporter": "python",
   "pygments_lexer": "ipython3",
   "version": "3.6.8"
  }
 },
 "nbformat": 4,
 "nbformat_minor": 2
}
