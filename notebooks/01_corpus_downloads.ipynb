{
 "cells": [
  {
   "cell_type": "code",
   "execution_count": 1,
   "metadata": {},
   "outputs": [
    {
     "name": "stdout",
     "output_type": "stream",
     "text": [
      "--2019-05-01 16:21:30--  http://conteudo.icmc.usp.br/pessoas/taspardo/CorpusTCC.zip\n",
      "Resolving conteudo.icmc.usp.br (conteudo.icmc.usp.br)... 143.107.231.21\n",
      "Connecting to conteudo.icmc.usp.br (conteudo.icmc.usp.br)|143.107.231.21|:80... connected.\n",
      "HTTP request sent, awaiting response... 200 OK\n",
      "Length: 21029946 (20M) [application/zip]\n",
      "Saving to: ‘CorpusTCC.zip’\n",
      "\n",
      "CorpusTCC.zip       100%[===================>]  20.06M   570KB/s    in 33s     \n",
      "\n",
      "2019-05-01 16:22:03 (621 KB/s) - ‘CorpusTCC.zip’ saved [21029946/21029946]\n",
      "\n"
     ]
    }
   ],
   "source": [
    "! wget http://conteudo.icmc.usp.br/pessoas/taspardo/CorpusTCC.zip"
   ]
  },
  {
   "cell_type": "code",
   "execution_count": 3,
   "metadata": {},
   "outputs": [
    {
     "name": "stdout",
     "output_type": "stream",
     "text": [
      "--2019-05-01 16:31:31--  http://www.nilc.icmc.usp.br/dispara/CorTrad/\n",
      "Resolving www.nilc.icmc.usp.br (www.nilc.icmc.usp.br)... 143.107.232.31\n",
      "Connecting to www.nilc.icmc.usp.br (www.nilc.icmc.usp.br)|143.107.232.31|:80... connected.\n",
      "HTTP request sent, awaiting response... 404 Not Found\n",
      "2019-05-01 16:31:31 ERROR 404: Not Found.\n",
      "\n"
     ]
    }
   ],
   "source": [
    "! wget http://www.nilc.icmc.usp.br/dispara/CorTrad/"
   ]
  },
  {
   "cell_type": "code",
   "execution_count": 4,
   "metadata": {},
   "outputs": [
    {
     "name": "stdout",
     "output_type": "stream",
     "text": [
      "--2019-05-01 16:32:11--  http://www.nilc.icmc.usp.br/CSTNews\n",
      "Resolving www.nilc.icmc.usp.br (www.nilc.icmc.usp.br)... 143.107.232.31\n",
      "Connecting to www.nilc.icmc.usp.br (www.nilc.icmc.usp.br)|143.107.232.31|:80... connected.\n",
      "HTTP request sent, awaiting response... 302 FOUND\n",
      "Location: http://www.nilc.icmc.usp.br/CSTNews/login?next=/CSTNews/ [following]\n",
      "--2019-05-01 16:32:12--  http://www.nilc.icmc.usp.br/CSTNews/login?next=/CSTNews/\n",
      "Reusing existing connection to www.nilc.icmc.usp.br:80.\n",
      "HTTP request sent, awaiting response... 301 MOVED PERMANENTLY\n",
      "Location: http://www.nilc.icmc.usp.br/CSTNews/login/?next=/CSTNews/ [following]\n",
      "--2019-05-01 16:32:12--  http://www.nilc.icmc.usp.br/CSTNews/login/?next=/CSTNews/\n",
      "Reusing existing connection to www.nilc.icmc.usp.br:80.\n",
      "HTTP request sent, awaiting response... 200 OK\n",
      "Length: unspecified [text/html]\n",
      "Saving to: ‘CSTNews’\n",
      "\n",
      "CSTNews                 [ <=>                ]   2.29K  --.-KB/s    in 0s      \n",
      "\n",
      "2019-05-01 16:32:12 (346 MB/s) - ‘CSTNews’ saved [2347]\n",
      "\n"
     ]
    }
   ],
   "source": [
    "! wget http://www.nilc.icmc.usp.br/CSTNews"
   ]
  },
  {
   "cell_type": "code",
   "execution_count": 5,
   "metadata": {},
   "outputs": [
    {
     "name": "stdout",
     "output_type": "stream",
     "text": [
      "--2019-05-01 16:32:40--  http://www.nilc.icmc.usp.br/nilc/projects/hpc/\n",
      "Resolving www.nilc.icmc.usp.br (www.nilc.icmc.usp.br)... 143.107.232.31\n",
      "Connecting to www.nilc.icmc.usp.br (www.nilc.icmc.usp.br)|143.107.232.31|:80... connected.\n",
      "HTTP request sent, awaiting response... 200 OK\n",
      "Length: 13431 (13K) [text/html]\n",
      "Saving to: ‘index.html’\n",
      "\n",
      "index.html          100%[===================>]  13.12K  --.-KB/s    in 0.01s   \n",
      "\n",
      "2019-05-01 16:32:40 (1013 KB/s) - ‘index.html’ saved [13431/13431]\n",
      "\n"
     ]
    }
   ],
   "source": [
    "! wget http://www.nilc.icmc.usp.br/nilc/projects/hpc/"
   ]
  },
  {
   "cell_type": "code",
   "execution_count": 6,
   "metadata": {},
   "outputs": [
    {
     "name": "stdout",
     "output_type": "stream",
     "text": [
      "--2019-05-01 16:32:53--  http://conteudo.icmc.usp.br/pessoas/taspardo/sucinto/files/OpiSums-PT.zip\n",
      "Resolving conteudo.icmc.usp.br (conteudo.icmc.usp.br)... 143.107.231.21\n",
      "Connecting to conteudo.icmc.usp.br (conteudo.icmc.usp.br)|143.107.231.21|:80... connected.\n",
      "HTTP request sent, awaiting response... 200 OK\n",
      "Length: 821002 (802K) [application/zip]\n",
      "Saving to: ‘OpiSums-PT.zip’\n",
      "\n",
      "OpiSums-PT.zip      100%[===================>] 801.76K   655KB/s    in 1.2s    \n",
      "\n",
      "2019-05-01 16:32:54 (655 KB/s) - ‘OpiSums-PT.zip’ saved [821002/821002]\n",
      "\n"
     ]
    }
   ],
   "source": [
    "! wget http://conteudo.icmc.usp.br/pessoas/taspardo/sucinto/files/OpiSums-PT.zip"
   ]
  },
  {
   "cell_type": "code",
   "execution_count": 7,
   "metadata": {},
   "outputs": [],
   "source": [
    "! wget http://www.nilc.icmc.usp.br/nilc/index.php/tools-and-resources?layout=edit&id=27"
   ]
  },
  {
   "cell_type": "code",
   "execution_count": 8,
   "metadata": {},
   "outputs": [
    {
     "name": "stdout",
     "output_type": "stream",
     "text": [
      "--2019-05-01 16:33:07--  http://conteudo.icmc.usp.br/pessoas/taspardo/rhetalho.zip\n",
      "Resolving conteudo.icmc.usp.br (conteudo.icmc.usp.br)... 143.107.231.21\n",
      "Connecting to conteudo.icmc.usp.br (conteudo.icmc.usp.br)|143.107.231.21|:80... connected.\n",
      "HTTP request sent, awaiting response... 200 OK\n",
      "Length: 449068 (439K) [application/zip]\n",
      "Saving to: ‘rhetalho.zip’\n",
      "\n",
      "rhetalho.zip        100%[===================>] 438.54K   700KB/s    in 0.6s    \n",
      "\n",
      "2019-05-01 16:33:07 (700 KB/s) - ‘rhetalho.zip’ saved [449068/449068]\n",
      "\n"
     ]
    }
   ],
   "source": [
    "! wget http://conteudo.icmc.usp.br/pessoas/taspardo/rhetalho.zip"
   ]
  },
  {
   "cell_type": "code",
   "execution_count": 9,
   "metadata": {},
   "outputs": [
    {
     "name": "stdout",
     "output_type": "stream",
     "text": [
      "--2019-05-01 16:33:16--  http://www.nilc.icmc.usp.br/nilc/images/download/corpusNilc.zip\n",
      "Resolving www.nilc.icmc.usp.br (www.nilc.icmc.usp.br)... 143.107.232.31\n",
      "Connecting to www.nilc.icmc.usp.br (www.nilc.icmc.usp.br)|143.107.232.31|:80... connected.\n",
      "HTTP request sent, awaiting response... 200 OK\n",
      "Length: 174337 (170K) [application/zip]\n",
      "Saving to: ‘corpusNilc.zip’\n",
      "\n",
      "corpusNilc.zip      100%[===================>] 170.25K  --.-KB/s    in 0.07s   \n",
      "\n",
      "2019-05-01 16:33:16 (2.31 MB/s) - ‘corpusNilc.zip’ saved [174337/174337]\n",
      "\n"
     ]
    }
   ],
   "source": [
    "! wget http://www.nilc.icmc.usp.br/nilc/images/download/corpusNilc.zip"
   ]
  },
  {
   "cell_type": "code",
   "execution_count": null,
   "metadata": {},
   "outputs": [],
   "source": [
    "! wget http://bitbucket.org/HBrum/tweetsentbr"
   ]
  },
  {
   "cell_type": "code",
   "execution_count": 10,
   "metadata": {},
   "outputs": [
    {
     "name": "stdout",
     "output_type": "stream",
     "text": [
      "--2019-05-01 17:22:32--  https://dumps.wikimedia.org/ptwiki/latest/ptwiki-latest-pages-articles.xml.bz2\n",
      "Resolving dumps.wikimedia.org (dumps.wikimedia.org)... 208.80.155.106, 2620:0:861:4:208:80:155:106\n",
      "Connecting to dumps.wikimedia.org (dumps.wikimedia.org)|208.80.155.106|:443... connected.\n",
      "HTTP request sent, awaiting response... 200 OK\n",
      "Length: 1600422939 (1.5G) [application/octet-stream]\n",
      "Saving to: ‘ptwiki-latest-pages-articles.xml.bz2’\n",
      "\n",
      "ptwiki-latest-pages 100%[===================>]   1.49G  1.80MB/s    in 13m 24s \n",
      "\n",
      "2019-05-01 17:35:57 (1.90 MB/s) - ‘ptwiki-latest-pages-articles.xml.bz2’ saved [1600422939/1600422939]\n",
      "\n"
     ]
    }
   ],
   "source": [
    "! wget https://dumps.wikimedia.org/ptwiki/latest/ptwiki-latest-pages-articles.xml.bz2"
   ]
  },
  {
   "cell_type": "code",
   "execution_count": 2,
   "metadata": {},
   "outputs": [
    {
     "name": "stdout",
     "output_type": "stream",
     "text": [
      " \n",
      " = Robert <unk> = \n",
      " \n",
      " Robert <unk> is an English film , television and theatre actor . He had a guest @-@ starring role on the television series The Bill in 2000 . This was followed by a starring role in the play Herons written by Simon Stephens , which was performed in 2001 at the Royal Court Theatre . He had a guest role in the television series Judge John <unk> in 2002 . In 2004 <unk> landed a role as \" Craig \" in the episode \" Teddy 's Story \" of the television series The Long Firm ; he starred alongside actors Mark Strong and Derek Jacobi . He was cast in the 2005 theatre productions of the Philip Ridley play Mercury Fur , which was performed at the Drum Theatre in Plymouth and the <unk> <unk> Factory in London . He was directed by John <unk> and starred alongside Ben <unk> , Shane <unk> , Harry Kent , Fraser <unk> , Sophie Stanton and Dominic Hall . \n",
      " In 2006 , <unk> starred alongside <unk> in the play <unk> written by Mark <unk> . He appeared on a 2006 episode of the television series , Doctors , followed by a role in the 2007 theatre production of How to Curse directed by <unk> <unk> . How to Curse was performed at Bush Theatre in the London Borough of <unk> and Fulham . <unk> starred in two films in 2008 , <unk> <unk> by filmmaker Paris <unk> , and <unk> Punch directed by <unk> Blackburn . In May 2008 , <unk> made a guest appearance on a two @-@ part episode arc of the television series Waking the Dead , followed by an appearance on the television series <unk> in November 2008 . He had a recurring role in ten episodes of the television series <unk> in 2010 , as \" <unk> Fletcher \" . <unk> starred in the 2011 film <unk> directed by Paris <unk> . \n",
      " \n",
      " = = Career = = \n",
      " \n",
      " \n",
      " = = = 2000 – 2005 = = = \n"
     ]
    }
   ],
   "source": [
    "! head data/wikitext-2/test.txt"
   ]
  },
  {
   "cell_type": "code",
   "execution_count": 3,
   "metadata": {},
   "outputs": [
    {
     "name": "stdout",
     "output_type": "stream",
     "text": [
      "são marcos uma antiga freguesia portuguesa do concelho de sintra população habitantes foi uma freguesia pertencente cidade de agualva cacém no concelho de sintra em no âmbito da reforma administrativa foi anexada freguesia do cacém criando se união de freguesias do cacém são marcos como nome indica tem por orago evangelista são marcos são marcos até era uma localidade pertencente freguesia de agualva cacém do concelho de sintra localizada no extremo sul da freguesia encostada ao limite concelhio confrontando com freguesia de porto salvo do concelho de oeiras em julho de antiga freguesia de agualva cacém foi desdobrada em quatro novas freguesias entre as quais são marcos no mesmo mês vila de agualva cacém foi elevada cidade ficando as quatro novas freguesias constituir nova cidade antiga freguesia de são marcos era segunda maior da cidade de agualva cacém mais distante nível geográfico do seu centro os transportes urbanos são assegurados pela empresa vimeca lisboa transportes coelho catarina sítio arqueológico de são marcos sintra criação de uma reserva arqueológica revista portuguesa de arqueologia vol categoria antigas freguesias de sintra categoria agualva cacém\n",
      "são martinho uma antiga freguesia portuguesa do concelho de sintra com km² de área habitantes sua densidade populacional era hab km² tem por orago são martinho antiga freguesia tem como sede centro histórico ou chamada vila velha de sintra local onde se situam as instalações da sua junta em de dezembro de decidiu se pela extinção da freguesia em no âmbito da reforma administrativa foi anexada às freguesias de santa maria são miguel são pedro de penaferrim criando se união de freguesias de sintra santa maria são miguel são martinho são pedro de penaferrim população população da freguesia de sintra são martinho património capela de são mamede de janas necrópole pré histórica do vale de são martinho palácio nacional de sintra ou palácio da vila antigo repuxo da vila de sintra ou antigo repuxo manuelino da vila de sintra quinta da penha verde ou solar da quinta da penha verde palácio da regaleira ou quinta da regaleira incluindo palácio capela torres complexo subterrâneo jardim todos os elementos decorativos palácio da quinta do relógio convento dos capuchos sintra palácio de monserrate mata jardins palácio de seteais construções terreiro vedado jardins terraços quinta pelourinho de sintra quinta da ribafria jardim incluindo os elementos decorativos do conjunto lugares carrascal galamares janas morelinho nafarros pinhal do tomado quinta da regaleira ribeira de sintra seteais tapada de monserrate tapada das roças tapada do mouco várzea de sintra vila velha de sintra referências\n",
      "são pedro de penaferrim anteriormente são pedro de canaferrim também apelidada de são pedro de sintra uma antiga freguesia portuguesa do concelho de sintra com km² de área habitantes sua densidade populacional era hab km² tem por orago são pedro em no âmbito da reforma administrativa foi anexada às freguesias de são martinho santa maria são miguel criando se união de freguesias de sintra santa maria são miguel são martinho são pedro de penaferrim população população da freguesia de sintra são pedro de penaferrim nos censos de tinha anexada as freguesias de santa maria são miguel com lugares desta freguesia foi criada em freguesia de algueirão mem martins património igreja da penha longa palácio nacional da pena casa do cipreste incluindo cerca capela de são lázaro palácio quinta do ramalhão ou paço real do ramalhão ou colégio de são josé das irmãs dominicanas portuguesas chalé da condessa de edla sítio de santa eufémia da serra incluindo ermida de santa eufémia ou conjunto monumental de santa eufémia castelo dos mouros cisterna\n",
      "terrugem uma antiga freguesia portuguesa do concelho de sintra com km² de área habitantes sua densidade populacional era hab km² tem por orago são joão degolado uma localidade com características rurais as principais actividades económicas são marcenaria indústria do mármore composta pelas localidades de terrugem alcolombal do pipo alpolentim godigana carne assada funchal cabrela casais de cabrela silva faião almorquim vila verde lameiras armés fervença casal sequeiro bombacias murganhal foi elevada vila em de abril de em no âmbito da reforma administrativa foi anexada freguesia de são joão das lampas criando se união de freguesias de são joão das lampas terrugem população população da freguesia de terrugem património fonte de armés ou fonte dos mouros fonte de cabrela ou fonte velha igreja de terrugem ou igreja de são joão degolado capela de são sebastião\n",
      "agualva cacém uma cidade portuguesa do concelho de sintra com cerca de habitantes composta pelas freguesias de agualva mira sintra cacém são marcos resultantes do desmembramento da antiga freguesia de agualva cacém primeiro da reorganização administrativa de cidade de agualva cacém uma das duas cidades no município de sintra sendo outra queluz ainda quinta maior cidade da área metropolitana de lisboa após lisboa amadora almada setúbal décima maior cidade de portugal depois de lisboa porto vila nova de gaia amadora braga coimbra almada funchal setúbal possuidora de problemas desafios de carácter urbanísticos ambiental que lhe colocaram crescimento desordenado da área urbana pouco cuidado que este crescimento teve com património ambiental local são exemplos ribeira das jardas lagoa dos quatro caminhos para além desta situação ainda se coloca desafio na defesa do património histórico desta cidade por exemplo parque arqueológico do alto do colaride palácio da quinta da fidalga quinta da bela vista onde viveu durante muito tempo ribeiro de carvalho ilustre figura da república problemas que começam agora ser resolvidos pelo programa polis programa de requalificação das cidades europeias agualva cacém possui como principal sustento económico indústria isto se verifica pela existência de dois parques industriais de grande dimensão na cidade população população da cidade de agualva cacém criada pelo decreto lei nº de de maio de com lugares desanexados das freguesia de belas rio de mouro com lugares desta freguesia foram criadas em as freguesias de agualva cacém mira sintra história apesar da designação oficial da cidade ser agualva cacém existe quem designe globalmente por cacém seu nome deriva do nome árabe kasim assim em termos práticos quando uma pessoa diz moro no cacém pode estar na realidade referir se qualquer uma das quatro freguesias que compõem cidade de agualva cacém agualva cacém mira sintra são marcos até recentemente nome agualva cacém pertencia uma freguesia com km² de área em de julho de vila foi elevada cidade tendo antiga freguesia sido desdobrada nas freguesias de agualva cacém mira sintra são marcos no dia do mesmo mês após elevação de agualva cacém cidade esta passou por vários projectos de beneficiação por parte da câmara municipal de sintra mas principalmente por parte do programa polis projecto para requalificação das cidades europeias património quinta da bela vista fachada poente da casa de joaquim ribeiro de carvalho quinta da bela vista quinta da fidalga nome porque vulgarmente conhecida antiga quinta de nossa senhora do monte do carmo fundada por volta de por josé ramos da silva provedor da casa da moeda pai do escritor matias aires morgado da agualva foi classificada como imóvel de interesse municipal iim pelo instituto português do património arquitectónico anta de agualva sítio arqueológico de colaride ou estação romana de colaride actualmente servindo de fossa séptica algumas indústrias que existem na proximidade realizando seus despejos contaminantes para interior da gruta que existe no local educação fachada sul da quinta da fidalga no largo da república em agualva escola secundária gama barros escola básica domingos jardo escola eb antónio sérgio escola ji de agualva nº antigo ji da eb nº do cacém escola eb ji agualva nº antiga eb nº do cacém escola eb nº de agualva escola eb ji agualva nº antiga nº de agualva escola eb nº de agualva escola eb ji de colaride escola eb ji de lopas escola eb ji de mira sintra escola eb nº de mira sintra escola eb ji de são marcos cecd mira sintra centro de educação cidadão deficiente casa da marioneta de sintra http casadamarioneta com equipamentos públicos centro lúdico de lopas agualva centro lúdico de são marcos biblioteca municipal de agualva cacém mercado de agualva mercado do cacém mercado de mira sintra centro de saúde de agualva cacém unidade de saúde familiar flor de lótus cs agualva cacém unidade de cuidados na comunidade cacémcare cs agualva cacém unidade de saúde familiar são marcos cs agualva cacém unidade de saúde familiar mira sintra cs agualva cacém unidade de cuidados de saúde personalizados olival cs agualva cacém loja de cidadão de agualva cacém conservatória de registo predial segurança social agualva smas agualva serviços municipalizados de água saneamento de sintra bombeiros voluntários de agualva cacém auditório municipal antónio silva piscina de agualva abvac repartição das finanças sintra psp divisão policial de sinta esquadra agualva cacém psp divisão policial de sinta esquadra mira sintra psp divisão policial de sinta esquadra são marcos estação dos correios de agualva estação dos correios de cacém estação ferroviária de agualva cacém estação ferroviária de mira sintra meleças parque urbano de agualva cacém parque linear da ribeira das jardas parque urbano de mira sintra entidades desportivas agualva clube motard ca ginásio clube maio agualva sportdo ensino de taekwondo grupo sócio cultural novos talentos super radical lírios do monte grupo de teatro acto grupo excursionista recreativo continental das lopas atlético clube do cacém clube moucabtt ntac núcleo de taekwondo de agualva cacém www taekwondo ac org valdevinos associação cultural http www valdevinos net transportes comboios cp linha de sintra linha do oeste autocarros vimeca lisboa transportes scotturb rodoviária de lisboa acessos rodoviários ic ic estrada nacional ligações externas\n",
      "religião são marcos evangelista considerado primeiro patriarca de alexandria papa marcos ou são marcos papa marcos de aretusa controvérsia ariana marcos de éfeso santo da igreja ortodoxa um dos chamados pilares da ortodoxia basílica de são marcos igreja em veneza topônimos são marcos rio grande do sul município no estado do rio grande do sul são marcos rio do estado de goiás são marcos sintra freguesia no concelho de sintra são marcos da ataboeira freguesia no concelho de castro verde são marcos da serra freguesia no concelho de silves ver também san marcos saint marc categoria desambiguação categoria desambiguações de topônimos\n",
      "sobral de monte agraço uma vila portuguesa no distrito de lisboa região centro sub região do oeste com cerca de habitantes sede de um pequeno município com de área habitantes subdividido em freguesias município limitado norte pelo município de torres vedras nordeste por alenquer este sudeste por arruda dos vinhos sudoeste oeste por mafra população número de habitantes obs número de habitantes residentes ou seja que tinham residência oficial neste concelho data em que os censos se realizaram número de habitantes por grupo etário anos anos anos ou anos id desconh obs de os dados referem se população de facto ou seja que estava presente no concelho data em que os censos se realizaram daí que se registem algumas diferenças relativamente designada população residente freguesias freguesias do concelho de sobral de monte agraço as freguesias do sobral de monte agraço são as seguintes santo quintino sapataria sobral de monte agraço história durante guerra peninsular sobral de monte agraço estava integrada nas linhas de torres em outubro de exército francês chefiado por andré massena aproximou se das linhas verificando que os portugueses tinham submetido área defronte das mesmas uma política de terra queimada depois de uma escaramuça em sobral de monte agraço no dia de outubro os franceses aperceberam se que não conseguiriam avançar mais historiador militar britânico charles omam escreveu que ao alvorecer nessa manhã de de outubro em sobral maré napoleónica atingiu seu ponto mais elevado património igreja de são quintino política município de sobral de monte agraço administrado por uma câmara municipal composta por vereadores existe uma assembleia municipal que órgão legislativo do município constituída por deputados dos quais eleitos diretamente cargo de presidente da câmara municipal atualmente ocupado por josé alberto quintino eleito nas eleições autárquicas de pela cdu coligação democrática unitária composta pelo partido comunista português partido ecologista os verdes tendo maioria absoluta de vereadores na câmara existe ainda um vereador eleito pela coligação juntos pela nossa terra psd cds pp outro pelo ps na assembleia municipal partido mais representado novamente cdu pcp pev com deputados eleitos presidentes de juntas de freguesia maioria absoluta seguindo se partido socialista coligação juntos pela nossa terra presidente da assembleia municipal júlio lourenço rodrigues da cdu eleições de órgão pcp pev psd cds pp ps câmara municipal assembleia municipal dos quais eleitos directamente eleições autárquicas partido ps fepu apu cdu ppd psd ad psd cds eleições legislativas partido ps pcp apu cdu ppd psd cds pp udp ad prd psn pan pàf cultura cine teatro de sobral de monte agraço construído em festas feiras largo central de sobral de monte agraço festa feira de verão na semana de setembro domingo corridas de touros largadas concertos exposições feira de artesanato quermesse música dança teatro etc as festas têm como ponto alto as largadas concertos na praça dr eugénio dias tasquinhas realizam se em outubro noites fados organizadas pelo agrupamento escuteiros outras associações ver também forte do alqueidão ligações externas as festas da vila na segunda semana de setembro nunca foram religiosas são festas cívicas denominadas desde início de festas feira de verão foram criadas em pela cãmara sob uma proposta de matias ferreira só tiveram programa escrito em nos anos de os pontos altos foram os concertos pela banda da polícia municipal de lisboa que curto prazo passou denominar se banda da guarda nacional republicana as touradas exposição de gados festa religiosa de senhora da vida santa aurélia foi sempre de agosto deixou de fazer se em depois de igreja ter sido assaltada profanada nas véspera das exéquias de sidónio pais foi substituida pela feira de de agosto que tinha que passou ter exposição de gados que foi suprimida das festas feira de verão mas que deixou de fazer se nos anos do século passado outras festas da vila festa de santo antónio com missa sermão procissão recitação da coroa de mistériosdo no dia do santo de junho sendo que ùltima foi em bodo de são brás de fevereiro com carros de bois com toldo que levavam as carnes pao para serem bezidos na igreja do salvador distribuidos pelos pobres imagem de brás destruida no assalto igreja foi restaurada recentemente atribuida escola de machado castro toda informação sobre as festa religiosa que aqui consta falsa tendenciosa\n",
      "santo quintino uma freguesia portuguesa do concelho de sobral de monte agraço com km² de área habitantes sua densidade populacional de hab km² população população da freguesia de santo quintino nos anos de pertencia ao concelho de arruda dos vinhos passou para actual concelho por decreto de que criou concelho de sobral de monte agraço património igreja de santo quintino forte do alqueidão capela de são vicente capela de são tomé no lugar dos corais capela de nossa senhora das necessidades dos sabugos\n",
      "sapataria uma freguesia do concelho de sobral de monte agraço comarca de torres vedras distrito de lisboa orago da povoação nossa senhora da purificação população de cerca de habitantes em fogos dista quilómetros da sede do concelho está situada entre póvoa da galega dois portos próximo da linha férrea do oeste onde tem um apeadeiro com mesmo nome sapataria uma freguesia portuguesa do concelho de sobral de monte agraço com km² de área habitantes sua densidade populacional de hab km² população população da freguesia de sapataria nos anos de pertencia ao concelho de arruda dos vinhos passou para actual concelho por decreto de categoria freguesias de sobral de monte agraço\n",
      "sobral de monte agraço uma freguesia portuguesa do concelho de sobral de monte agraço com km² de área habitantes sua densidade populacional de hab km² gozundeira uma das localidades que integram concelho população população da freguesia de sobral de monte agraço nos anos de pertencia ao concelho de arruda dos vinhos passou para actual concelho por decreto de que criou concelho de sobral de monte agraço património capela de sobral de monte agraço ou capela do salvador do mundo século xii igreja matriz de sobral de monte agraço renascentista século xvi casas da câmara cadeia de sobral de monte agraço séc xviii cine teatro de sobral de monte agraço arte deco séc xx igreja de nossa senhora da vida categoria freguesias de sobral de monte agraço\n"
     ]
    }
   ],
   "source": [
    "! head ../data/interim/wiki_pt_splits/wiki_pt01.txt"
   ]
  },
  {
   "cell_type": "code",
   "execution_count": 16,
   "metadata": {},
   "outputs": [
    {
     "name": "stdout",
     "output_type": "stream",
     "text": [
      "total 13M\n",
      "-rwxrwxrwx 1 gabrielamelo gabrielamelo  1M Apr 24 16:28 README\n",
      "-rwxrwxrwx 1 gabrielamelo gabrielamelo  2M Apr 24 16:28 test.txt\n",
      "-rwxrwxrwx 1 gabrielamelo gabrielamelo 11M Apr 24 16:28 train.txt\n",
      "-rwxrwxrwx 1 gabrielamelo gabrielamelo  2M Apr 24 16:28 valid.txt\n"
     ]
    }
   ],
   "source": [
    "! ls -l --block-size=M data/wikitext-2/"
   ]
  },
  {
   "cell_type": "code",
   "execution_count": 18,
   "metadata": {},
   "outputs": [
    {
     "name": "stdout",
     "output_type": "stream",
     "text": [
      "total 3414M\n",
      "drwxrwxrwx 1 gabrielamelo gabrielamelo    1M May  1 17:24 archive_pytorch_generations\n",
      "-rwxrwxrwx 1 gabrielamelo gabrielamelo    1M May  1 17:51 Corpus Downloads.ipynb\n",
      "drwxrwxrwx 1 gabrielamelo gabrielamelo    1M May  1 16:40 data\n",
      "-rwxrwxrwx 1 gabrielamelo gabrielamelo    1M Apr 24 16:28 data.py\n",
      "-rwxrwxrwx 1 gabrielamelo gabrielamelo    1M Apr 24 19:49 First tests.ipynb\n",
      "-rwxrwxrwx 1 gabrielamelo gabrielamelo    1M Apr 24 17:25 generate.py\n",
      "-rwxrwxrwx 1 gabrielamelo gabrielamelo    1M Apr 24 16:28 main.py\n",
      "-rwxrwxrwx 1 gabrielamelo gabrielamelo    1M Apr 24 17:44 model.py\n",
      "-rwxrwxrwx 1 gabrielamelo gabrielamelo 1527M Apr 23 14:05 ptwiki-latest-pages-articles.xml.bz2\n",
      "drwxrwxrwx 1 gabrielamelo gabrielamelo    0M Apr 24 16:33 __pycache__\n",
      "-rwxrwxrwx 1 gabrielamelo gabrielamelo    1M Apr 24 16:28 README.md\n",
      "-rwxrwxrwx 1 gabrielamelo gabrielamelo    1M May  1 17:56 Wikipedia Dump Extractor.ipynb\n",
      "-rwxrwxrwx 1 gabrielamelo gabrielamelo 1888M May  1 17:56 wiki_pt.txt\n"
     ]
    }
   ],
   "source": [
    "! ls -l --block-size=M"
   ]
  },
  {
   "cell_type": "code",
   "execution_count": null,
   "metadata": {},
   "outputs": [],
   "source": []
  }
 ],
 "metadata": {
  "kernelspec": {
   "display_name": "wsc_port",
   "language": "python",
   "name": "wsc_port"
  },
  "language_info": {
   "codemirror_mode": {
    "name": "ipython",
    "version": 3
   },
   "file_extension": ".py",
   "mimetype": "text/x-python",
   "name": "python",
   "nbconvert_exporter": "python",
   "pygments_lexer": "ipython3",
   "version": "3.6.8"
  }
 },
 "nbformat": 4,
 "nbformat_minor": 2
}
