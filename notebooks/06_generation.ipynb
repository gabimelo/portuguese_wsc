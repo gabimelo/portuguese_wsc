{
 "cells": [
  {
   "cell_type": "code",
   "execution_count": 1,
   "metadata": {},
   "outputs": [],
   "source": [
    "import os\n",
    "os.chdir('..')\n",
    "\n",
    "%load_ext autoreload\n",
    "%autoreload 2"
   ]
  },
  {
   "cell_type": "code",
   "execution_count": 2,
   "metadata": {},
   "outputs": [],
   "source": [
    "import datetime\n",
    "\n",
    "import numpy as np\n",
    "import torch\n",
    "import torch.nn as nn\n",
    "import torch.nn.functional as F\n",
    "\n",
    "from src.consts import *\n",
    "from src.main import main, setup_torch, get_corpus\n",
    "from src.model import RNNModel\n",
    "from src.training import train, evaluate\n",
    "from src.split_cross_entropy_loss import SplitCrossEntropyLoss\n",
    "from src.utils import get_latest_model_file\n",
    "from src.generation import generate\n",
    "\n",
    "from notebooks.utils import summary, check_cuda_mem"
   ]
  },
  {
   "cell_type": "code",
   "execution_count": 3,
   "metadata": {},
   "outputs": [],
   "source": [
    "setup_torch()\n",
    "device = torch.device(\"cuda\" if USE_CUDA else \"cpu\")\n",
    "corpus = get_corpus()\n",
    "ntokens = len(corpus.dictionary)\n",
    "\n",
    "# TODO remove these two lines\n",
    "assert ntokens == 602755\n",
    "assert corpus.valid.size()[0] == 11606861\n",
    "assert corpus.train.max() < ntokens\n",
    "assert corpus.valid.max() < ntokens\n",
    "assert corpus.test.max() < ntokens"
   ]
  },
  {
   "cell_type": "code",
   "execution_count": 4,
   "metadata": {},
   "outputs": [],
   "source": [
    "model_file_name = get_latest_model_file()"
   ]
  },
  {
   "cell_type": "code",
   "execution_count": 15,
   "metadata": {},
   "outputs": [],
   "source": [
    "words, words_probs = generate(model_file_name, corpus, ntokens, device)"
   ]
  },
  {
   "cell_type": "code",
   "execution_count": 16,
   "metadata": {},
   "outputs": [
    {
     "data": {
      "text/plain": [
       "\"cladística '' Desde o campo , as <UNK> e outras é multiplicação em várias Uraeginthus , sendo um fato onde podem aproximar-se da agricultura mundial . Para ainda a expansão das moléculas de azul , os *Mirateca produziram uma vasta variedade de camadas estabelecida e a filosofia , mais de 90 % da abundância dos peixes , que conta as formas restritivas , e , devido ao surgimento de novas ferramentas . Acredita-se que seria chamado Estatística de Ia , que também existe também integrado nos E.U.A . O fim da guerra , afirma que a biodiversidade é agora moderna , mas carece de que `` <UNK> '' , criado em Novembro de 2009 , pela segunda vez , foi o processo mais elevado que foi único , onde os povos de <UNK> delas possuem magnitude de <UNK> . Assim , houve uma luta muito definida por a classificação dessa espécie , pois o grupo é o denominado ritmo mais volumoso da sua forma fornecido no Sol do mundo . Além disso , o governante , estes <UNK> de algum modo , é `` a base oleosa '' pois um movimento equilátero é bem comum . O sentimento mais antigo são muito fortes no nome que deve ser influenciada pela língua . O `` deserto da casa '' faz com que as pedras sejam também chamadas de `` <UNK> '' , que alternam entre si . A competência encontrada em cima da oração e da simplicidade surgia no gênero `` claridade '' . === O idioma de candomblé === Como o mito de Deus , o termo onisciência deve variar bastante acima da qual se baseiam em deuses de Obatalá . *Terreiro de Varuna faz um deus . No texto popular é possível se crer que a pouca defesa da verdade é forte e o Amiais de Santa Rita é o único acontecimento de legibilidade na morte da Iara , com primeira encomenda de <UNK> do Gantois . Publicada a Lenda e Presente , muito de geral para <UNK> a sua visão e representação , o comprimento como social dado a `` 'Festa de Iemanjá '' ' . Apesar disso , o estruturado ocorre . Última organização sobre esta região de extensão destaque no início de sua ocupação . O passado próximo do sistema dos penitentes pode ser definido pelo nome de `` Euskal possidetis 3.603 '' , e qualquer artifício surgido ao longo das palavras e do solo , em termos absolutos . `` Cordão '' e `` avelãs '' é uma música horizontal . Algumas das equipas restantes brasileiras foram `` <UNK> '' , `` <UNK> '' , `` ''Ilha de Espuma '' , `` '1978 '' ' , de São José 2.381 , <UNK> , <UNK> , <UNK> , Michele , Jérôme <UNK> , Emilia Talabi , Joel Clarck , Innere <UNK> , Baba <UNK> , Nautilus <UNK> , Lauper 's Moment , The gods of Stone , movement , Maori , Oz , Ghribi , Nicollet , <UNK> , Lille , The Liberty <UNK> , The Gnetum ( `` <UNK> Defense '' ) , outras dez jornais , instrumentos de dança e rádio . <UNK> : Zamboni e <UNK> , conforme o nome que governou a Iugoslávia , realiza-se por muitos partidos que viram a independência de Taiwan , porque não seriam incluídos pela ONU , faz e fundar os Estados Unidos ao adotar o lugar da segurança no chamado Euclidiano como 69 . Apelidado pela filiação de contas de paz , o <UNK> foi finalmente utilizado tanto pelo governo para ser compatível com a ideia de que estas indicações de uma segunda cidade em um país foram a última oficialização . Porém as actividades internas dos Países Baixos estimam que o país continua a aparecer militarmente , pois as Ilhas Virgens Britânicas tornaram-se as cidades especificamente portuguesas na província da Califórnia , pobres ( `` o francês da linha '' ) e Chilena de Futebol ( e a fragata Ramon Roberts de Zavala , cuja moeda 6 ) . Nos anos de 1950 o Japão entrou em declínio e foi fortemente influenciado pela crise aeroespacial . A oposição começou a ter se desenvolvido serias tipos e especiarias do país . No começo do século XVI , muitos grupos étnicos poderiam ajudar mais a definir os laços do movimento francês . * Na Alemanha , a arquitetura russa descreve estes gêneros na filosofia em muitos estilos sobre o fascismo . A visão Cinema da China opõe umas espécies como as xilogravuras <UNK> ( `` de Blade Leu a Avantasia '' , `` Os Gentios '' ) e `` Santo Garrett '' ( informando a existência de outros ) . A força de peso não tem voz entre os chimpanzés ; `` ou energia muito robusta alguém é extremamente rápida e mais burguesa '' . De fato , e ao chegar a várias cidades , a própria competição foi quase universalmente legal e o muito amplo acesso de imagens e equipamentos culturais e econômicos do país em conjunto com o mundo como mais vasto do mundo . As principais formas de pesquisa cardíacas e dramáticas foi o toda é muito utilizado para um único foco sobre a física ; por exemplo , a da continuação e a prioridade das comunidades humanas rarefeita dos países vizinhos — no Egito e na Grécia . Isso significa o mesmo tempo para afirmar que todas as duas organizações , mas se devem seduzir no Palácio de Sezim que tenha de se excluir '' . Como o resto entre os Antepassados Cocadaboa nem os pobres , inocente , não é permitido que nem ainda a difícil fogueira tenha havido um conjunto com os impostos . Este tipo de educação pode ser obtido sob os cuidados de tentar maximizar dor , os alunos necessários à obesidade , que demonstram problemas favoráveis ao interesse das Testemunhas , a utilização de órgãos de solidariedade , ou pela especialidade , protegendo a consciência , medida ou proporcionalidade\""
      ]
     },
     "execution_count": 16,
     "metadata": {},
     "output_type": "execute_result"
    }
   ],
   "source": [
    "(' ').join(words)"
   ]
  },
  {
   "cell_type": "code",
   "execution_count": 7,
   "metadata": {},
   "outputs": [],
   "source": [
    "words, words_probs = generate(model_file_name, corpus, ntokens, device, input_wsc='A régua não coube na mochila porque a régua é grande .')"
   ]
  },
  {
   "cell_type": "code",
   "execution_count": 8,
   "metadata": {},
   "outputs": [
    {
     "name": "stdout",
     "output_type": "stream",
     "text": [
      "A régua não coube na mochila porque a régua é grande .\n"
     ]
    },
    {
     "data": {
      "text/plain": [
       "tensor(2.6450e-35, device='cuda:0')"
      ]
     },
     "execution_count": 8,
     "metadata": {},
     "output_type": "execute_result"
    }
   ],
   "source": [
    "print((' ').join(words))\n",
    "np.prod(words_probs)"
   ]
  },
  {
   "cell_type": "code",
   "execution_count": 9,
   "metadata": {},
   "outputs": [],
   "source": [
    "words, words_probs = generate(model_file_name, corpus, ntokens, device, input_wsc='A régua não coube na mochila porque a mochila é grande .')"
   ]
  },
  {
   "cell_type": "code",
   "execution_count": 10,
   "metadata": {},
   "outputs": [
    {
     "name": "stdout",
     "output_type": "stream",
     "text": [
      "A régua não coube na mochila porque a mochila é grande .\n"
     ]
    },
    {
     "data": {
      "text/plain": [
       "tensor(2.7669e-35, device='cuda:0')"
      ]
     },
     "execution_count": 10,
     "metadata": {},
     "output_type": "execute_result"
    }
   ],
   "source": [
    "print((' ').join(words))\n",
    "np.prod(words_probs)"
   ]
  },
  {
   "cell_type": "code",
   "execution_count": null,
   "metadata": {},
   "outputs": [],
   "source": []
  }
 ],
 "metadata": {
  "kernelspec": {
   "display_name": "wsc_port",
   "language": "python",
   "name": "wsc_port"
  },
  "language_info": {
   "codemirror_mode": {
    "name": "ipython",
    "version": 3
   },
   "file_extension": ".py",
   "mimetype": "text/x-python",
   "name": "python",
   "nbconvert_exporter": "python",
   "pygments_lexer": "ipython3",
   "version": "3.6.8"
  }
 },
 "nbformat": 4,
 "nbformat_minor": 2
}
