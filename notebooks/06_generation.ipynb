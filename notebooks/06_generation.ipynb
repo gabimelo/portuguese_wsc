{
 "cells": [
  {
   "cell_type": "code",
   "execution_count": 1,
   "metadata": {},
   "outputs": [],
   "source": [
    "import os\n",
    "os.chdir('..')\n",
    "\n",
    "%load_ext autoreload\n",
    "%autoreload 2"
   ]
  },
  {
   "cell_type": "code",
   "execution_count": 2,
   "metadata": {},
   "outputs": [],
   "source": [
    "import datetime\n",
    "\n",
    "import numpy as np\n",
    "import torch\n",
    "import torch.nn as nn\n",
    "import torch.nn.functional as F\n",
    "\n",
    "from src.consts import *\n",
    "from src.main import main, setup_torch, get_corpus\n",
    "from src.model import RNNModel\n",
    "from src.training import train, evaluate\n",
    "from src.split_cross_entropy_loss import SplitCrossEntropyLoss\n",
    "from src.utils import get_latest_model_file\n",
    "from src.generation import generate\n",
    "\n",
    "from notebooks.utils import summary, check_cuda_mem"
   ]
  },
  {
   "cell_type": "code",
   "execution_count": 3,
   "metadata": {},
   "outputs": [],
   "source": [
    "setup_torch()\n",
    "device = torch.device(\"cuda\" if USE_CUDA else \"cpu\")\n",
    "corpus = get_corpus()\n",
    "ntokens = len(corpus.dictionary)\n",
    "\n",
    "# TODO remove these two lines\n",
    "assert ntokens == 602755\n",
    "assert corpus.valid.size()[0] == 11606861\n",
    "assert corpus.train.max() < ntokens\n",
    "assert corpus.valid.max() < ntokens\n",
    "assert corpus.test.max() < ntokens"
   ]
  },
  {
   "cell_type": "code",
   "execution_count": 4,
   "metadata": {},
   "outputs": [],
   "source": [
    "model_file_name = get_latest_model_file()"
   ]
  },
  {
   "cell_type": "code",
   "execution_count": 24,
   "metadata": {},
   "outputs": [],
   "source": [
    "words, words_probs = generate(model_file_name, corpus, ntokens, device)"
   ]
  },
  {
   "cell_type": "code",
   "execution_count": 25,
   "metadata": {},
   "outputs": [
    {
     "data": {
      "text/plain": [
       "\"Nasalli . * Teoria aprazado . ' '' Parte do ano '' ' . * `` Sobre a <UNK> '' '' Xícara % também participaram de uma criatividade eletroquímica . * índice de <UNK> – alcançar a probabilidade de ganhar um trabalho fundamental da sociedade e que se mantém em poder . ** <UNK> é fabricada , conforme previsto Médico <UNK> do canal . Apenas no mercado de Auvers-sur-Oise , é a ideia de mais o que é o sistema do sistema de Ponte . O homem se torna um dos principais produtos do mundo e na região . <UNK> : o apêndice da história de lise === Zehlendorf === As regras de saúde de cada menina , põem apoio a 10 % da mulher , haverá os <UNK> ( <UNK> % em que se complete a suspensão superior virada ) ; # De outros casos , o seu funcionamento é dado . * Surge também o centro da cidade . == <UNK> e <UNK> == Representação dos monges tradicionais == Novidades , em vez de responder através dos instintos são em 1514 <UNK> com a ajuda de uma pessoa para se comportar os `` <UNK> '' ao utilizar uma série de livros , e que , com a sua presença , em uma mão só atendem as linhas e solicitações , irmã de alguém com os economistas e religiosos , etc . Ele permitiu à periferia do estado . Ele é chamado de engraçado pelo marido , uma vez mais propriamente interessado , em cuja forma adicional , mas `` boa a sua rotina se tem o fundamento da superstição . O `` livro de estamos '' ; butterfly <UNK> , de e que se deve ter suas ruínas individuais e , tanto por impedir a elevação de espécies como o nome de todas as espécies . Isso explica-se a perder esses poderes , sendo a seus termos implícitos . <UNK> deliberadamente frequentemente um registro que se pratica na ação anterior , e explica o conflito de todo o mundo ( ao contrário das conversões de toda a vida da vida ) . que o homem refere-se às crenças das áreas do conhecimento que incluem o começo da aniquilação e o cão . Por si , são algo que são sido parte do segundo deus conhecido em sua luta , mas também sobre a hierarquia conjugal infantil e a escultura pelo homem ; * A ideia geral é a maior dificuldade e torna-se sistema complexo . Em consequência tornou-se de investigação , ainda se é o desdobramento dos seus objectivos . * Para pessoas com medo dos dados sobre a RSE , informações de bem por todo o pleno mundo , levam seu compromisso elaborado novamente . `` Entre as categorias mais importante são as seguintes : De acordo com a crescente concepção de Comte de um grupo de vogais desde que se tem . Segundo a segunda definição , nem a convenção não misturam explicações para Calisto , o mais importante seria ele na sua segunda acepção . <UNK> semiacústicas : os elementos <UNK> que formam a Medusa sustentam que no caso de Jano , concluiu-se que a chamada <UNK> é bater para outra `` flor '' . Para trás , pode-se entender-se os desafios da cauda de tais `` <UNK> '' . Por quê , em breve , self-released , os atenienses começaram a citar declaração um que termina sobre a região . * Zeami não tinha uma natureza mais famosa indicando que elas , seu pai alguma , por sua <UNK> , a pitonisa disse : Episódio , `` <UNK> '' . Iwama * Helena ( <UNK> ) encontra-se no pátio sqrt ( colares ) e alguns dias de seu maxilar permanente . * O governo do país apresentou , pois , o fogo e o amigo `` <UNK> '' ( Folículo <UNK> ) no compasso , irritados , mas que os pés são e facilmente enviados para as mulheres . Embora Mário de Andrade participou do Observatório `` Via Incompleta '' , acabando como relataria uma característica última por ter suas amargura em pouco de conforto . Em 2001 , o campo grego incorpora uma morte através de seus motivos . Ele não total não foi conectado a seu sistema , a qual a graduada de ação em todo o mundo inteiro dele aceita até que ele decidiu executar a expressão do raio . Primeiro a perceber a situação sobre os olhos distribution '' ou `` Tempo do Jogo '' '' - `` Pergaminho dos Três reinos '' ' de `` <UNK> '' ' . Além disso , quando existe a 69ª posição conhecido como `` <UNK> '' ou `` <UNK> '' ' , na Lei Cabaco , 1939-1973 ed ( straight ICA ) == Curiosidades == Para o Alto Resta , feito : : : `` A França é um outro número amplamente em capacidade do nosso ; '' == Ligações externas == * 1951 * `` Calidris Toi '' ( 1754 ) == Bibliografia == * * * * * * <eos> ' '' São Jorge '' ' é uma antiga freguesia portuguesa do concelho de Braga , com 8,89 km² de área e 2 147 habitantes ( 2011 ) . A sua densidade populacional era 7,4 hab/km² . Foi vila e sede de concelho em 1514 . Conjuntamente com a freguesia de Cortiços , a Vilar dos Frades se formou no convento de Braga . Tinha , em 1801 , 703 habitantes . Foi vila e sede de concelho até 1684 , passando pela Freguesia de <UNK> . A freguesia fazia parte integrante dos aglomerados populacionais da freguesia de Valongo . É a freguesia que foi criada pelo Banco Real da Convenção <UNK> , de 1811 , emenda de ... , do qual fez algumas comunicações <UNK> importantes , que aparentemente consequentemente têm 1845 . Em 1782 , o poder da capitalidade dos D. Miguel I propunha a criação de uma coluna demográfica\""
      ]
     },
     "execution_count": 25,
     "metadata": {},
     "output_type": "execute_result"
    }
   ],
   "source": [
    "(' ').join(words)"
   ]
  },
  {
   "cell_type": "code",
   "execution_count": 35,
   "metadata": {},
   "outputs": [],
   "source": [
    "def analyse_wsc(correct_sentence, wrong_sentence):\n",
    "    _, correct_words_probs = generate(model_file_name, corpus, ntokens, device, input_wsc=correct_sentence)\n",
    "    _, wrong_words_probs = generate(model_file_name, corpus, ntokens, device, input_wsc=wrong_sentence)\n",
    "    if correct_words_probs >= wrong_words_probs:\n",
    "        return True\n",
    "    else:\n",
    "        return False"
   ]
  },
  {
   "cell_type": "code",
   "execution_count": 36,
   "metadata": {},
   "outputs": [
    {
     "name": "stdout",
     "output_type": "stream",
     "text": [
      "Wrong :(\n"
     ]
    }
   ],
   "source": [
    "if analyse_wsc('A régua não coube na mochila porque a régua é grande .',\n",
    "               'A régua não coube na mochila porque a mochila é grande .'):\n",
    "    print('Right choice :D')\n",
    "else:\n",
    "    print('Wrong :(')"
   ]
  }
 ],
 "metadata": {
  "kernelspec": {
   "display_name": "wsc_port",
   "language": "python",
   "name": "wsc_port"
  },
  "language_info": {
   "codemirror_mode": {
    "name": "ipython",
    "version": 3
   },
   "file_extension": ".py",
   "mimetype": "text/x-python",
   "name": "python",
   "nbconvert_exporter": "python",
   "pygments_lexer": "ipython3",
   "version": "3.6.8"
  }
 },
 "nbformat": 4,
 "nbformat_minor": 2
}
