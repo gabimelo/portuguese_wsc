{
 "cells": [
  {
   "cell_type": "code",
   "execution_count": 1,
   "metadata": {},
   "outputs": [],
   "source": [
    "import os\n",
    "os.chdir('..')\n",
    "\n",
    "%load_ext autoreload\n",
    "%autoreload 2"
   ]
  },
  {
   "cell_type": "code",
   "execution_count": 2,
   "metadata": {},
   "outputs": [],
   "source": [
    "from datetime import datetime\n",
    "\n",
    "from src.main import get_corpus\n",
    "from src.winograd_collection_manipulation.text_manipulation import custom_tokenizer\n",
    "from src.winograd_collection_manipulation.wsc_json_handler import generate_df_from_json"
   ]
  },
  {
   "cell_type": "code",
   "execution_count": 3,
   "metadata": {},
   "outputs": [
    {
     "name": "stdout",
     "output_type": "stream",
     "text": [
      "Ran on 2020-01-26 21:01:23.311989\n",
      "Using Corpus after filtering by good and featured articles\n"
     ]
    }
   ],
   "source": [
    "print(f'Ran on {datetime.utcnow()}')\n",
    "print('Using Corpus after filtering by good and featured articles')"
   ]
  },
  {
   "cell_type": "code",
   "execution_count": 4,
   "metadata": {},
   "outputs": [],
   "source": [
    "df = generate_df_from_json()\n",
    "corpus = get_corpus()"
   ]
  },
  {
   "cell_type": "code",
   "execution_count": 5,
   "metadata": {},
   "outputs": [
    {
     "data": {
      "text/plain": [
       "'competição'"
      ]
     },
     "execution_count": 5,
     "metadata": {},
     "output_type": "execute_result"
    }
   ],
   "source": [
    "# Just to check that we have the correct language\n",
    "corpus.dictionary.idx2word[20]"
   ]
  },
  {
   "cell_type": "code",
   "execution_count": 6,
   "metadata": {},
   "outputs": [],
   "source": [
    "df = df[df.translated].copy()"
   ]
  },
  {
   "cell_type": "code",
   "execution_count": 7,
   "metadata": {},
   "outputs": [
    {
     "data": {
      "text/html": [
       "<div>\n",
       "<style scoped>\n",
       "    .dataframe tbody tr th:only-of-type {\n",
       "        vertical-align: middle;\n",
       "    }\n",
       "\n",
       "    .dataframe tbody tr th {\n",
       "        vertical-align: top;\n",
       "    }\n",
       "\n",
       "    .dataframe thead th {\n",
       "        text-align: right;\n",
       "    }\n",
       "</style>\n",
       "<table border=\"1\" class=\"dataframe\">\n",
       "  <thead>\n",
       "    <tr style=\"text-align: right;\">\n",
       "      <th></th>\n",
       "      <th>correct_sentence</th>\n",
       "      <th>incorrect_sentence</th>\n",
       "      <th>manually_fixed_correct_sentence</th>\n",
       "      <th>manually_fixed_incorrect_sentence</th>\n",
       "      <th>correct_switched</th>\n",
       "      <th>incorrect_switched</th>\n",
       "      <th>is_switchable</th>\n",
       "      <th>is_associative</th>\n",
       "      <th>translated</th>\n",
       "    </tr>\n",
       "  </thead>\n",
       "  <tbody>\n",
       "    <tr>\n",
       "      <th>0</th>\n",
       "      <td>Os vereadores recusaram a autorização aos mani...</td>\n",
       "      <td>Os vereadores recusaram a autorização aos mani...</td>\n",
       "      <td>Os vereadores recusaram a autorização aos mani...</td>\n",
       "      <td>Os vereadores recusaram a autorização aos mani...</td>\n",
       "      <td></td>\n",
       "      <td></td>\n",
       "      <td>False</td>\n",
       "      <td>False</td>\n",
       "      <td>True</td>\n",
       "    </tr>\n",
       "    <tr>\n",
       "      <th>1</th>\n",
       "      <td>Os vereadores recusaram a autorização aos mani...</td>\n",
       "      <td>Os vereadores recusaram a autorização aos mani...</td>\n",
       "      <td>Os vereadores recusaram a autorização aos mani...</td>\n",
       "      <td>Os vereadores recusaram a autorização aos mani...</td>\n",
       "      <td></td>\n",
       "      <td></td>\n",
       "      <td>False</td>\n",
       "      <td>False</td>\n",
       "      <td>True</td>\n",
       "    </tr>\n",
       "    <tr>\n",
       "      <th>2</th>\n",
       "      <td>A medalha não cabe na maleta porque a medalha ...</td>\n",
       "      <td>A medalha não cabe na maleta porque a maleta é...</td>\n",
       "      <td>A medalha não cabe na maleta porque a medalha ...</td>\n",
       "      <td>A medalha não cabe na maleta porque a maleta é...</td>\n",
       "      <td></td>\n",
       "      <td></td>\n",
       "      <td>False</td>\n",
       "      <td>False</td>\n",
       "      <td>True</td>\n",
       "    </tr>\n",
       "    <tr>\n",
       "      <th>3</th>\n",
       "      <td>A medalha não cabe na maleta porque a maleta é...</td>\n",
       "      <td>A medalha não cabe na maleta porque a medalha ...</td>\n",
       "      <td>A medalha não cabe na maleta porque a maleta é...</td>\n",
       "      <td>A medalha não cabe na maleta porque a medalha ...</td>\n",
       "      <td></td>\n",
       "      <td></td>\n",
       "      <td>False</td>\n",
       "      <td>False</td>\n",
       "      <td>True</td>\n",
       "    </tr>\n",
       "    <tr>\n",
       "      <th>4</th>\n",
       "      <td>Joan certificou-se de agradecer Susan por toda...</td>\n",
       "      <td>Joan certificou-se de agradecer Susan por toda...</td>\n",
       "      <td>Joan certificou-se de agradecer Susan por toda...</td>\n",
       "      <td>Joan certificou-se de agradecer Susan por toda...</td>\n",
       "      <td>Susan certificou-se de agradecer Joan por toda...</td>\n",
       "      <td>Susan certificou-se de agradecer Joan por toda...</td>\n",
       "      <td>True</td>\n",
       "      <td>False</td>\n",
       "      <td>True</td>\n",
       "    </tr>\n",
       "  </tbody>\n",
       "</table>\n",
       "</div>"
      ],
      "text/plain": [
       "                                    correct_sentence  \\\n",
       "0  Os vereadores recusaram a autorização aos mani...   \n",
       "1  Os vereadores recusaram a autorização aos mani...   \n",
       "2  A medalha não cabe na maleta porque a medalha ...   \n",
       "3  A medalha não cabe na maleta porque a maleta é...   \n",
       "4  Joan certificou-se de agradecer Susan por toda...   \n",
       "\n",
       "                                  incorrect_sentence  \\\n",
       "0  Os vereadores recusaram a autorização aos mani...   \n",
       "1  Os vereadores recusaram a autorização aos mani...   \n",
       "2  A medalha não cabe na maleta porque a maleta é...   \n",
       "3  A medalha não cabe na maleta porque a medalha ...   \n",
       "4  Joan certificou-se de agradecer Susan por toda...   \n",
       "\n",
       "                     manually_fixed_correct_sentence  \\\n",
       "0  Os vereadores recusaram a autorização aos mani...   \n",
       "1  Os vereadores recusaram a autorização aos mani...   \n",
       "2  A medalha não cabe na maleta porque a medalha ...   \n",
       "3  A medalha não cabe na maleta porque a maleta é...   \n",
       "4  Joan certificou-se de agradecer Susan por toda...   \n",
       "\n",
       "                   manually_fixed_incorrect_sentence  \\\n",
       "0  Os vereadores recusaram a autorização aos mani...   \n",
       "1  Os vereadores recusaram a autorização aos mani...   \n",
       "2  A medalha não cabe na maleta porque a maleta é...   \n",
       "3  A medalha não cabe na maleta porque a medalha ...   \n",
       "4  Joan certificou-se de agradecer Susan por toda...   \n",
       "\n",
       "                                    correct_switched  \\\n",
       "0                                                      \n",
       "1                                                      \n",
       "2                                                      \n",
       "3                                                      \n",
       "4  Susan certificou-se de agradecer Joan por toda...   \n",
       "\n",
       "                                  incorrect_switched  is_switchable  \\\n",
       "0                                                             False   \n",
       "1                                                             False   \n",
       "2                                                             False   \n",
       "3                                                             False   \n",
       "4  Susan certificou-se de agradecer Joan por toda...           True   \n",
       "\n",
       "   is_associative  translated  \n",
       "0           False        True  \n",
       "1           False        True  \n",
       "2           False        True  \n",
       "3           False        True  \n",
       "4           False        True  "
      ]
     },
     "execution_count": 7,
     "metadata": {},
     "output_type": "execute_result"
    }
   ],
   "source": [
    "df.head()"
   ]
  },
  {
   "cell_type": "code",
   "execution_count": 8,
   "metadata": {},
   "outputs": [],
   "source": [
    "english = False\n",
    "text_columns = df.loc[:, (df.applymap(type) == str).all(axis=0)].columns\n",
    "wsc_vocab = set(df[text_columns].applymap(lambda x: custom_tokenizer(x, english, for_model=True)).sum().sum())\n",
    "missing_words = list(wsc_vocab - set(corpus.dictionary.word2idx))"
   ]
  },
  {
   "cell_type": "code",
   "execution_count": 9,
   "metadata": {},
   "outputs": [
    {
     "name": "stdout",
     "output_type": "stream",
     "text": [
      "Total WSC vocab 1096\n",
      "Total Missing Words 89\n",
      "Percentage Missing Words 8.12%\n"
     ]
    }
   ],
   "source": [
    "print(f'Total WSC vocab {len(wsc_vocab)}')\n",
    "print(f'Total Missing Words {len(missing_words)}')\n",
    "print(f'Percentage Missing Words {len(missing_words)/len(wsc_vocab)*100:.2f}%')"
   ]
  },
  {
   "cell_type": "code",
   "execution_count": 10,
   "metadata": {},
   "outputs": [],
   "source": [
    "from unittest.mock import patch\n",
    "\n",
    "with patch('src.main.CORPUS_FILE_NAME', 'models/english-wikitext-2/corpus.pkl'), \\\n",
    "  patch('src.winograd_collection_manipulation.wsc_json_handler.WINOGRAD_SCHEMAS_FILE', \n",
    "        'data/processed/english_wsc.json'):\n",
    "    from src.main import get_corpus\n",
    "    from src.winograd_collection_manipulation.text_manipulation import custom_tokenizer\n",
    "    from src.winograd_collection_manipulation.wsc_json_handler import generate_df_from_json\n",
    "    df = generate_df_from_json()\n",
    "    corpus = get_corpus()"
   ]
  },
  {
   "cell_type": "code",
   "execution_count": 11,
   "metadata": {},
   "outputs": [
    {
     "data": {
      "text/plain": [
       "'role'"
      ]
     },
     "execution_count": 11,
     "metadata": {},
     "output_type": "execute_result"
    }
   ],
   "source": [
    "corpus.dictionary.idx2word[20]"
   ]
  },
  {
   "cell_type": "code",
   "execution_count": 12,
   "metadata": {},
   "outputs": [
    {
     "data": {
      "text/html": [
       "<div>\n",
       "<style scoped>\n",
       "    .dataframe tbody tr th:only-of-type {\n",
       "        vertical-align: middle;\n",
       "    }\n",
       "\n",
       "    .dataframe tbody tr th {\n",
       "        vertical-align: top;\n",
       "    }\n",
       "\n",
       "    .dataframe thead th {\n",
       "        text-align: right;\n",
       "    }\n",
       "</style>\n",
       "<table border=\"1\" class=\"dataframe\">\n",
       "  <thead>\n",
       "    <tr style=\"text-align: right;\">\n",
       "      <th></th>\n",
       "      <th>correct_sentence</th>\n",
       "      <th>incorrect_sentence</th>\n",
       "      <th>manually_fixed_correct_sentence</th>\n",
       "      <th>manually_fixed_incorrect_sentence</th>\n",
       "      <th>correct_switched</th>\n",
       "      <th>incorrect_switched</th>\n",
       "      <th>is_switchable</th>\n",
       "      <th>is_associative</th>\n",
       "      <th>translated</th>\n",
       "    </tr>\n",
       "  </thead>\n",
       "  <tbody>\n",
       "    <tr>\n",
       "      <th>0</th>\n",
       "      <td>The city councilmen refused the demonstrators ...</td>\n",
       "      <td>The city councilmen refused the demonstrators ...</td>\n",
       "      <td></td>\n",
       "      <td></td>\n",
       "      <td></td>\n",
       "      <td></td>\n",
       "      <td>False</td>\n",
       "      <td>False</td>\n",
       "      <td>True</td>\n",
       "    </tr>\n",
       "    <tr>\n",
       "      <th>1</th>\n",
       "      <td>The city councilmen refused the demonstrators ...</td>\n",
       "      <td>The city councilmen refused the demonstrators ...</td>\n",
       "      <td></td>\n",
       "      <td></td>\n",
       "      <td></td>\n",
       "      <td></td>\n",
       "      <td>False</td>\n",
       "      <td>False</td>\n",
       "      <td>True</td>\n",
       "    </tr>\n",
       "    <tr>\n",
       "      <th>2</th>\n",
       "      <td>The trophy doesn't fit into the brown suitcase...</td>\n",
       "      <td>The trophy doesn't fit into the brown suitcase...</td>\n",
       "      <td></td>\n",
       "      <td></td>\n",
       "      <td></td>\n",
       "      <td></td>\n",
       "      <td>False</td>\n",
       "      <td>False</td>\n",
       "      <td>True</td>\n",
       "    </tr>\n",
       "    <tr>\n",
       "      <th>3</th>\n",
       "      <td>The trophy doesn't fit into the brown suitcase...</td>\n",
       "      <td>The trophy doesn't fit into the brown suitcase...</td>\n",
       "      <td></td>\n",
       "      <td></td>\n",
       "      <td></td>\n",
       "      <td></td>\n",
       "      <td>False</td>\n",
       "      <td>False</td>\n",
       "      <td>True</td>\n",
       "    </tr>\n",
       "    <tr>\n",
       "      <th>4</th>\n",
       "      <td>Joan made sure to thank Susan for all the help...</td>\n",
       "      <td>Joan made sure to thank Susan for all the help...</td>\n",
       "      <td></td>\n",
       "      <td></td>\n",
       "      <td>Susan made sure to thank Joan for all the help...</td>\n",
       "      <td>Susan made sure to thank Joan for all the help...</td>\n",
       "      <td>True</td>\n",
       "      <td>False</td>\n",
       "      <td>True</td>\n",
       "    </tr>\n",
       "  </tbody>\n",
       "</table>\n",
       "</div>"
      ],
      "text/plain": [
       "                                    correct_sentence  \\\n",
       "0  The city councilmen refused the demonstrators ...   \n",
       "1  The city councilmen refused the demonstrators ...   \n",
       "2  The trophy doesn't fit into the brown suitcase...   \n",
       "3  The trophy doesn't fit into the brown suitcase...   \n",
       "4  Joan made sure to thank Susan for all the help...   \n",
       "\n",
       "                                  incorrect_sentence  \\\n",
       "0  The city councilmen refused the demonstrators ...   \n",
       "1  The city councilmen refused the demonstrators ...   \n",
       "2  The trophy doesn't fit into the brown suitcase...   \n",
       "3  The trophy doesn't fit into the brown suitcase...   \n",
       "4  Joan made sure to thank Susan for all the help...   \n",
       "\n",
       "  manually_fixed_correct_sentence manually_fixed_incorrect_sentence  \\\n",
       "0                                                                     \n",
       "1                                                                     \n",
       "2                                                                     \n",
       "3                                                                     \n",
       "4                                                                     \n",
       "\n",
       "                                    correct_switched  \\\n",
       "0                                                      \n",
       "1                                                      \n",
       "2                                                      \n",
       "3                                                      \n",
       "4  Susan made sure to thank Joan for all the help...   \n",
       "\n",
       "                                  incorrect_switched  is_switchable  \\\n",
       "0                                                             False   \n",
       "1                                                             False   \n",
       "2                                                             False   \n",
       "3                                                             False   \n",
       "4  Susan made sure to thank Joan for all the help...           True   \n",
       "\n",
       "   is_associative  translated  \n",
       "0           False        True  \n",
       "1           False        True  \n",
       "2           False        True  \n",
       "3           False        True  \n",
       "4           False        True  "
      ]
     },
     "execution_count": 12,
     "metadata": {},
     "output_type": "execute_result"
    }
   ],
   "source": [
    "df.head()"
   ]
  },
  {
   "cell_type": "code",
   "execution_count": 13,
   "metadata": {},
   "outputs": [],
   "source": [
    "# Just to check that we have the correct language\n",
    "english = True\n",
    "text_columns = df.loc[:, (df.applymap(type) == str).all(axis=0)].columns\n",
    "wsc_vocab = set(df[text_columns].applymap(lambda x: custom_tokenizer(x, english, for_model=True)).sum().sum())\n",
    "missing_words = list(wsc_vocab - set(corpus.dictionary.word2idx))"
   ]
  },
  {
   "cell_type": "code",
   "execution_count": 14,
   "metadata": {},
   "outputs": [
    {
     "name": "stdout",
     "output_type": "stream",
     "text": [
      "Total WSC vocab 956\n",
      "Total Missing Words 93\n",
      "Percentage Missing Words 9.73%\n"
     ]
    }
   ],
   "source": [
    "print(f'Total WSC vocab {len(wsc_vocab)}')\n",
    "print(f'Total Missing Words {len(missing_words)}')\n",
    "print(f'Percentage Missing Words {len(missing_words)/len(wsc_vocab)*100:.2f}%')"
   ]
  },
  {
   "cell_type": "code",
   "execution_count": null,
   "metadata": {},
   "outputs": [],
   "source": []
  }
 ],
 "metadata": {
  "kernelspec": {
   "display_name": "wsc_port",
   "language": "python",
   "name": "wsc_port"
  },
  "language_info": {
   "codemirror_mode": {
    "name": "ipython",
    "version": 3
   },
   "file_extension": ".py",
   "mimetype": "text/x-python",
   "name": "python",
   "nbconvert_exporter": "python",
   "pygments_lexer": "ipython3",
   "version": "3.6.8"
  }
 },
 "nbformat": 4,
 "nbformat_minor": 2
}
