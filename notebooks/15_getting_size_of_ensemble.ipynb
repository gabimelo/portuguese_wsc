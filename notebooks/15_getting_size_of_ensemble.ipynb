{
 "cells": [
  {
   "cell_type": "code",
   "execution_count": 1,
   "metadata": {},
   "outputs": [],
   "source": [
    "import tensorflow as tf\n",
    "import tensorflow.contrib.slim as slim"
   ]
  },
  {
   "cell_type": "code",
   "execution_count": 2,
   "metadata": {},
   "outputs": [],
   "source": [
    "def model_summary():\n",
    "    model_vars = tf.trainable_variables()\n",
    "    total_size = slim.model_analyzer.analyze_vars(model_vars, print_info=False)\n",
    "    print(\"{:,}\".format(total_size[0]))\n",
    "    \n",
    "    return total_size[0]"
   ]
  },
  {
   "cell_type": "code",
   "execution_count": null,
   "metadata": {},
   "outputs": [
    {
     "name": "stdout",
     "output_type": "stream",
     "text": [
      "INFO:tensorflow:Restoring parameters from ../../models/research/lm_commonsense/reproduce/lm01/ckpt-best\n",
      "1,790,309,632\n",
      "INFO:tensorflow:Restoring parameters from ../../models/research/lm_commonsense/reproduce/lm02/ckpt-best\n",
      "2,075,973,376\n",
      "INFO:tensorflow:Restoring parameters from ../../models/research/lm_commonsense/reproduce/lm03/ckpt-best\n",
      "1,790,309,632\n",
      "INFO:tensorflow:Restoring parameters from ../../models/research/lm_commonsense/reproduce/lm04/ckpt-best\n",
      "1,009,302,272\n",
      "INFO:tensorflow:Restoring parameters from ../../models/research/lm_commonsense/reproduce/lm05/ckpt-best\n"
     ]
    }
   ],
   "source": [
    "size_of_ensemble = 0\n",
    "model_list = ['{:02d}'.format(i+1) for i in range(14)]\n",
    "for model_id in model_list:\n",
    "    tf.reset_default_graph()\n",
    "    sess = tf.Session()\n",
    "    saver = tf.train.import_meta_graph('../../models/research/lm_commonsense/reproduce/lm{}/ckpt-best.meta'.format(model_id))\n",
    "    saver.restore(sess, '../../models/research/lm_commonsense/reproduce/lm{}/ckpt-best'.format(model_id))\n",
    "\n",
    "    size_of_model = model_summary()\n",
    "    size_of_ensemble += size_of_model\n",
    "    \n",
    "print('Size of entire ensemble:', size_of_ensemble)"
   ]
  },
  {
   "cell_type": "code",
   "execution_count": null,
   "metadata": {},
   "outputs": [
    {
     "name": "stdout",
     "output_type": "stream",
     "text": [
      "INFO:tensorflow:Restoring parameters from ../../models/research/lm_commonsense/reproduce/lm05/ckpt-best\n",
      "2,017,255,168\n",
      "INFO:tensorflow:Restoring parameters from ../../models/research/lm_commonsense/reproduce/lm06/ckpt-best\n",
      "1,790,309,632\n",
      "INFO:tensorflow:Restoring parameters from ../../models/research/lm_commonsense/reproduce/lm07/ckpt-best\n",
      "1,790,309,632\n",
      "INFO:tensorflow:Restoring parameters from ../../models/research/lm_commonsense/reproduce/lm08/ckpt-best\n",
      "1,042,864,896\n",
      "INFO:tensorflow:Restoring parameters from ../../models/research/lm_commonsense/reproduce/lm09/ckpt-best\n",
      "1,042,864,896\n",
      "INFO:tensorflow:Restoring parameters from ../../models/research/lm_commonsense/reproduce/lm10/ckpt-best\n",
      "1,042,864,896\n",
      "INFO:tensorflow:Restoring parameters from ../../models/research/lm_commonsense/reproduce/lm11/ckpt-best\n"
     ]
    }
   ],
   "source": [
    "model_list = ['{:02d}'.format(i+5) for i in range(10)]\n",
    "for model_id in model_list:\n",
    "    tf.reset_default_graph()\n",
    "    sess = tf.Session()\n",
    "    saver = tf.train.import_meta_graph('../../models/research/lm_commonsense/reproduce/lm{}/ckpt-best.meta'.format(model_id))\n",
    "    saver.restore(sess, '../../models/research/lm_commonsense/reproduce/lm{}/ckpt-best'.format(model_id))\n",
    "\n",
    "    size_of_model = model_summary()"
   ]
  },
  {
   "cell_type": "code",
   "execution_count": null,
   "metadata": {},
   "outputs": [
    {
     "name": "stdout",
     "output_type": "stream",
     "text": [
      "INFO:tensorflow:Restoring parameters from ../../models/research/lm_commonsense/reproduce/lm11/ckpt-best\n",
      "2,017,255,168\n",
      "INFO:tensorflow:Restoring parameters from ../../models/research/lm_commonsense/reproduce/lm12/ckpt-best\n",
      "1,790,309,632\n",
      "INFO:tensorflow:Restoring parameters from ../../models/research/lm_commonsense/reproduce/lm13/ckpt-best\n",
      "1,790,309,632\n",
      "INFO:tensorflow:Restoring parameters from ../../models/research/lm_commonsense/reproduce/lm14/ckpt-best\n"
     ]
    }
   ],
   "source": [
    "model_list = ['{:02d}'.format(i+11) for i in range(4)]\n",
    "for model_id in model_list:\n",
    "    tf.reset_default_graph()\n",
    "    sess = tf.Session()\n",
    "    saver = tf.train.import_meta_graph('../../models/research/lm_commonsense/reproduce/lm{}/ckpt-best.meta'.format(model_id))\n",
    "    saver.restore(sess, '../../models/research/lm_commonsense/reproduce/lm{}/ckpt-best'.format(model_id))\n",
    "\n",
    "    size_of_model = model_summary()"
   ]
  },
  {
   "cell_type": "code",
   "execution_count": null,
   "metadata": {},
   "outputs": [
    {
     "name": "stdout",
     "output_type": "stream",
     "text": [
      "INFO:tensorflow:Restoring parameters from ../../models/research/lm_commonsense/reproduce/lm14/ckpt-best\n"
     ]
    }
   ],
   "source": [
    "model_list = ['{:02d}'.format(14)]\n",
    "for model_id in model_list:\n",
    "    tf.reset_default_graph()\n",
    "    sess = tf.Session()\n",
    "    saver = tf.train.import_meta_graph('../../models/research/lm_commonsense/reproduce/lm{}/ckpt-best.meta'.format(model_id))\n",
    "    saver.restore(sess, '../../models/research/lm_commonsense/reproduce/lm{}/ckpt-best'.format(model_id))\n",
    "\n",
    "    size_of_model = model_summary()"
   ]
  },
  {
   "cell_type": "code",
   "execution_count": null,
   "metadata": {},
   "outputs": [],
   "source": [
    "# manual sum of all model parameters:\n",
    "1,790,309,632 + 2,075,973,376 + 1,790,309,632 + 1,009,302,272 + \\\n",
    "2,017,255,168 + 1,790,309,632 + 1,790,309,632 + 1,042,864,896 + \\\n",
    "1,042,864,896 + 1,042,864,896 + 2,017,255,168 + 1,790,309,632 + \\\n",
    "1,790,309,632 + "
   ]
  },
  {
   "cell_type": "code",
   "execution_count": null,
   "metadata": {},
   "outputs": [],
   "source": []
  }
 ],
 "metadata": {
  "kernelspec": {
   "display_name": "wsc_port",
   "language": "python",
   "name": "wsc_port"
  },
  "language_info": {
   "codemirror_mode": {
    "name": "ipython",
    "version": 3
   },
   "file_extension": ".py",
   "mimetype": "text/x-python",
   "name": "python",
   "nbconvert_exporter": "python",
   "pygments_lexer": "ipython3",
   "version": "3.6.8"
  }
 },
 "nbformat": 4,
 "nbformat_minor": 2
}
