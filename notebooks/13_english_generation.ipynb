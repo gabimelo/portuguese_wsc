{
 "cells": [
  {
   "cell_type": "code",
   "execution_count": 1,
   "metadata": {},
   "outputs": [],
   "source": [
    "import os\n",
    "os.chdir('..')\n",
    "\n",
    "%load_ext autoreload\n",
    "%autoreload 2"
   ]
  },
  {
   "cell_type": "code",
   "execution_count": 2,
   "metadata": {},
   "outputs": [],
   "source": [
    "import torch\n",
    "\n",
    "from src.consts import *\n",
    "from src.main import main, setup_torch, get_corpus\n",
    "from src.utils import get_latest_model_file\n",
    "from src.generation import generate"
   ]
  },
  {
   "cell_type": "code",
   "execution_count": 3,
   "metadata": {},
   "outputs": [],
   "source": [
    "setup_torch()\n",
    "device = torch.device(\"cuda\" if USE_CUDA else \"cpu\")\n",
    "corpus = get_corpus()\n",
    "ntokens = len(corpus.dictionary)\n",
    "\n",
    "assert corpus.train.max() < ntokens\n",
    "assert corpus.valid.max() < ntokens\n",
    "assert corpus.test.max() < ntokens"
   ]
  },
  {
   "cell_type": "code",
   "execution_count": 4,
   "metadata": {},
   "outputs": [],
   "source": [
    "model_file_name = get_latest_model_file()"
   ]
  },
  {
   "cell_type": "code",
   "execution_count": 5,
   "metadata": {},
   "outputs": [],
   "source": [
    "words, words_probs = generate(model_file_name, corpus, ntokens, device)"
   ]
  },
  {
   "cell_type": "code",
   "execution_count": 6,
   "metadata": {},
   "outputs": [
    {
     "data": {
      "text/plain": [
       "'poem to associate New York City . The video also interviewed the building in a similar novel as a writer , one part of 3 % of both sex blood , and fall in a middle of his unfamiliar 1963 \" In Bloom \" at the top of 46 games , published in 2000 . In 1985 , it cite approximately the lyrics of all these the fresh tracks of Fourth American women . In support of Mark won the mystery show and launched a series of fibers in the show stage . However , the episode received strong acclaim from critics . The Abdirashid for Kheops Music . It was the fifth @-@ largest defense of the series \\'s collaborator and \" <unk> core <unk> . \" Plus & T filed he primarily high industry . At the conclusion of 2016 Carlson bids to experienced directing adventure games production . Mitch Wright did so out of the character as a bit @-@ looking maps to find the band introduced / Dave Alec <unk> as a writers who would learn understanding working <unk> , but he had a previously respected firing singers , released to the commercial location of \" Ride in a kind of her <unk> \" . Prime Cadets discussed this element of writing trade with the speaker \\'s previous films directed in Tokyo , with required them to draw the <unk> as they would create the physical development and officially <unk> . All <unk> @-@ <unk> Games deals with The spinoff Vol . 18 awards , released in 1967 . Between the original and subsequent , two of these GPUs continued up as of the 1994 film The <unk> . <eos> The studio , which differed by mainly or completed for their limiting participation , faced the hero \\'s come through the succession of 1 @-@ fifth . Due to most of their previous delays in the market , these guests take place at the terminating of issues against Broadway Live . <unk> Movie website renamed Crush Blue 1 : 6 and <unk> the interviewing drum characters from Broadway by Sigmund Reese — but chose only as a \\' Gameplay \\' for revival in the Dutch government . It is an issue of G. Spector \\'s Marlon 819 , which allows these characters to use a story in 3D which was as trying to space a sense of illusion . Live Thomas Lamb made Valve the name <unk> , in which the crew have succeeded through various way to its children . In the other maps of the story specialized in handling conversations , \" puppeteers typical diction calls no even faithful and orders <unk> this look \" . During the writing @-@ off version at a meeting between the school and criticism of <unk> , the rest of the Fastra II was white , and rejected the action content on the internet . Shea was waiting for this then collect a full fan , and that the Japanese had several <unk> and making the chances of creating an @-@ video structure for witnesses and Hong Kong in the film . Ni , Raiden , Snake Monastery , and headed through the M @-@ Stop Star VII @-@ Mart @-@ <unk> minute <unk> he \\'s Vulcan neighbor , was the second @-@ generation game consisting of several other characters in the \" <unk> model \" project . <eos> When Brooks assumed the commander of The A.V. Club , he said , \" Blofeld in his book \" Role by Looking Glass halted the puppets in their predecessor , which exploits Brooks \\'s ambition and release in the 1960s . Following the release of Fez , the film production drew out an unusual truncation in 2013 as passed in 1982 . The developers subsequently bought <unk> on BBC Radio the cassette issues EP by IGN Soorma . In 1984 , a CD version shared with new web roles , and was invited to downloadable radio influences between American <unk> and Rio de Janeiro in 2007 , while Basement Hero finished on Dota 2 when it was announced on February 4 , 1960 . Two months later a 2010 update provided DuMont & $ 50 million annually . <eos> The Games at University Electronic Arts flew on NBC in both the 2014 film Super Science Stories . He wrote that they could get confusing projects , but began to feature with two commercial controllers , made by slots like Pokiri — to continue to look on the developer and denied , while Wilde \\'s rival Mead was assigned to rotation into the 2015 archive . <unk> for the first company of Dylan \\' shows became all a decision in development maps , and praised the effect , and encouraged to allow its reputation for the series to be extremely expensive . <eos> Steve Hama , the film \\'s producer Steve <unk> , <unk> Rocks <unk> , made a documentary director with music composer Jeff Anderson . The film was conceived through <unk> satellite <unk> and other DuMont film \\'s music hardware . The music industry is still broadcast in the previous decades , albeit the country \\'s highest boundaries in the world . Elements of the series were well received in the game . Hellblazer AOL For The Band of 2010 by the <unk> <unk> rehearsing to youths the FAU @-@ GPU series , Courier @-@ <unk> developer and Glen Ball and Sciences . Guitar Hero : Aerosmith was first released to promote the PlayStation Vita for Nintendo music and field in March and 15 years into Japan . It was some centers in 30 @.@ 4 % , with 3 @.@ 64 million viewers and <unk> @-@ 1 in 1990 . <eos> As the film \\'s ratings , it premiered the 10th Annual 2000s Award at the Nippon Budokan , <unk> in 1975 . Among the foremost terrifying Galaxy or commercial animation in India , the PBS NASA Pictures'"
      ]
     },
     "execution_count": 6,
     "metadata": {},
     "output_type": "execute_result"
    }
   ],
   "source": [
    "(' ').join(words)"
   ]
  },
  {
   "cell_type": "code",
   "execution_count": null,
   "metadata": {},
   "outputs": [],
   "source": []
  }
 ],
 "metadata": {
  "kernelspec": {
   "display_name": "wsc_port",
   "language": "python",
   "name": "wsc_port"
  },
  "language_info": {
   "codemirror_mode": {
    "name": "ipython",
    "version": 3
   },
   "file_extension": ".py",
   "mimetype": "text/x-python",
   "name": "python",
   "nbconvert_exporter": "python",
   "pygments_lexer": "ipython3",
   "version": "3.6.8"
  }
 },
 "nbformat": 4,
 "nbformat_minor": 2
}
